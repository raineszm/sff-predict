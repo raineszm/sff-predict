{
 "cells": [
  {
   "cell_type": "code",
   "execution_count": 2,
   "metadata": {},
   "outputs": [],
   "source": [
    "import pandas as pd\n",
    "import numpy as np \n",
    "import seaborn as sns\n",
    "from sentence_transformers import SentenceTransformer\n",
    "\n"
   ]
  },
  {
   "cell_type": "code",
   "execution_count": 46,
   "metadata": {},
   "outputs": [
    {
     "name": "stdout",
     "output_type": "stream",
     "text": [
      "<class 'pandas.core.frame.DataFrame'>\n",
      "RangeIndex: 12564 entries, 0 to 12563\n",
      "Data columns (total 2 columns):\n",
      " #   Column    Non-Null Count  Dtype \n",
      "---  ------    --------------  ----- \n",
      " 0   index     12564 non-null  int64 \n",
      " 1   headline  12564 non-null  object\n",
      "dtypes: int64(1), object(1)\n",
      "memory usage: 196.4+ KB\n"
     ]
    }
   ],
   "source": [
    "df = pd.read_json(\"../data/raw/nytimes_headlines.json\")\n",
    "df = df.rename(columns={0: \"headline\"})\n",
    "df = df.drop(df[df.headline.str.contains(\"No Title\")].index).reset_index()\n",
    "df.info()"
   ]
  },
  {
   "cell_type": "code",
   "execution_count": 47,
   "metadata": {},
   "outputs": [
    {
     "data": {
      "text/html": [
       "<div>\n",
       "<style scoped>\n",
       "    .dataframe tbody tr th:only-of-type {\n",
       "        vertical-align: middle;\n",
       "    }\n",
       "\n",
       "    .dataframe tbody tr th {\n",
       "        vertical-align: top;\n",
       "    }\n",
       "\n",
       "    .dataframe thead th {\n",
       "        text-align: right;\n",
       "    }\n",
       "</style>\n",
       "<table border=\"1\" class=\"dataframe\">\n",
       "  <thead>\n",
       "    <tr style=\"text-align: right;\">\n",
       "      <th></th>\n",
       "      <th>index</th>\n",
       "      <th>headline</th>\n",
       "    </tr>\n",
       "  </thead>\n",
       "  <tbody>\n",
       "    <tr>\n",
       "      <th>0</th>\n",
       "      <td>0</td>\n",
       "      <td>STOCK FLOTATIONS SURGED IN MONTH; $80,649,000 ...</td>\n",
       "    </tr>\n",
       "    <tr>\n",
       "      <th>1</th>\n",
       "      <td>1</td>\n",
       "      <td>Italy Reprieves Slot Machines</td>\n",
       "    </tr>\n",
       "    <tr>\n",
       "      <th>2</th>\n",
       "      <td>2</td>\n",
       "      <td>Mayor Going to Albany For Inauguration Today</td>\n",
       "    </tr>\n",
       "    <tr>\n",
       "      <th>3</th>\n",
       "      <td>3</td>\n",
       "      <td>Three Tie for First Place</td>\n",
       "    </tr>\n",
       "    <tr>\n",
       "      <th>4</th>\n",
       "      <td>4</td>\n",
       "      <td>Imperial Oil Aide on Board</td>\n",
       "    </tr>\n",
       "  </tbody>\n",
       "</table>\n",
       "</div>"
      ],
      "text/plain": [
       "   index                                           headline\n",
       "0      0  STOCK FLOTATIONS SURGED IN MONTH; $80,649,000 ...\n",
       "1      1                      Italy Reprieves Slot Machines\n",
       "2      2       Mayor Going to Albany For Inauguration Today\n",
       "3      3                          Three Tie for First Place\n",
       "4      4                         Imperial Oil Aide on Board"
      ]
     },
     "execution_count": 47,
     "metadata": {},
     "output_type": "execute_result"
    }
   ],
   "source": [
    "df.head()"
   ]
  },
  {
   "cell_type": "code",
   "execution_count": 48,
   "metadata": {},
   "outputs": [],
   "source": [
    "model = SentenceTransformer(\"all-MiniLM-L6-v2\")\n",
    "embeddings = model.encode(df.headline)"
   ]
  },
  {
   "cell_type": "code",
   "execution_count": 20,
   "metadata": {},
   "outputs": [
    {
     "data": {
      "text/html": [
       "<div>\n",
       "<style scoped>\n",
       "    .dataframe tbody tr th:only-of-type {\n",
       "        vertical-align: middle;\n",
       "    }\n",
       "\n",
       "    .dataframe tbody tr th {\n",
       "        vertical-align: top;\n",
       "    }\n",
       "\n",
       "    .dataframe thead th {\n",
       "        text-align: right;\n",
       "    }\n",
       "</style>\n",
       "<table border=\"1\" class=\"dataframe\">\n",
       "  <thead>\n",
       "    <tr style=\"text-align: right;\">\n",
       "      <th></th>\n",
       "      <th>0</th>\n",
       "      <th>1</th>\n",
       "      <th>2</th>\n",
       "      <th>3</th>\n",
       "      <th>4</th>\n",
       "      <th>5</th>\n",
       "      <th>6</th>\n",
       "      <th>7</th>\n",
       "      <th>8</th>\n",
       "      <th>9</th>\n",
       "      <th>...</th>\n",
       "      <th>374</th>\n",
       "      <th>375</th>\n",
       "      <th>376</th>\n",
       "      <th>377</th>\n",
       "      <th>378</th>\n",
       "      <th>379</th>\n",
       "      <th>380</th>\n",
       "      <th>381</th>\n",
       "      <th>382</th>\n",
       "      <th>383</th>\n",
       "    </tr>\n",
       "  </thead>\n",
       "  <tbody>\n",
       "    <tr>\n",
       "      <th>0</th>\n",
       "      <td>0.009170</td>\n",
       "      <td>-0.032507</td>\n",
       "      <td>-0.023817</td>\n",
       "      <td>0.105160</td>\n",
       "      <td>0.010962</td>\n",
       "      <td>-0.023618</td>\n",
       "      <td>-0.013871</td>\n",
       "      <td>0.107328</td>\n",
       "      <td>-0.041880</td>\n",
       "      <td>-0.044648</td>\n",
       "      <td>...</td>\n",
       "      <td>0.034181</td>\n",
       "      <td>0.019903</td>\n",
       "      <td>-0.022057</td>\n",
       "      <td>0.041632</td>\n",
       "      <td>-0.033228</td>\n",
       "      <td>-0.051318</td>\n",
       "      <td>-0.007030</td>\n",
       "      <td>-0.198016</td>\n",
       "      <td>-0.038070</td>\n",
       "      <td>0.063735</td>\n",
       "    </tr>\n",
       "    <tr>\n",
       "      <th>1</th>\n",
       "      <td>-0.088845</td>\n",
       "      <td>0.033788</td>\n",
       "      <td>-0.055447</td>\n",
       "      <td>0.036071</td>\n",
       "      <td>-0.112650</td>\n",
       "      <td>-0.001982</td>\n",
       "      <td>0.023443</td>\n",
       "      <td>-0.005132</td>\n",
       "      <td>0.001620</td>\n",
       "      <td>-0.043282</td>\n",
       "      <td>...</td>\n",
       "      <td>0.063477</td>\n",
       "      <td>0.042395</td>\n",
       "      <td>0.040532</td>\n",
       "      <td>0.077330</td>\n",
       "      <td>0.094920</td>\n",
       "      <td>0.061836</td>\n",
       "      <td>-0.001583</td>\n",
       "      <td>-0.006795</td>\n",
       "      <td>-0.020796</td>\n",
       "      <td>-0.000644</td>\n",
       "    </tr>\n",
       "    <tr>\n",
       "      <th>2</th>\n",
       "      <td>-0.034970</td>\n",
       "      <td>0.090391</td>\n",
       "      <td>0.109762</td>\n",
       "      <td>-0.024841</td>\n",
       "      <td>-0.078084</td>\n",
       "      <td>0.010870</td>\n",
       "      <td>0.073226</td>\n",
       "      <td>0.005116</td>\n",
       "      <td>-0.106012</td>\n",
       "      <td>0.000121</td>\n",
       "      <td>...</td>\n",
       "      <td>0.015394</td>\n",
       "      <td>-0.017323</td>\n",
       "      <td>-0.101041</td>\n",
       "      <td>0.067641</td>\n",
       "      <td>-0.017842</td>\n",
       "      <td>0.020313</td>\n",
       "      <td>0.007027</td>\n",
       "      <td>-0.025982</td>\n",
       "      <td>0.000882</td>\n",
       "      <td>-0.027439</td>\n",
       "    </tr>\n",
       "    <tr>\n",
       "      <th>3</th>\n",
       "      <td>-0.002881</td>\n",
       "      <td>-0.002144</td>\n",
       "      <td>-0.086286</td>\n",
       "      <td>-0.038686</td>\n",
       "      <td>-0.005081</td>\n",
       "      <td>0.052005</td>\n",
       "      <td>-0.005780</td>\n",
       "      <td>-0.014854</td>\n",
       "      <td>0.078658</td>\n",
       "      <td>-0.007532</td>\n",
       "      <td>...</td>\n",
       "      <td>0.057623</td>\n",
       "      <td>0.044072</td>\n",
       "      <td>-0.021265</td>\n",
       "      <td>0.025061</td>\n",
       "      <td>-0.094952</td>\n",
       "      <td>0.056536</td>\n",
       "      <td>-0.036046</td>\n",
       "      <td>-0.047084</td>\n",
       "      <td>0.037562</td>\n",
       "      <td>0.012289</td>\n",
       "    </tr>\n",
       "    <tr>\n",
       "      <th>4</th>\n",
       "      <td>-0.049082</td>\n",
       "      <td>-0.047072</td>\n",
       "      <td>0.018786</td>\n",
       "      <td>0.033728</td>\n",
       "      <td>0.009560</td>\n",
       "      <td>0.027688</td>\n",
       "      <td>-0.026062</td>\n",
       "      <td>0.061782</td>\n",
       "      <td>-0.032944</td>\n",
       "      <td>-0.098341</td>\n",
       "      <td>...</td>\n",
       "      <td>0.017256</td>\n",
       "      <td>-0.051608</td>\n",
       "      <td>-0.064796</td>\n",
       "      <td>-0.002627</td>\n",
       "      <td>-0.014820</td>\n",
       "      <td>-0.006872</td>\n",
       "      <td>-0.072870</td>\n",
       "      <td>-0.036834</td>\n",
       "      <td>-0.036593</td>\n",
       "      <td>-0.010620</td>\n",
       "    </tr>\n",
       "  </tbody>\n",
       "</table>\n",
       "<p>5 rows × 384 columns</p>\n",
       "</div>"
      ],
      "text/plain": [
       "        0         1         2         3         4         5         6    \\\n",
       "0  0.009170 -0.032507 -0.023817  0.105160  0.010962 -0.023618 -0.013871   \n",
       "1 -0.088845  0.033788 -0.055447  0.036071 -0.112650 -0.001982  0.023443   \n",
       "2 -0.034970  0.090391  0.109762 -0.024841 -0.078084  0.010870  0.073226   \n",
       "3 -0.002881 -0.002144 -0.086286 -0.038686 -0.005081  0.052005 -0.005780   \n",
       "4 -0.049082 -0.047072  0.018786  0.033728  0.009560  0.027688 -0.026062   \n",
       "\n",
       "        7         8         9    ...       374       375       376       377  \\\n",
       "0  0.107328 -0.041880 -0.044648  ...  0.034181  0.019903 -0.022057  0.041632   \n",
       "1 -0.005132  0.001620 -0.043282  ...  0.063477  0.042395  0.040532  0.077330   \n",
       "2  0.005116 -0.106012  0.000121  ...  0.015394 -0.017323 -0.101041  0.067641   \n",
       "3 -0.014854  0.078658 -0.007532  ...  0.057623  0.044072 -0.021265  0.025061   \n",
       "4  0.061782 -0.032944 -0.098341  ...  0.017256 -0.051608 -0.064796 -0.002627   \n",
       "\n",
       "        378       379       380       381       382       383  \n",
       "0 -0.033228 -0.051318 -0.007030 -0.198016 -0.038070  0.063735  \n",
       "1  0.094920  0.061836 -0.001583 -0.006795 -0.020796 -0.000644  \n",
       "2 -0.017842  0.020313  0.007027 -0.025982  0.000882 -0.027439  \n",
       "3 -0.094952  0.056536 -0.036046 -0.047084  0.037562  0.012289  \n",
       "4 -0.014820 -0.006872 -0.072870 -0.036834 -0.036593 -0.010620  \n",
       "\n",
       "[5 rows x 384 columns]"
      ]
     },
     "execution_count": 20,
     "metadata": {},
     "output_type": "execute_result"
    }
   ],
   "source": [
    "df_e = pd.DataFrame(embeddings)\n",
    "df_e.head()"
   ]
  },
  {
   "cell_type": "code",
   "execution_count": 22,
   "metadata": {},
   "outputs": [],
   "source": [
    "from sklearn.cluster import AgglomerativeClustering"
   ]
  },
  {
   "cell_type": "code",
   "execution_count": 49,
   "metadata": {},
   "outputs": [],
   "source": [
    "cmodel = AgglomerativeClustering(n_clusters=None, metric='cosine', linkage='average', distance_threshold=0.2)\n",
    "a_clusters = cmodel.fit(embeddings)"
   ]
  },
  {
   "cell_type": "code",
   "execution_count": 50,
   "metadata": {},
   "outputs": [
    {
     "data": {
      "text/plain": [
       "324    31\n",
       "259    27\n",
       "171    26\n",
       "152    25\n",
       "264    23\n",
       "Name: count, dtype: int64"
      ]
     },
     "execution_count": 50,
     "metadata": {},
     "output_type": "execute_result"
    }
   ],
   "source": [
    "\n",
    "pd.Series(a_clusters.labels_).value_counts().head(5)"
   ]
  },
  {
   "cell_type": "code",
   "execution_count": 53,
   "metadata": {},
   "outputs": [
    {
     "data": {
      "text/html": [
       "<div>\n",
       "<style scoped>\n",
       "    .dataframe tbody tr th:only-of-type {\n",
       "        vertical-align: middle;\n",
       "    }\n",
       "\n",
       "    .dataframe tbody tr th {\n",
       "        vertical-align: top;\n",
       "    }\n",
       "\n",
       "    .dataframe thead th {\n",
       "        text-align: right;\n",
       "    }\n",
       "</style>\n",
       "<table border=\"1\" class=\"dataframe\">\n",
       "  <thead>\n",
       "    <tr style=\"text-align: right;\">\n",
       "      <th></th>\n",
       "      <th>index</th>\n",
       "      <th>headline</th>\n",
       "    </tr>\n",
       "  </thead>\n",
       "  <tbody>\n",
       "    <tr>\n",
       "      <th>331</th>\n",
       "      <td>345</td>\n",
       "      <td>MUSIC NOTES</td>\n",
       "    </tr>\n",
       "    <tr>\n",
       "      <th>722</th>\n",
       "      <td>757</td>\n",
       "      <td>MUSIC NOTES</td>\n",
       "    </tr>\n",
       "    <tr>\n",
       "      <th>1690</th>\n",
       "      <td>1764</td>\n",
       "      <td>MUSIC NOTES</td>\n",
       "    </tr>\n",
       "    <tr>\n",
       "      <th>1943</th>\n",
       "      <td>2026</td>\n",
       "      <td>MUSIC NOTES</td>\n",
       "    </tr>\n",
       "    <tr>\n",
       "      <th>2473</th>\n",
       "      <td>2570</td>\n",
       "      <td>MUSIC NOTES</td>\n",
       "    </tr>\n",
       "    <tr>\n",
       "      <th>2676</th>\n",
       "      <td>2781</td>\n",
       "      <td>MUSIC NOTES</td>\n",
       "    </tr>\n",
       "    <tr>\n",
       "      <th>3254</th>\n",
       "      <td>3379</td>\n",
       "      <td>MUSIC NOTES</td>\n",
       "    </tr>\n",
       "    <tr>\n",
       "      <th>3485</th>\n",
       "      <td>3622</td>\n",
       "      <td>MUSIC NOTES</td>\n",
       "    </tr>\n",
       "    <tr>\n",
       "      <th>4310</th>\n",
       "      <td>4472</td>\n",
       "      <td>MUSIC NOTES</td>\n",
       "    </tr>\n",
       "    <tr>\n",
       "      <th>4948</th>\n",
       "      <td>5130</td>\n",
       "      <td>MUSIC NOTES</td>\n",
       "    </tr>\n",
       "    <tr>\n",
       "      <th>5542</th>\n",
       "      <td>5739</td>\n",
       "      <td>MUSIC NOTES</td>\n",
       "    </tr>\n",
       "    <tr>\n",
       "      <th>5817</th>\n",
       "      <td>6021</td>\n",
       "      <td>MUSIC NOTES</td>\n",
       "    </tr>\n",
       "    <tr>\n",
       "      <th>6470</th>\n",
       "      <td>6706</td>\n",
       "      <td>MUSIC NOTES</td>\n",
       "    </tr>\n",
       "    <tr>\n",
       "      <th>6574</th>\n",
       "      <td>6814</td>\n",
       "      <td>MUSIC NOTES</td>\n",
       "    </tr>\n",
       "    <tr>\n",
       "      <th>7870</th>\n",
       "      <td>8148</td>\n",
       "      <td>MUSIC NOTES</td>\n",
       "    </tr>\n",
       "    <tr>\n",
       "      <th>8176</th>\n",
       "      <td>8464</td>\n",
       "      <td>MUSIC NOTES</td>\n",
       "    </tr>\n",
       "    <tr>\n",
       "      <th>8446</th>\n",
       "      <td>8742</td>\n",
       "      <td>MUSIC NOTES</td>\n",
       "    </tr>\n",
       "    <tr>\n",
       "      <th>9049</th>\n",
       "      <td>9378</td>\n",
       "      <td>MUSIC NOTES</td>\n",
       "    </tr>\n",
       "    <tr>\n",
       "      <th>9153</th>\n",
       "      <td>9488</td>\n",
       "      <td>MUSIC NOTES</td>\n",
       "    </tr>\n",
       "    <tr>\n",
       "      <th>9617</th>\n",
       "      <td>9977</td>\n",
       "      <td>MUSIC NOTES</td>\n",
       "    </tr>\n",
       "    <tr>\n",
       "      <th>10557</th>\n",
       "      <td>10949</td>\n",
       "      <td>MUSIC NOTES</td>\n",
       "    </tr>\n",
       "    <tr>\n",
       "      <th>10741</th>\n",
       "      <td>11142</td>\n",
       "      <td>MUSIC NOTES</td>\n",
       "    </tr>\n",
       "    <tr>\n",
       "      <th>11348</th>\n",
       "      <td>11767</td>\n",
       "      <td>MUSIC NOTES</td>\n",
       "    </tr>\n",
       "    <tr>\n",
       "      <th>11693</th>\n",
       "      <td>12127</td>\n",
       "      <td>MUSIC NOTES</td>\n",
       "    </tr>\n",
       "    <tr>\n",
       "      <th>11997</th>\n",
       "      <td>12445</td>\n",
       "      <td>MUSIC NOTES</td>\n",
       "    </tr>\n",
       "    <tr>\n",
       "      <th>12419</th>\n",
       "      <td>12883</td>\n",
       "      <td>MUSIC NOTES</td>\n",
       "    </tr>\n",
       "  </tbody>\n",
       "</table>\n",
       "</div>"
      ],
      "text/plain": [
       "       index     headline\n",
       "331      345  MUSIC NOTES\n",
       "722      757  MUSIC NOTES\n",
       "1690    1764  MUSIC NOTES\n",
       "1943    2026  MUSIC NOTES\n",
       "2473    2570  MUSIC NOTES\n",
       "2676    2781  MUSIC NOTES\n",
       "3254    3379  MUSIC NOTES\n",
       "3485    3622  MUSIC NOTES\n",
       "4310    4472  MUSIC NOTES\n",
       "4948    5130  MUSIC NOTES\n",
       "5542    5739  MUSIC NOTES\n",
       "5817    6021  MUSIC NOTES\n",
       "6470    6706  MUSIC NOTES\n",
       "6574    6814  MUSIC NOTES\n",
       "7870    8148  MUSIC NOTES\n",
       "8176    8464  MUSIC NOTES\n",
       "8446    8742  MUSIC NOTES\n",
       "9049    9378  MUSIC NOTES\n",
       "9153    9488  MUSIC NOTES\n",
       "9617    9977  MUSIC NOTES\n",
       "10557  10949  MUSIC NOTES\n",
       "10741  11142  MUSIC NOTES\n",
       "11348  11767  MUSIC NOTES\n",
       "11693  12127  MUSIC NOTES\n",
       "11997  12445  MUSIC NOTES\n",
       "12419  12883  MUSIC NOTES"
      ]
     },
     "execution_count": 53,
     "metadata": {},
     "output_type": "execute_result"
    }
   ],
   "source": [
    "df[a_clusters.labels_ == 171]"
   ]
  },
  {
   "cell_type": "code",
   "execution_count": 55,
   "metadata": {},
   "outputs": [
    {
     "data": {
      "text/plain": [
       "Index(['abstract', 'web_url', 'snippet', 'lead_paragraph', 'print_page',\n",
       "       'source', 'multimedia', 'headline', 'keywords', 'pub_date',\n",
       "       'document_type', 'news_desk', 'section_name', 'byline',\n",
       "       'type_of_material', '_id', 'word_count', 'uri', 'print_section'],\n",
       "      dtype='object')"
      ]
     },
     "execution_count": 55,
     "metadata": {},
     "output_type": "execute_result"
    }
   ],
   "source": [
    "nyt = pd.read_json(\"../data/raw/nytimes_articles.json\")\n",
    "nyt.columns"
   ]
  },
  {
   "cell_type": "code",
   "execution_count": 88,
   "metadata": {},
   "outputs": [],
   "source": [
    "nyt['main_headline'] = nyt.headline.map(lambda x: x[\"main\"])"
   ]
  },
  {
   "cell_type": "code",
   "execution_count": 89,
   "metadata": {},
   "outputs": [],
   "source": [
    "emodel = SentenceTransformer(\"all-MiniLM-L6-v2\")\n",
    "abstract_embeddings = emodel.encode(nyt.main_headline + ' - ' + nyt.abstract)"
   ]
  },
  {
   "cell_type": "code",
   "execution_count": 110,
   "metadata": {},
   "outputs": [],
   "source": [
    "ac_model= AgglomerativeClustering(n_clusters=None, metric='cosine', linkage='average', distance_threshold=0.4)\n",
    "abstract_clusters = ac_model.fit(abstract_embeddings)"
   ]
  },
  {
   "cell_type": "code",
   "execution_count": 111,
   "metadata": {},
   "outputs": [
    {
     "data": {
      "text/plain": [
       "10162"
      ]
     },
     "execution_count": 111,
     "metadata": {},
     "output_type": "execute_result"
    }
   ],
   "source": [
    "ac_model.n_clusters_"
   ]
  },
  {
   "cell_type": "code",
   "execution_count": 112,
   "metadata": {},
   "outputs": [
    {
     "data": {
      "text/plain": [
       "356      337\n",
       "1190      57\n",
       "66        36\n",
       "556       28\n",
       "1169      25\n",
       "        ... \n",
       "8521       1\n",
       "10011      1\n",
       "7546       1\n",
       "6664       1\n",
       "1755       1\n",
       "Name: count, Length: 10162, dtype: int64"
      ]
     },
     "execution_count": 112,
     "metadata": {},
     "output_type": "execute_result"
    }
   ],
   "source": [
    "df_labels = pd.Series(ac_model.labels_)\n",
    "df_labels.value_counts()"
   ]
  },
  {
   "cell_type": "code",
   "execution_count": 118,
   "metadata": {},
   "outputs": [
    {
     "data": {
      "text/plain": [
       "4565    {'main': 'ROSY GLOW TINTS EARNINGS PICTURE; Co...\n",
       "Name: headline, dtype: object"
      ]
     },
     "execution_count": 118,
     "metadata": {},
     "output_type": "execute_result"
    }
   ],
   "source": [
    "nyt[df_labels == 8521].headline "
   ]
  },
  {
   "cell_type": "code",
   "execution_count": null,
   "metadata": {},
   "outputs": [],
   "source": []
  },
  {
   "cell_type": "markdown",
   "metadata": {},
   "source": []
  }
 ],
 "metadata": {
  "kernelspec": {
   "display_name": "default",
   "language": "python",
   "name": "python3"
  },
  "language_info": {
   "codemirror_mode": {
    "name": "ipython",
    "version": 3
   },
   "file_extension": ".py",
   "mimetype": "text/x-python",
   "name": "python",
   "nbconvert_exporter": "python",
   "pygments_lexer": "ipython3",
   "version": "3.12.10"
  }
 },
 "nbformat": 4,
 "nbformat_minor": 2
}
