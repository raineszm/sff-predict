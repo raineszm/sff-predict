{
 "cells": [
  {
   "cell_type": "code",
   "execution_count": 1,
   "metadata": {},
   "outputs": [],
   "source": [
    "%load_ext autoreload\n",
    "%autoreload 2\n",
    "import pandas as pd\n",
    "import numpy as np\n",
    "import seaborn as sns\n",
    "import sys\n",
    "sys.path.append(\"../\")\n",
    "from models.topics import TopicExtractionModel\n",
    "from sentence_transformers import SentenceTransformer"
   ]
  },
  {
   "cell_type": "code",
   "execution_count": 2,
   "metadata": {},
   "outputs": [],
   "source": [
    "headlines = pd.read_json(\"../data/raw/headlines.json\", lines=True)\n",
    "headline_embeddings = pd.read_parquet(\"../data/headline_embeddings.parquet\")\n",
    "headlines_merged = pd.merge(headlines, headline_embeddings, on=\"id\", how=\"left\")"
   ]
  },
  {
   "cell_type": "code",
   "execution_count": 93,
   "metadata": {},
   "outputs": [
    {
     "data": {
      "text/plain": [
       "<models.topics.TopicExtractionModel at 0x335f171d0>"
      ]
     },
     "execution_count": 93,
     "metadata": {},
     "output_type": "execute_result"
    }
   ],
   "source": [
    "from models.topics import NonStationaryFilter, HighKurtosisFilter, CompoundFilter\n",
    "YEAR = 1977\n",
    "sample_year = headlines_merged[headlines_merged[\"year\"] == YEAR]\n",
    "\n",
    "model = SentenceTransformer(\"all-MiniLM-L6-v2\")\n",
    "ns_filter = NonStationaryFilter(pvalue_threshold=0.1, n_periods=3)\n",
    "kt_filter = HighKurtosisFilter(kurtosis_threshold=2)\n",
    "compound_filter = CompoundFilter([ns_filter, kt_filter])\n",
    "tm = TopicExtractionModel(model, topic_filter=compound_filter)\n",
    "tm.fit(sample_year[\"headline\"].tolist(), np.stack(sample_year[\"embedding\"].tolist()), sample_year[\"month\"].tolist())\n"
   ]
  },
  {
   "cell_type": "code",
   "execution_count": 94,
   "metadata": {},
   "outputs": [
    {
     "data": {
      "application/vnd.plotly.v1+json": {
       "config": {
        "plotlyServerURL": "https://plot.ly"
       },
       "data": [
        {
         "hoverinfo": "text",
         "hovertext": [
          "<b>Topic 3</b><br>Words: puerto, statehood, rico, rican, ricans",
          "<b>Topic 3</b><br>Words: runoff, goodman, mayor, legislature, primary",
          "<b>Topic 3</b><br>Words: primary, stamp, koch, vetoes, sept",
          "<b>Topic 3</b><br>Words: cuomo, mayor, mayoralty, ronan, mame",
          "<b>Topic 3</b><br>Words: carey, cuomo, beame, election, predict",
          "<b>Topic 3</b><br>Words: byrne, bateman, mayor, campaign, badillo",
          "<b>Topic 3</b><br>Words: abzug, defense, strike, denounce, opponents",
          "<b>Topic 3</b><br>Words: cuomo, beame, ballot, striking, campaign",
          "<b>Topic 3</b><br>Words: koch, cuomo, endorses, paterson, candidates",
          "<b>Topic 3</b><br>Words: byrne, koch, bateman, debate, candidates",
          "<b>Topic 3</b><br>Words: koch, mayor, paterson, mayoral, deputy",
          "<b>Topic 3</b><br>Words: koch, officials, council, veto, commissioner"
         ],
         "marker": {
          "color": "#E69F00"
         },
         "mode": "lines",
         "name": "3_koch_cuomo_paterson_election",
         "type": "scatter",
         "x": {
          "bdata": "AQIDBAUGBwgJCgsM",
          "dtype": "i1"
         },
         "y": {
          "bdata": "BwcEBAcHAQYlEBgL",
          "dtype": "i1"
         }
        },
        {
         "hoverinfo": "text",
         "hovertext": [
          "<b>Topic 6</b><br>Words: banks, bank, bankers, loans, finances",
          "<b>Topic 6</b><br>Words: loan, repayment, repay, york, treasury",
          "<b>Topic 6</b><br>Words: debt, loan, bond, banks, bonds",
          "<b>Topic 6</b><br>Words: loans, loan, borrowing, mortgage, budget",
          "<b>Topic 6</b><br>Words: bonds, securities, million, tax, koch",
          "<b>Topic 6</b><br>Words: spending, budget, city, deficit, albany",
          "<b>Topic 6</b><br>Words: budgets, towns, bankers, biwon, city",
          "<b>Topic 6</b><br>Words: agencies, productivity, policy, banding, beame",
          "<b>Topic 6</b><br>Words: note, fiscal, bonds, sales, sale",
          "<b>Topic 6</b><br>Words: budget, efficiency, klein, ceta, drawback",
          "<b>Topic 6</b><br>Words: moody, nevi, cancel, note, york",
          "<b>Topic 6</b><br>Words: financing, loans, fiscal, rebuilding, budget"
         ],
         "marker": {
          "color": "#56B4E9"
         },
         "mode": "lines",
         "name": "6_banks_loans_york_loan",
         "type": "scatter",
         "x": {
          "bdata": "AQIDBAUGBwgJCgsM",
          "dtype": "i1"
         },
         "y": {
          "bdata": "DQoVCQYFAgMEAgEH",
          "dtype": "i1"
         }
        },
        {
         "hoverinfo": "text",
         "hovertext": [
          "<b>Topic 8</b><br>Words: accountants, accused, abusing, power, rule",
          "<b>Topic 8</b><br>Words: axelson, treasury, withdraws, consideration, post",
          "<b>Topic 8</b><br>Words: banking, slowed, electronic, habits, fears",
          "<b>Topic 8</b><br>Words: bankruptcy, loan, lance, debt, bank",
          "<b>Topic 8</b><br>Words: lance, loan, finances, inquiry, disclosure",
          "<b>Topic 8</b><br>Words: lance, resignation, percy, disputed, abused",
          "<b>Topic 8</b><br>Words: fleming, enthusiasm, lance, bank, loneliness",
          "<b>Topic 8</b><br>Words: lance, jury, repaying, banks, reported",
          "<b>Topic 8</b><br>Words: banks, bank, regulation, regulatory, regulators"
         ],
         "marker": {
          "color": "#009E73"
         },
         "mode": "lines",
         "name": "8_lance_bank_loan_banking",
         "type": "scatter",
         "x": {
          "bdata": "AQMFBwgJCgsM",
          "dtype": "i1"
         },
         "y": {
          "bdata": "AQEBBxQfAwIG",
          "dtype": "i1"
         }
        },
        {
         "hoverinfo": "text",
         "hovertext": [
          "<b>Topic 10</b><br>Words: staff, cut, shift, goals, to",
          "<b>Topic 10</b><br>Words: capitalist, theorist, crisis, china, peasants",
          "<b>Topic 10</b><br>Words: tariff, economy, commodities, deficit, imports",
          "<b>Topic 10</b><br>Words: geneva, commodities, collapse, fund, efforts",
          "<b>Topic 10</b><br>Words: economic, industry, labor, textile, imports",
          "<b>Topic 10</b><br>Words: nations, aid, accord, demands, needy",
          "<b>Topic 10</b><br>Words: europeans, investing, deficit, tax, japan",
          "<b>Topic 10</b><br>Words: vw, bug, phased, out, being",
          "<b>Topic 10</b><br>Words: youngstown, steel, bankers, market, bid",
          "<b>Topic 10</b><br>Words: exporters, imports, economics, steel, market",
          "<b>Topic 10</b><br>Words: investments, deficit, imports, goods, slackening",
          "<b>Topic 10</b><br>Words: japan, japanese, imports, imported, foreign"
         ],
         "marker": {
          "color": "#F0E442"
         },
         "mode": "lines",
         "name": "10_tariff_imports_commodities_economy",
         "type": "scatter",
         "x": {
          "bdata": "AQIDBAUGBwgJCgsM",
          "dtype": "i1"
         },
         "y": {
          "bdata": "AQUFAQQCBAEFBwYP",
          "dtype": "i1"
         }
        },
        {
         "hoverinfo": "text",
         "hovertext": [
          "<b>Topic 11</b><br>Words: mets, yankees, pitching, cubs, baseball",
          "<b>Topic 11</b><br>Words: mets, homer, yanks, win, munson",
          "<b>Topic 11</b><br>Words: mets, sox, pitcher, homer, frazier",
          "<b>Topic 11</b><br>Words: outfielder, bat, brewers, homer, cricket",
          "<b>Topic 11</b><br>Words: mets, brewers, mariners, sox, giants",
          "<b>Topic 11</b><br>Words: jackson, baltimore, munson, kingman, belts",
          "<b>Topic 11</b><br>Words: yankees, inning, dodgers, mets, innings",
          "<b>Topic 11</b><br>Words: spenders, baseball, pretenders, big, vs"
         ],
         "marker": {
          "color": "#D55E00"
         },
         "mode": "lines",
         "name": "11_yankees_mets_inning_mariners",
         "type": "scatter",
         "x": {
          "bdata": "BAUGBwgJCgs=",
          "dtype": "i1"
         },
         "y": {
          "bdata": "CQIHBgQCFwE=",
          "dtype": "i1"
         }
        },
        {
         "hoverinfo": "text",
         "hovertext": [
          "<b>Topic 13</b><br>Words: hostages, hostage, moslems, kidnapping, gunmen",
          "<b>Topic 13</b><br>Words: guerrillas, army, prosecutor, fight, slain",
          "<b>Topic 13</b><br>Words: moluccans, dutch, hostages, netherlands, kidnappers",
          "<b>Topic 13</b><br>Words: siege, yugoslavs, captive, croats, shooting",
          "<b>Topic 13</b><br>Words: hostages, hostage, hijackers, hanafis, escape",
          "<b>Topic 13</b><br>Words: prisoners, killers, four, title, ulster",
          "<b>Topic 13</b><br>Words: hijackers, japanese, air, meet, willing",
          "<b>Topic 13</b><br>Words: hijackers, hostages, hijacked, hostage, hijacker",
          "<b>Topic 13</b><br>Words: kidnappers, dutchman, paid, million, wealthy"
         ],
         "marker": {
          "color": "#0072B2"
         },
         "mode": "lines",
         "name": "13_hostages_hostage_kidnappers_kidnapped",
         "type": "scatter",
         "x": {
          "bdata": "AwQFBgcICQoL",
          "dtype": "i1"
         },
         "y": {
          "bdata": "BgIMBAIDARMB",
          "dtype": "i1"
         }
        },
        {
         "hoverinfo": "text",
         "hovertext": [
          "<b>Topic 14</b><br>Words: bribery, korean, lobbyist, indonesia, solicitors",
          "<b>Topic 14</b><br>Words: indonesia, chief, oil, concerns, charges",
          "<b>Topic 14</b><br>Words: congressmen, inquiry, lobby, tax, korea",
          "<b>Topic 14</b><br>Words: seoul, singapore, dissidents, political, critics",
          "<b>Topic 14</b><br>Words: korea, carter, military, defends, policy",
          "<b>Topic 14</b><br>Words: korea, korean, tong, disclose, dealings",
          "<b>Topic 14</b><br>Words: korea, koreans, korean, koreanfavors, prosecutor",
          "<b>Topic 14</b><br>Words: jaworski, korea, korean, tongsun, testimony",
          "<b>Topic 14</b><br>Words: korea, tongsun, korean, indicted, southkorearejectsu",
          "<b>Topic 14</b><br>Words: koreans, korea, seoul, korean, scandal",
          "<b>Topic 14</b><br>Words: seoul, korean, tongsun, park, carter"
         ],
         "marker": {
          "color": "#CC79A7"
         },
         "mode": "lines",
         "name": "14_korea_koreans_seoul_korean",
         "type": "scatter",
         "x": {
          "bdata": "AQIDBAUGBwgJCgs=",
          "dtype": "i1"
         },
         "y": {
          "bdata": "BAECAgMIDAMGBAQ=",
          "dtype": "i1"
         }
        },
        {
         "hoverinfo": "text",
         "hovertext": [
          "<b>Topic 15</b><br>Words: heating, fuels, fuel, energy, heat",
          "<b>Topic 15</b><br>Words: fuel, gas, carter, coast, plans",
          "<b>Topic 15</b><br>Words: energy, scarcity, fuel, policy, carter",
          "<b>Topic 15</b><br>Words: energy, powers, bill, carter, czar",
          "<b>Topic 15</b><br>Words: energy, house, fuel, power, gas",
          "<b>Topic 15</b><br>Words: carter, gasoline, gas, president, proposal",
          "<b>Topic 15</b><br>Words: conserve, energy, president, house, program",
          "<b>Topic 15</b><br>Words: senate, propane, power, reform, energy",
          "<b>Topic 15</b><br>Words: energy, haste, bill, arguing, overconfidence",
          "<b>Topic 15</b><br>Words: energy, demand, gas, crisis, compromise",
          "<b>Topic 15</b><br>Words: energy, gas, bill, carter, accord"
         ],
         "marker": {
          "color": "#E69F00"
         },
         "mode": "lines",
         "name": "15_energy_fuels_carter_fuel",
         "type": "scatter",
         "x": {
          "bdata": "AQIEBQYHCAkKCww=",
          "dtype": "i1"
         },
         "y": {
          "bdata": "BwMOBgMDAQMDAwI=",
          "dtype": "i1"
         }
        },
        {
         "hoverinfo": "text",
         "hovertext": [
          "<b>Topic 17</b><br>Words: title, page, front, , ",
          "<b>Topic 17</b><br>Words: transportation, transport, subways, rail, gear",
          "<b>Topic 17</b><br>Words: marathon, train, dash, rush, dans",
          "<b>Topic 17</b><br>Words: floodwaters, in, the, way, of",
          "<b>Topic 17</b><br>Words: amtrak, freight, beach, jersey, derailment",
          "<b>Topic 17</b><br>Words: blackouts, blackout, delay, disrupted, ed",
          "<b>Topic 17</b><br>Words: blackout, edison, con, utilities, failure",
          "<b>Topic 17</b><br>Words: westchester, york, subway, cities, blackout",
          "<b>Topic 17</b><br>Words: dukes, tyrone, york, times, the",
          "<b>Topic 17</b><br>Words: flood, flooded, blackout, amtrak, rain",
          "<b>Topic 17</b><br>Words: traffic, ed, mayor, repair, plan"
         ],
         "marker": {
          "color": "#56B4E9"
         },
         "mode": "lines",
         "name": "17_blackout_blackouts_edison_con",
         "type": "scatter",
         "x": {
          "bdata": "AQIDBAYHCAkKCww=",
          "dtype": "i1"
         },
         "y": {
          "bdata": "AQMCAQINBgQBBQM=",
          "dtype": "i1"
         }
        },
        {
         "hoverinfo": "text",
         "hovertext": [
          "<b>Topic 21</b><br>Words: militant, five, rochelle, gunman, kills",
          "<b>Topic 21</b><br>Words: suspects, deaths, lewisboro, arsonist, arrested",
          "<b>Topic 21</b><br>Words: slain, quinlan, fourth, family, jamaica",
          "<b>Topic 21</b><br>Words: robber, cab, bank, ride, takes",
          "<b>Topic 21</b><br>Words: robbery, postmaster, killer, street, wounds",
          "<b>Topic 21</b><br>Words: killings, deaths, slain, slayings, surrenders",
          "<b>Topic 21</b><br>Words: killer, kills, 44, victims, killed",
          "<b>Topic 21</b><br>Words: kills, wounds, chinatown, slain, palsy",
          "<b>Topic 21</b><br>Words: robber, park, shot, chase, bank",
          "<b>Topic 21</b><br>Words: robbers, detective, street, kills, killed"
         ],
         "marker": {
          "color": "#009E73"
         },
         "mode": "lines",
         "name": "21_killer_killings_robber_kills",
         "type": "scatter",
         "x": {
          "bdata": "AgMEBQYHCAkKDA==",
          "dtype": "i1"
         },
         "y": {
          "bdata": "AgMDAQIFCwICBA==",
          "dtype": "i1"
         }
        },
        {
         "hoverinfo": "text",
         "hovertext": [
          "<b>Topic 31</b><br>Words: gandhi, mrs, india, democracy, murdering",
          "<b>Topic 31</b><br>Words: gandhi, sanjay, mrs, aide, opposition",
          "<b>Topic 31</b><br>Words: gandhi, delhi, desai, india, indian",
          "<b>Topic 31</b><br>Words: democratic, government, indian, restored, weeks",
          "<b>Topic 31</b><br>Words: bandaranaike, lanka, sri, beaten, party",
          "<b>Topic 31</b><br>Words: gandhi, lanka, sri, aides, arrested",
          "<b>Topic 31</b><br>Words: gandhi, corruption, arrested, mrs, freed",
          "<b>Topic 31</b><br>Words: gandhi, split, congress, leadership, india"
         ],
         "marker": {
          "color": "#F0E442"
         },
         "mode": "lines",
         "name": "31_gandhi_sanjay_delhi_indian",
         "type": "scatter",
         "x": {
          "bdata": "AQIDBQcICgw=",
          "dtype": "i1"
         },
         "y": {
          "bdata": "AwUNAQEDAwE=",
          "dtype": "i1"
         }
        },
        {
         "hoverinfo": "text",
         "hovertext": [
          "<b>Topic 33</b><br>Words: bowl, seton, games, downs, rally",
          "<b>Topic 33</b><br>Words: clemson, maryland, 78, 84, ",
          "<b>Topic 33</b><br>Words: villanova, penn, relays, defeats, distance",
          "<b>Topic 33</b><br>Words: youngest, graduate, honor, 15, city",
          "<b>Topic 33</b><br>Words: giants, patriots, offense, victory, opener",
          "<b>Topic 33</b><br>Words: lions, loss, 7th, passes, pace",
          "<b>Topic 33</b><br>Words: penn, stadium, michigan, dartmouth, princeton",
          "<b>Topic 33</b><br>Words: harvard, princeton, pitt, dartmouth, yale",
          "<b>Topic 33</b><br>Words: united, payton, victory, pius, division"
         ],
         "marker": {
          "color": "#D55E00"
         },
         "mode": "lines",
         "name": "33_penn_pitt_dartmouth_princeton",
         "type": "scatter",
         "x": {
          "bdata": "AQIEBQgJCgsM",
          "dtype": "i1"
         },
         "y": {
          "bdata": "AgEBAQEDBgsE",
          "dtype": "i1"
         }
        },
        {
         "hoverinfo": "text",
         "hovertext": [
          "<b>Topic 34</b><br>Words: snowfall, snow, freezing, precipitation, cold",
          "<b>Topic 34</b><br>Words: snow, snowy, buffalo, snowdrifts, winter",
          "<b>Topic 34</b><br>Words: snow, cold, spring, watertown, lining",
          "<b>Topic 34</b><br>Words: winter, snow, spring, feisty, hurrah",
          "<b>Topic 34</b><br>Words: thermometer, july, low, hottest, 100",
          "<b>Topic 34</b><br>Words: colgate, star, 7th, row, rolls",
          "<b>Topic 34</b><br>Words: front, title, zoo, birds, page",
          "<b>Topic 34</b><br>Words: ice, day, where, to, an"
         ],
         "marker": {
          "color": "#0072B2"
         },
         "mode": "lines",
         "name": "34_snow_snowfall_snowy_winter",
         "type": "scatter",
         "x": {
          "bdata": "AQIDBQcKCww=",
          "dtype": "i1"
         },
         "y": {
          "bdata": "DgUCAQMBAgE=",
          "dtype": "i1"
         }
        },
        {
         "hoverinfo": "text",
         "hovertext": [
          "<b>Topic 46</b><br>Words: banks, officials, criticize, inquiry, york",
          "<b>Topic 46</b><br>Words: charges, clergymen, pornography, fiscal, burlington",
          "<b>Topic 46</b><br>Words: accused, beame, million, agency, asks",
          "<b>Topic 46</b><br>Words: disclosure, inquiry, ordered, us, supported",
          "<b>Topic 46</b><br>Words: beame, accuses, alleged, fraud, crisis",
          "<b>Topic 46</b><br>Words: options, attack, market, trading, orders",
          "<b>Topic 46</b><br>Words: beams, charges, evidence, distorted, ",
          "<b>Topic 46</b><br>Words: deadline, curbs, puts, trading, end"
         ],
         "marker": {
          "color": "#CC79A7"
         },
         "mode": "lines",
         "name": "46_fraud_beame_charges_disclosure",
         "type": "scatter",
         "x": {
          "bdata": "AgQFBwgKCww=",
          "dtype": "i1"
         },
         "y": {
          "bdata": "AQIBAgsCAQE=",
          "dtype": "i1"
         }
        },
        {
         "hoverinfo": "text",
         "hovertext": [
          "<b>Topic 59</b><br>Words: rapists, execution, court, high, rules",
          "<b>Topic 59</b><br>Words: loner, gunman, life, fed, up",
          "<b>Topic 59</b><br>Words: sam, suspect, murders, shooting, yonkers",
          "<b>Topic 59</b><br>Words: ryan, killing, suspect, officer, convicted",
          "<b>Topic 59</b><br>Words: mcguire, acquitted, officer, wagner, police"
         ],
         "marker": {
          "color": "#E69F00"
         },
         "mode": "lines",
         "name": "59_suspect_murders_sam_acquitted",
         "type": "scatter",
         "x": {
          "bdata": "BgcICww=",
          "dtype": "i1"
         },
         "y": {
          "bdata": "AQEKAQI=",
          "dtype": "i1"
         }
        }
       ],
       "layout": {
        "height": 450,
        "hoverlabel": {
         "bgcolor": "white",
         "font": {
          "family": "Rockwell",
          "size": 16
         }
        },
        "legend": {
         "title": {
          "text": "<b>Global Topic Representation"
         }
        },
        "template": {
         "data": {
          "bar": [
           {
            "error_x": {
             "color": "rgb(36,36,36)"
            },
            "error_y": {
             "color": "rgb(36,36,36)"
            },
            "marker": {
             "line": {
              "color": "white",
              "width": 0.5
             },
             "pattern": {
              "fillmode": "overlay",
              "size": 10,
              "solidity": 0.2
             }
            },
            "type": "bar"
           }
          ],
          "barpolar": [
           {
            "marker": {
             "line": {
              "color": "white",
              "width": 0.5
             },
             "pattern": {
              "fillmode": "overlay",
              "size": 10,
              "solidity": 0.2
             }
            },
            "type": "barpolar"
           }
          ],
          "carpet": [
           {
            "aaxis": {
             "endlinecolor": "rgb(36,36,36)",
             "gridcolor": "white",
             "linecolor": "white",
             "minorgridcolor": "white",
             "startlinecolor": "rgb(36,36,36)"
            },
            "baxis": {
             "endlinecolor": "rgb(36,36,36)",
             "gridcolor": "white",
             "linecolor": "white",
             "minorgridcolor": "white",
             "startlinecolor": "rgb(36,36,36)"
            },
            "type": "carpet"
           }
          ],
          "choropleth": [
           {
            "colorbar": {
             "outlinewidth": 1,
             "tickcolor": "rgb(36,36,36)",
             "ticks": "outside"
            },
            "type": "choropleth"
           }
          ],
          "contour": [
           {
            "colorbar": {
             "outlinewidth": 1,
             "tickcolor": "rgb(36,36,36)",
             "ticks": "outside"
            },
            "colorscale": [
             [
              0,
              "#440154"
             ],
             [
              0.1111111111111111,
              "#482878"
             ],
             [
              0.2222222222222222,
              "#3e4989"
             ],
             [
              0.3333333333333333,
              "#31688e"
             ],
             [
              0.4444444444444444,
              "#26828e"
             ],
             [
              0.5555555555555556,
              "#1f9e89"
             ],
             [
              0.6666666666666666,
              "#35b779"
             ],
             [
              0.7777777777777778,
              "#6ece58"
             ],
             [
              0.8888888888888888,
              "#b5de2b"
             ],
             [
              1,
              "#fde725"
             ]
            ],
            "type": "contour"
           }
          ],
          "contourcarpet": [
           {
            "colorbar": {
             "outlinewidth": 1,
             "tickcolor": "rgb(36,36,36)",
             "ticks": "outside"
            },
            "type": "contourcarpet"
           }
          ],
          "heatmap": [
           {
            "colorbar": {
             "outlinewidth": 1,
             "tickcolor": "rgb(36,36,36)",
             "ticks": "outside"
            },
            "colorscale": [
             [
              0,
              "#440154"
             ],
             [
              0.1111111111111111,
              "#482878"
             ],
             [
              0.2222222222222222,
              "#3e4989"
             ],
             [
              0.3333333333333333,
              "#31688e"
             ],
             [
              0.4444444444444444,
              "#26828e"
             ],
             [
              0.5555555555555556,
              "#1f9e89"
             ],
             [
              0.6666666666666666,
              "#35b779"
             ],
             [
              0.7777777777777778,
              "#6ece58"
             ],
             [
              0.8888888888888888,
              "#b5de2b"
             ],
             [
              1,
              "#fde725"
             ]
            ],
            "type": "heatmap"
           }
          ],
          "histogram": [
           {
            "marker": {
             "line": {
              "color": "white",
              "width": 0.6
             }
            },
            "type": "histogram"
           }
          ],
          "histogram2d": [
           {
            "colorbar": {
             "outlinewidth": 1,
             "tickcolor": "rgb(36,36,36)",
             "ticks": "outside"
            },
            "colorscale": [
             [
              0,
              "#440154"
             ],
             [
              0.1111111111111111,
              "#482878"
             ],
             [
              0.2222222222222222,
              "#3e4989"
             ],
             [
              0.3333333333333333,
              "#31688e"
             ],
             [
              0.4444444444444444,
              "#26828e"
             ],
             [
              0.5555555555555556,
              "#1f9e89"
             ],
             [
              0.6666666666666666,
              "#35b779"
             ],
             [
              0.7777777777777778,
              "#6ece58"
             ],
             [
              0.8888888888888888,
              "#b5de2b"
             ],
             [
              1,
              "#fde725"
             ]
            ],
            "type": "histogram2d"
           }
          ],
          "histogram2dcontour": [
           {
            "colorbar": {
             "outlinewidth": 1,
             "tickcolor": "rgb(36,36,36)",
             "ticks": "outside"
            },
            "colorscale": [
             [
              0,
              "#440154"
             ],
             [
              0.1111111111111111,
              "#482878"
             ],
             [
              0.2222222222222222,
              "#3e4989"
             ],
             [
              0.3333333333333333,
              "#31688e"
             ],
             [
              0.4444444444444444,
              "#26828e"
             ],
             [
              0.5555555555555556,
              "#1f9e89"
             ],
             [
              0.6666666666666666,
              "#35b779"
             ],
             [
              0.7777777777777778,
              "#6ece58"
             ],
             [
              0.8888888888888888,
              "#b5de2b"
             ],
             [
              1,
              "#fde725"
             ]
            ],
            "type": "histogram2dcontour"
           }
          ],
          "mesh3d": [
           {
            "colorbar": {
             "outlinewidth": 1,
             "tickcolor": "rgb(36,36,36)",
             "ticks": "outside"
            },
            "type": "mesh3d"
           }
          ],
          "parcoords": [
           {
            "line": {
             "colorbar": {
              "outlinewidth": 1,
              "tickcolor": "rgb(36,36,36)",
              "ticks": "outside"
             }
            },
            "type": "parcoords"
           }
          ],
          "pie": [
           {
            "automargin": true,
            "type": "pie"
           }
          ],
          "scatter": [
           {
            "fillpattern": {
             "fillmode": "overlay",
             "size": 10,
             "solidity": 0.2
            },
            "type": "scatter"
           }
          ],
          "scatter3d": [
           {
            "line": {
             "colorbar": {
              "outlinewidth": 1,
              "tickcolor": "rgb(36,36,36)",
              "ticks": "outside"
             }
            },
            "marker": {
             "colorbar": {
              "outlinewidth": 1,
              "tickcolor": "rgb(36,36,36)",
              "ticks": "outside"
             }
            },
            "type": "scatter3d"
           }
          ],
          "scattercarpet": [
           {
            "marker": {
             "colorbar": {
              "outlinewidth": 1,
              "tickcolor": "rgb(36,36,36)",
              "ticks": "outside"
             }
            },
            "type": "scattercarpet"
           }
          ],
          "scattergeo": [
           {
            "marker": {
             "colorbar": {
              "outlinewidth": 1,
              "tickcolor": "rgb(36,36,36)",
              "ticks": "outside"
             }
            },
            "type": "scattergeo"
           }
          ],
          "scattergl": [
           {
            "marker": {
             "colorbar": {
              "outlinewidth": 1,
              "tickcolor": "rgb(36,36,36)",
              "ticks": "outside"
             }
            },
            "type": "scattergl"
           }
          ],
          "scattermap": [
           {
            "marker": {
             "colorbar": {
              "outlinewidth": 1,
              "tickcolor": "rgb(36,36,36)",
              "ticks": "outside"
             }
            },
            "type": "scattermap"
           }
          ],
          "scattermapbox": [
           {
            "marker": {
             "colorbar": {
              "outlinewidth": 1,
              "tickcolor": "rgb(36,36,36)",
              "ticks": "outside"
             }
            },
            "type": "scattermapbox"
           }
          ],
          "scatterpolar": [
           {
            "marker": {
             "colorbar": {
              "outlinewidth": 1,
              "tickcolor": "rgb(36,36,36)",
              "ticks": "outside"
             }
            },
            "type": "scatterpolar"
           }
          ],
          "scatterpolargl": [
           {
            "marker": {
             "colorbar": {
              "outlinewidth": 1,
              "tickcolor": "rgb(36,36,36)",
              "ticks": "outside"
             }
            },
            "type": "scatterpolargl"
           }
          ],
          "scatterternary": [
           {
            "marker": {
             "colorbar": {
              "outlinewidth": 1,
              "tickcolor": "rgb(36,36,36)",
              "ticks": "outside"
             }
            },
            "type": "scatterternary"
           }
          ],
          "surface": [
           {
            "colorbar": {
             "outlinewidth": 1,
             "tickcolor": "rgb(36,36,36)",
             "ticks": "outside"
            },
            "colorscale": [
             [
              0,
              "#440154"
             ],
             [
              0.1111111111111111,
              "#482878"
             ],
             [
              0.2222222222222222,
              "#3e4989"
             ],
             [
              0.3333333333333333,
              "#31688e"
             ],
             [
              0.4444444444444444,
              "#26828e"
             ],
             [
              0.5555555555555556,
              "#1f9e89"
             ],
             [
              0.6666666666666666,
              "#35b779"
             ],
             [
              0.7777777777777778,
              "#6ece58"
             ],
             [
              0.8888888888888888,
              "#b5de2b"
             ],
             [
              1,
              "#fde725"
             ]
            ],
            "type": "surface"
           }
          ],
          "table": [
           {
            "cells": {
             "fill": {
              "color": "rgb(237,237,237)"
             },
             "line": {
              "color": "white"
             }
            },
            "header": {
             "fill": {
              "color": "rgb(217,217,217)"
             },
             "line": {
              "color": "white"
             }
            },
            "type": "table"
           }
          ]
         },
         "layout": {
          "annotationdefaults": {
           "arrowhead": 0,
           "arrowwidth": 1
          },
          "autotypenumbers": "strict",
          "coloraxis": {
           "colorbar": {
            "outlinewidth": 1,
            "tickcolor": "rgb(36,36,36)",
            "ticks": "outside"
           }
          },
          "colorscale": {
           "diverging": [
            [
             0,
             "rgb(103,0,31)"
            ],
            [
             0.1,
             "rgb(178,24,43)"
            ],
            [
             0.2,
             "rgb(214,96,77)"
            ],
            [
             0.3,
             "rgb(244,165,130)"
            ],
            [
             0.4,
             "rgb(253,219,199)"
            ],
            [
             0.5,
             "rgb(247,247,247)"
            ],
            [
             0.6,
             "rgb(209,229,240)"
            ],
            [
             0.7,
             "rgb(146,197,222)"
            ],
            [
             0.8,
             "rgb(67,147,195)"
            ],
            [
             0.9,
             "rgb(33,102,172)"
            ],
            [
             1,
             "rgb(5,48,97)"
            ]
           ],
           "sequential": [
            [
             0,
             "#440154"
            ],
            [
             0.1111111111111111,
             "#482878"
            ],
            [
             0.2222222222222222,
             "#3e4989"
            ],
            [
             0.3333333333333333,
             "#31688e"
            ],
            [
             0.4444444444444444,
             "#26828e"
            ],
            [
             0.5555555555555556,
             "#1f9e89"
            ],
            [
             0.6666666666666666,
             "#35b779"
            ],
            [
             0.7777777777777778,
             "#6ece58"
            ],
            [
             0.8888888888888888,
             "#b5de2b"
            ],
            [
             1,
             "#fde725"
            ]
           ],
           "sequentialminus": [
            [
             0,
             "#440154"
            ],
            [
             0.1111111111111111,
             "#482878"
            ],
            [
             0.2222222222222222,
             "#3e4989"
            ],
            [
             0.3333333333333333,
             "#31688e"
            ],
            [
             0.4444444444444444,
             "#26828e"
            ],
            [
             0.5555555555555556,
             "#1f9e89"
            ],
            [
             0.6666666666666666,
             "#35b779"
            ],
            [
             0.7777777777777778,
             "#6ece58"
            ],
            [
             0.8888888888888888,
             "#b5de2b"
            ],
            [
             1,
             "#fde725"
            ]
           ]
          },
          "colorway": [
           "#1F77B4",
           "#FF7F0E",
           "#2CA02C",
           "#D62728",
           "#9467BD",
           "#8C564B",
           "#E377C2",
           "#7F7F7F",
           "#BCBD22",
           "#17BECF"
          ],
          "font": {
           "color": "rgb(36,36,36)"
          },
          "geo": {
           "bgcolor": "white",
           "lakecolor": "white",
           "landcolor": "white",
           "showlakes": true,
           "showland": true,
           "subunitcolor": "white"
          },
          "hoverlabel": {
           "align": "left"
          },
          "hovermode": "closest",
          "mapbox": {
           "style": "light"
          },
          "paper_bgcolor": "white",
          "plot_bgcolor": "white",
          "polar": {
           "angularaxis": {
            "gridcolor": "rgb(232,232,232)",
            "linecolor": "rgb(36,36,36)",
            "showgrid": false,
            "showline": true,
            "ticks": "outside"
           },
           "bgcolor": "white",
           "radialaxis": {
            "gridcolor": "rgb(232,232,232)",
            "linecolor": "rgb(36,36,36)",
            "showgrid": false,
            "showline": true,
            "ticks": "outside"
           }
          },
          "scene": {
           "xaxis": {
            "backgroundcolor": "white",
            "gridcolor": "rgb(232,232,232)",
            "gridwidth": 2,
            "linecolor": "rgb(36,36,36)",
            "showbackground": true,
            "showgrid": false,
            "showline": true,
            "ticks": "outside",
            "zeroline": false,
            "zerolinecolor": "rgb(36,36,36)"
           },
           "yaxis": {
            "backgroundcolor": "white",
            "gridcolor": "rgb(232,232,232)",
            "gridwidth": 2,
            "linecolor": "rgb(36,36,36)",
            "showbackground": true,
            "showgrid": false,
            "showline": true,
            "ticks": "outside",
            "zeroline": false,
            "zerolinecolor": "rgb(36,36,36)"
           },
           "zaxis": {
            "backgroundcolor": "white",
            "gridcolor": "rgb(232,232,232)",
            "gridwidth": 2,
            "linecolor": "rgb(36,36,36)",
            "showbackground": true,
            "showgrid": false,
            "showline": true,
            "ticks": "outside",
            "zeroline": false,
            "zerolinecolor": "rgb(36,36,36)"
           }
          },
          "shapedefaults": {
           "fillcolor": "black",
           "line": {
            "width": 0
           },
           "opacity": 0.3
          },
          "ternary": {
           "aaxis": {
            "gridcolor": "rgb(232,232,232)",
            "linecolor": "rgb(36,36,36)",
            "showgrid": false,
            "showline": true,
            "ticks": "outside"
           },
           "baxis": {
            "gridcolor": "rgb(232,232,232)",
            "linecolor": "rgb(36,36,36)",
            "showgrid": false,
            "showline": true,
            "ticks": "outside"
           },
           "bgcolor": "white",
           "caxis": {
            "gridcolor": "rgb(232,232,232)",
            "linecolor": "rgb(36,36,36)",
            "showgrid": false,
            "showline": true,
            "ticks": "outside"
           }
          },
          "title": {
           "x": 0.05
          },
          "xaxis": {
           "automargin": true,
           "gridcolor": "rgb(232,232,232)",
           "linecolor": "rgb(36,36,36)",
           "showgrid": false,
           "showline": true,
           "ticks": "outside",
           "title": {
            "standoff": 15
           },
           "zeroline": false,
           "zerolinecolor": "rgb(36,36,36)"
          },
          "yaxis": {
           "automargin": true,
           "gridcolor": "rgb(232,232,232)",
           "linecolor": "rgb(36,36,36)",
           "showgrid": false,
           "showline": true,
           "ticks": "outside",
           "title": {
            "standoff": 15
           },
           "zeroline": false,
           "zerolinecolor": "rgb(36,36,36)"
          }
         }
        },
        "title": {
         "font": {
          "color": "Black",
          "size": 22
         },
         "text": "<b>Topics over Time</b>",
         "x": 0.4,
         "xanchor": "center",
         "y": 0.95,
         "yanchor": "top"
        },
        "width": 1250,
        "xaxis": {
         "showgrid": true
        },
        "yaxis": {
         "showgrid": true,
         "title": {
          "text": "Frequency"
         }
        }
       }
      }
     },
     "metadata": {},
     "output_type": "display_data"
    }
   ],
   "source": [
    "tm.model.visualize_topics_over_time(tm.topics_over_time[tm.topics_over_time.Topic.isin(tm.topic_filter.topics)])"
   ]
  },
  {
   "cell_type": "code",
   "execution_count": 96,
   "metadata": {},
   "outputs": [
    {
     "data": {
      "text/plain": [
       "array([1.1053858, 1.0250453, 1.0715128, 1.0744487, 1.0562075, 1.0322287,\n",
       "       1.0284439, 1.0852964, 1.1170399, 1.0678169, 1.026485 , 1.1248631,\n",
       "       1.0299671, 1.0279695, 1.0192293], dtype=float32)"
      ]
     },
     "execution_count": 96,
     "metadata": {},
     "output_type": "execute_result"
    }
   ],
   "source": [
    "tm.compute_alignment(tm.centroids, p=4, mod_sim=True)"
   ]
  },
  {
   "cell_type": "code",
   "execution_count": 97,
   "metadata": {},
   "outputs": [
    {
     "data": {
      "text/plain": [
       "age                  10\n",
       "awards_as_of_year    10\n",
       "embedding            10\n",
       "n_win                10\n",
       "n_nom                10\n",
       "gender_male          10\n",
       "gender_female        10\n",
       "dtype: int64"
      ]
     },
     "execution_count": 97,
     "metadata": {},
     "output_type": "execute_result"
    }
   ],
   "source": [
    "novels = pd.read_csv(\"../data/nominated_novels.csv\")\n",
    "description_embeddings = pd.read_parquet(\"../data/description_embeddings.parquet\")\n",
    "desc_merged = pd.get_dummies(novels[novels.year == YEAR], columns=['gender']).merge(description_embeddings, on=\"work_qid\", how=\"left\").groupby(\"work_qid\").agg({\n",
    "    'age': 'mean',\n",
    "    'awards_as_of_year': 'sum',\n",
    "    'embedding': 'first',\n",
    "    'n_win': 'first',\n",
    "    'n_nom': 'first',\n",
    "    'gender_male': 'sum',\n",
    "    'gender_female': 'sum',\n",
    "}).dropna()\n",
    "\n",
    "desc_merged.count()"
   ]
  },
  {
   "cell_type": "code",
   "execution_count": 101,
   "metadata": {},
   "outputs": [
    {
     "data": {
      "text/html": [
       "<div>\n",
       "<style scoped>\n",
       "    .dataframe tbody tr th:only-of-type {\n",
       "        vertical-align: middle;\n",
       "    }\n",
       "\n",
       "    .dataframe tbody tr th {\n",
       "        vertical-align: top;\n",
       "    }\n",
       "\n",
       "    .dataframe thead th {\n",
       "        text-align: right;\n",
       "    }\n",
       "</style>\n",
       "<table border=\"1\" class=\"dataframe\">\n",
       "  <thead>\n",
       "    <tr style=\"text-align: right;\">\n",
       "      <th></th>\n",
       "      <th>metric</th>\n",
       "      <th>alignment</th>\n",
       "      <th>age</th>\n",
       "      <th>awards_as_of_year</th>\n",
       "      <th>embedding</th>\n",
       "      <th>n_win</th>\n",
       "      <th>n_nom</th>\n",
       "      <th>gender_male</th>\n",
       "      <th>gender_female</th>\n",
       "      <th>won</th>\n",
       "    </tr>\n",
       "    <tr>\n",
       "      <th>work_qid</th>\n",
       "      <th></th>\n",
       "      <th></th>\n",
       "      <th></th>\n",
       "      <th></th>\n",
       "      <th></th>\n",
       "      <th></th>\n",
       "      <th></th>\n",
       "      <th></th>\n",
       "      <th></th>\n",
       "      <th></th>\n",
       "    </tr>\n",
       "  </thead>\n",
       "  <tbody>\n",
       "    <tr>\n",
       "      <th>Q122452523</th>\n",
       "      <td>cosine</td>\n",
       "      <td>0.322850</td>\n",
       "      <td>29.0</td>\n",
       "      <td>0</td>\n",
       "      <td>[-0.026827814, 0.040379934, 0.03314715, 0.0314...</td>\n",
       "      <td>0</td>\n",
       "      <td>1</td>\n",
       "      <td>0</td>\n",
       "      <td>1</td>\n",
       "      <td>False</td>\n",
       "    </tr>\n",
       "    <tr>\n",
       "      <th>Q1448428</th>\n",
       "      <td>cosine</td>\n",
       "      <td>0.324884</td>\n",
       "      <td>54.0</td>\n",
       "      <td>11</td>\n",
       "      <td>[-0.057265908, 0.11394991, 0.01380519, 0.04636...</td>\n",
       "      <td>0</td>\n",
       "      <td>1</td>\n",
       "      <td>1</td>\n",
       "      <td>0</td>\n",
       "      <td>False</td>\n",
       "    </tr>\n",
       "    <tr>\n",
       "      <th>Q2377008</th>\n",
       "      <td>cosine</td>\n",
       "      <td>0.315074</td>\n",
       "      <td>58.0</td>\n",
       "      <td>12</td>\n",
       "      <td>[-0.025931792, 0.017050132, 0.024950795, -0.01...</td>\n",
       "      <td>1</td>\n",
       "      <td>2</td>\n",
       "      <td>1</td>\n",
       "      <td>0</td>\n",
       "      <td>True</td>\n",
       "    </tr>\n",
       "    <tr>\n",
       "      <th>Q3135306</th>\n",
       "      <td>cosine</td>\n",
       "      <td>0.432386</td>\n",
       "      <td>49.0</td>\n",
       "      <td>10</td>\n",
       "      <td>[-0.012680732, -0.046038665, -0.0124388505, 0....</td>\n",
       "      <td>1</td>\n",
       "      <td>2</td>\n",
       "      <td>0</td>\n",
       "      <td>1</td>\n",
       "      <td>True</td>\n",
       "    </tr>\n",
       "    <tr>\n",
       "      <th>Q3224982</th>\n",
       "      <td>cosine</td>\n",
       "      <td>0.315670</td>\n",
       "      <td>38.0</td>\n",
       "      <td>1</td>\n",
       "      <td>[-0.02369637, 0.10994188, -0.0010569477, 0.013...</td>\n",
       "      <td>0</td>\n",
       "      <td>1</td>\n",
       "      <td>1</td>\n",
       "      <td>0</td>\n",
       "      <td>False</td>\n",
       "    </tr>\n",
       "  </tbody>\n",
       "</table>\n",
       "</div>"
      ],
      "text/plain": [
       "            metric  alignment   age  awards_as_of_year  \\\n",
       "work_qid                                                 \n",
       "Q122452523  cosine   0.322850  29.0                  0   \n",
       "Q1448428    cosine   0.324884  54.0                 11   \n",
       "Q2377008    cosine   0.315074  58.0                 12   \n",
       "Q3135306    cosine   0.432386  49.0                 10   \n",
       "Q3224982    cosine   0.315670  38.0                  1   \n",
       "\n",
       "                                                    embedding  n_win  n_nom  \\\n",
       "work_qid                                                                      \n",
       "Q122452523  [-0.026827814, 0.040379934, 0.03314715, 0.0314...      0      1   \n",
       "Q1448428    [-0.057265908, 0.11394991, 0.01380519, 0.04636...      0      1   \n",
       "Q2377008    [-0.025931792, 0.017050132, 0.024950795, -0.01...      1      2   \n",
       "Q3135306    [-0.012680732, -0.046038665, -0.0124388505, 0....      1      2   \n",
       "Q3224982    [-0.02369637, 0.10994188, -0.0010569477, 0.013...      0      1   \n",
       "\n",
       "            gender_male  gender_female    won  \n",
       "work_qid                                       \n",
       "Q122452523            0              1  False  \n",
       "Q1448428              1              0  False  \n",
       "Q2377008              1              0   True  \n",
       "Q3135306              0              1   True  \n",
       "Q3224982              1              0  False  "
      ]
     },
     "execution_count": 101,
     "metadata": {},
     "output_type": "execute_result"
    }
   ],
   "source": [
    "from models.debias import NullspaceProjector, learn_nullspace_normal_vector\n",
    "\n",
    "train_desc = pd.read_csv(\"../data/train_desc_labeled.csv\")\n",
    "w = learn_nullspace_normal_vector(train_desc)\n",
    "db = NullspaceProjector(normal_vector=w)\n",
    "embeddings = db.transform(np.stack(desc_merged[\"embedding\"].values))\n",
    "db.fit(embeddings)\n",
    "desc_aligned = desc_merged.assign(\n",
    "    cosine=tm.compute_alignment(embeddings, metric=\"cosine\"),\n",
    "    linear=tm.compute_alignment(embeddings, metric=\"linear\"),\n",
    "    rbf=tm.compute_alignment(embeddings, metric=\"rbf\", gamma=5),\n",
    ").melt(\n",
    "    value_vars=[\"cosine\", \"linear\", \"rbf\"],\n",
    "    value_name=\"alignment\",\n",
    "    var_name=\"metric\",\n",
    "    ignore_index=False,\n",
    ").join(desc_merged, how=\"left\").assign(won=lambda x: x.n_win > 0)\n",
    "desc_aligned.head()"
   ]
  },
  {
   "cell_type": "code",
   "execution_count": 102,
   "metadata": {},
   "outputs": [
    {
     "data": {
      "text/plain": [
       "<seaborn.axisgrid.FacetGrid at 0x33644b3d0>"
      ]
     },
     "execution_count": 102,
     "metadata": {},
     "output_type": "execute_result"
    },
    {
     "data": {
      "image/png": "[encoded data removed]",
      "text/plain": [
       "<Figure size 1084.88x1000 with 3 Axes>"
      ]
     },
     "metadata": {},
     "output_type": "display_data"
    }
   ],
   "source": [
    "sns.displot(x=\"alignment\", data=desc_aligned, hue='won', col=\"metric\", col_wrap=2, kind=\"kde\", facet_kws={\"sharey\": False, \"sharex\": False}, fill=True, cut=0, common_norm=False)"
   ]
  },
  {
   "cell_type": "code",
   "execution_count": 103,
   "metadata": {},
   "outputs": [
    {
     "data": {
      "text/plain": [
       "<seaborn.axisgrid.FacetGrid at 0x337338b90>"
      ]
     },
     "execution_count": 103,
     "metadata": {},
     "output_type": "execute_result"
    },
    {
     "data": {
      "image/png": "[encoded data removed]",
      "text/plain": [
       "<Figure size 1011.11x1000 with 3 Axes>"
      ]
     },
     "metadata": {},
     "output_type": "display_data"
    }
   ],
   "source": [
    "sns.catplot(x=\"won\", y=\"alignment\", data=desc_aligned, kind=\"box\", col=\"metric\", sharey=False, col_wrap=2)"
   ]
  },
  {
   "cell_type": "code",
   "execution_count": 76,
   "metadata": {},
   "outputs": [
    {
     "data": {
      "text/plain": [
       "array([0.02308199, 0.05863488, 0.09448375])"
      ]
     },
     "execution_count": 76,
     "metadata": {},
     "output_type": "execute_result"
    }
   ],
   "source": [
    "from sklearn.feature_selection import mutual_info_regression\n",
    "mutual_info_regression(desc_aligned[[\"alignment\", \"age\", \"awards_as_of_year\"]], desc_aligned[\"n_win\"])"
   ]
  },
  {
   "cell_type": "code",
   "execution_count": 13,
   "metadata": {},
   "outputs": [
    {
     "data": {
      "text/plain": [
       "<seaborn.axisgrid.PairGrid at 0x31aa317d0>"
      ]
     },
     "execution_count": 13,
     "metadata": {},
     "output_type": "execute_result"
    },
    {
     "data": {
      "image/png": "[encoded data removed]",
      "text/plain": [
       "<Figure size 2000x2000 with 72 Axes>"
      ]
     },
     "metadata": {},
     "output_type": "display_data"
    }
   ],
   "source": [
    "sns.pairplot(desc_aligned[desc_aligned.metric == \"cosine\"].reset_index().drop(columns=[\"work_qid\", \"embedding\", \"metric\"]))"
   ]
  },
  {
   "cell_type": "code",
   "execution_count": 14,
   "metadata": {},
   "outputs": [
    {
     "data": {
      "text/plain": [
       "(np.float64(-0.23076703604578008), np.float64(0.49468803240778964))"
      ]
     },
     "execution_count": 14,
     "metadata": {},
     "output_type": "execute_result"
    }
   ],
   "source": [
    "(desc_aligned[desc_aligned.n_win > 0].alignment.mean(), desc_aligned[desc_aligned.n_win == 0].alignment.mean())"
   ]
  },
  {
   "cell_type": "code",
   "execution_count": null,
   "metadata": {},
   "outputs": [],
   "source": []
  }
 ],
 "metadata": {
  "kernelspec": {
   "display_name": "default",
   "language": "python",
   "name": "python3"
  },
  "language_info": {
   "codemirror_mode": {
    "name": "ipython",
    "version": 3
   },
   "file_extension": ".py",
   "mimetype": "text/x-python",
   "name": "python",
   "nbconvert_exporter": "python",
   "pygments_lexer": "ipython3",
   "version": "3.11.12"
  }
 },
 "nbformat": 4,
 "nbformat_minor": 2
}
