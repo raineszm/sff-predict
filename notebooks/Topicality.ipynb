{
 "cells": [
  {
   "cell_type": "code",
   "execution_count": 2,
   "metadata": {},
   "outputs": [],
   "source": [
    "%load_ext autoreload\n",
    "%autoreload 2\n",
    "import pandas as pd\n",
    "import numpy as np\n",
    "import seaborn as sns\n",
    "import sys\n",
    "sys.path.append(\"../\")\n",
    "from models.topics import TopicExtractionModel\n",
    "from sentence_transformers import SentenceTransformer"
   ]
  },
  {
   "cell_type": "code",
   "execution_count": 3,
   "metadata": {},
   "outputs": [],
   "source": [
    "headlines = pd.read_json(\"../data/raw/headlines.json\", lines=True)\n",
    "headline_embeddings = pd.read_parquet(\"../data/headline_embeddings.parquet\")\n",
    "headlines_merged = pd.merge(headlines, headline_embeddings, on=\"id\", how=\"left\")"
   ]
  },
  {
   "cell_type": "code",
   "execution_count": 42,
   "metadata": {},
   "outputs": [
    {
     "data": {
      "text/plain": [
       "<models.topics.TopicExtractionModel at 0x33c842450>"
      ]
     },
     "execution_count": 42,
     "metadata": {},
     "output_type": "execute_result"
    }
   ],
   "source": [
    "from models.topics import NonStationaryFilter, HighKurtosisFilter, CompoundFilter\n",
    "YEAR = 1983\n",
    "sample_year = headlines_merged[headlines_merged[\"year\"] == YEAR]\n",
    "\n",
    "model = SentenceTransformer(\"all-MiniLM-L6-v2\")\n",
    "ns_filter = NonStationaryFilter(pvalue_threshold=0.1, n_periods=3)\n",
    "kt_filter = HighKurtosisFilter(kurtosis_threshold=2)\n",
    "compound_filter = CompoundFilter([ns_filter, kt_filter])\n",
    "tm = TopicExtractionModel(model, topic_filter=compound_filter)\n",
    "tm.fit(sample_year[\"headline\"].tolist(), np.stack(sample_year[\"embedding\"].tolist()), sample_year[\"month\"].tolist())\n"
   ]
  },
  {
   "cell_type": "code",
   "execution_count": 34,
   "metadata": {},
   "outputs": [
    {
     "data": {
      "application/vnd.plotly.v1+json": {
       "config": {
        "plotlyServerURL": "https://plot.ly"
       },
       "data": [
        {
         "hoverinfo": "text",
         "hovertext": [
          "<b>Topic 6</b><br>Words: amtrak, railroads, railroad, transportation, railway",
          "<b>Topic 6</b><br>Words: railroad, conrail, rail, metro, transportation",
          "<b>Topic 6</b><br>Words: metro, strike, railroad, subway, commuters",
          "<b>Topic 6</b><br>Words: railroad, union, strike, arbitration, trains",
          "<b>Topic 6</b><br>Words: railroad, railroads, trains, commuters, rail",
          "<b>Topic 6</b><br>Words: railroad, guardrails, subway, trains, transit",
          "<b>Topic 6</b><br>Words: railroad, subway, trains, subways, delays",
          "<b>Topic 6</b><br>Words: railroad, subway, subways, trains, transportation",
          "<b>Topic 6</b><br>Words: railroad, railroads, railway, subways, subway",
          "<b>Topic 6</b><br>Words: subway, subways, transportation, metro, fares",
          "<b>Topic 6</b><br>Words: buses, bus, railroads, railroad, greyhound",
          "<b>Topic 6</b><br>Words: fares, subway, buses, transportation, tolls"
         ],
         "marker": {
          "color": "#E69F00"
         },
         "mode": "lines",
         "name": "6_railroad_railroads_metro_commuters",
         "type": "scatter",
         "x": {
          "bdata": "AQIDBAUGBwgJCgsM",
          "dtype": "i1"
         },
         "y": {
          "bdata": "DAkaFAwLBwkEBQcG",
          "dtype": "i1"
         }
        },
        {
         "hoverinfo": "text",
         "hovertext": [
          "<b>Topic 10</b><br>Words: reagan, deficits, deficit, fiscal, regan",
          "<b>Topic 10</b><br>Words: deficits, deficit, fiscal, reagan, spending",
          "<b>Topic 10</b><br>Words: deficit, reagan, spending, bipartisan, budget",
          "<b>Topic 10</b><br>Words: bipartisan, spending, reagan, budget, senate",
          "<b>Topic 10</b><br>Words: reaganomics, bipartisan, deficits, deficit, senate",
          "<b>Topic 10</b><br>Words: fiscal, budgeted, deficit, budget, spending",
          "<b>Topic 10</b><br>Words: reagan, deficits, fiscal, presidency, spending",
          "<b>Topic 10</b><br>Words: deficits, deficit, governors, recovery, economic",
          "<b>Topic 10</b><br>Words: deficits, fiscal, reagan, congress, federal",
          "<b>Topic 10</b><br>Words: reagan, deficits, deficit, fiscal, presidency",
          "<b>Topic 10</b><br>Words: deficits, deficit, fiscal, congress, debt",
          "<b>Topic 10</b><br>Words: fiscal, spending, budgets, budget, reagan"
         ],
         "marker": {
          "color": "#56B4E9"
         },
         "mode": "lines",
         "name": "10_deficits_deficit_fiscal_reagan",
         "type": "scatter",
         "x": {
          "bdata": "AQIDBAUGBwgJCgsM",
          "dtype": "i1"
         },
         "y": {
          "bdata": "Jw0FCgwGAgEFBgYE",
          "dtype": "i1"
         }
        },
        {
         "hoverinfo": "text",
         "hovertext": [
          "<b>Topic 11</b><br>Words: takeover, merger, retailer, inc, hubbard",
          "<b>Topic 11</b><br>Words: shareholders, merger, mergers, subsidiary, company",
          "<b>Topic 11</b><br>Words: shareholders, stock, shares, holdings, owns",
          "<b>Topic 11</b><br>Words: stockholder, acquisitions, corporation, brokerages, chairman",
          "<b>Topic 11</b><br>Words: shares, stock, bidding, rockefeller, bid",
          "<b>Topic 11</b><br>Words: shares, stock, takeover, shareholders, bid",
          "<b>Topic 11</b><br>Words: shares, stock, takeover, merger, shareholders",
          "<b>Topic 11</b><br>Words: takeover, shares, stockholders, stock, investor",
          "<b>Topic 11</b><br>Words: stock, shares, investors, merger, trading",
          "<b>Topic 11</b><br>Words: shareholders, shares, stock, corporation, gulf",
          "<b>Topic 11</b><br>Words: stockholders, shares, shareholders, takeover, stock",
          "<b>Topic 11</b><br>Words: shareholder, takeover, shareholders, shares, investor"
         ],
         "marker": {
          "color": "#009E73"
         },
         "mode": "lines",
         "name": "11_shares_stock_bid_shareholders",
         "type": "scatter",
         "x": {
          "bdata": "AQIDBAUGBwgJCgsM",
          "dtype": "i1"
         },
         "y": {
          "bdata": "BQMICAgXCgQGCQkQ",
          "dtype": "i1"
         }
        },
        {
         "hoverinfo": "text",
         "hovertext": [
          "<b>Topic 12</b><br>Words: playwright, films, film, theater, movie",
          "<b>Topic 12</b><br>Words: theater, scorsese, broadway, comedy, films",
          "<b>Topic 12</b><br>Words: theatrical, theater, actor, broadway, hitchcock",
          "<b>Topic 12</b><br>Words: oscar, broadway, awards, shakespeare, musical",
          "<b>Topic 12</b><br>Words: olivier, lear, novelist, lerner, actor",
          "<b>Topic 12</b><br>Words: broadway, theater, actor, movies, film",
          "<b>Topic 12</b><br>Words: shakespeare, theater, travolta, broadway, audiences",
          "<b>Topic 12</b><br>Words: musicals, broadway, musical, theater, gershwin",
          "<b>Topic 12</b><br>Words: theater, musical, broadway, auditioning, scenes",
          "<b>Topic 12</b><br>Words: actors, acting, shakespeare, actor, theater",
          "<b>Topic 12</b><br>Words: broadway, theater, actors, musical, cast",
          "<b>Topic 12</b><br>Words: broadway, theater, actors, theaters, actor"
         ],
         "marker": {
          "color": "#F0E442"
         },
         "mode": "lines",
         "name": "12_broadway_theater_musical_playwright",
         "type": "scatter",
         "x": {
          "bdata": "AQIDBAUGBwgJCgsM",
          "dtype": "i1"
         },
         "y": {
          "bdata": "DQkICQkJCQcIBwUJ",
          "dtype": "i1"
         }
        },
        {
         "hoverinfo": "text",
         "hovertext": [
          "<b>Topic 18</b><br>Words: lebanon, israel, israeli, lebanese, israelis",
          "<b>Topic 18</b><br>Words: israeli, israel, israelis, lebanon, reagan",
          "<b>Topic 18</b><br>Words: israeli, israel, lebanon, israelis, lebanese",
          "<b>Topic 18</b><br>Words: israeli, lebanon, diplomacy, israel, shultz",
          "<b>Topic 18</b><br>Words: lebanon, syria, syrian, lebanese, israel",
          "<b>Topic 18</b><br>Words: syria, syrian, weinberger, diplomatic, israeli",
          "<b>Topic 18</b><br>Words: syria, syrian, lebanon, syrians, israeli",
          "<b>Topic 18</b><br>Words: lebanon, syria, israel, israeli, syrians",
          "<b>Topic 18</b><br>Words: lebanon, beirut, lebanese, israeli, israel",
          "<b>Topic 18</b><br>Words: syria, syrian, lebanon, syrians, diplomatic",
          "<b>Topic 18</b><br>Words: israeli, israel, lebanon, syrian, assad",
          "<b>Topic 18</b><br>Words: lebanon, syria, beirut, lebanese, israel"
         ],
         "marker": {
          "color": "#D55E00"
         },
         "mode": "lines",
         "name": "18_lebanon_syria_beirut_israeli",
         "type": "scatter",
         "x": {
          "bdata": "AQIDBAUGBwgJCgsM",
          "dtype": "i1"
         },
         "y": {
          "bdata": "BQUIBRcCDwMFAgME",
          "dtype": "i1"
         }
        },
        {
         "hoverinfo": "text",
         "hovertext": [
          "<b>Topic 21</b><br>Words: resign, resigning, martin, attorney, appointed",
          "<b>Topic 21</b><br>Words: executive, investigation, accused, mismanagement, investigators",
          "<b>Topic 21</b><br>Words: burford, administration, agency, attorney, reagan",
          "<b>Topic 21</b><br>Words: administration, administrator, environmentalists, appointees, reagan",
          "<b>Topic 21</b><br>Words: chairman, suspended, indicted, executive, reinstated",
          "<b>Topic 21</b><br>Words: reagan, chairman, resign, resigning, conservative",
          "<b>Topic 21</b><br>Words: adminstration, administration, environmental, environment, reagan",
          "<b>Topic 21</b><br>Words: accused, allegations, falsely, perjury, felony",
          "<b>Topic 21</b><br>Words: rulemaking, officials, regulations, regulatory, agency",
          "<b>Topic 21</b><br>Words: censorship, reagan, censors, findings, criticized",
          "<b>Topic 21</b><br>Words: convicted, judge, perjury, unconstitutional, jury"
         ],
         "marker": {
          "color": "#0072B2"
         },
         "mode": "lines",
         "name": "21_executive_agency_department_investiga...",
         "type": "scatter",
         "x": {
          "bdata": "AQIDBAUGBwgJCgw=",
          "dtype": "i1"
         },
         "y": {
          "bdata": "ARQaAQoDBAMBAgI=",
          "dtype": "i1"
         }
        },
        {
         "hoverinfo": "text",
         "hovertext": [
          "<b>Topic 25</b><br>Words: jets, dolphins, touchdown, colts, redskins",
          "<b>Topic 25</b><br>Words: quarterbacks, draft, picks, scouting, picked",
          "<b>Topic 25</b><br>Words: panthers, playoff, steelers, championship, touchdowns",
          "<b>Topic 25</b><br>Words: jets, saints, giants, colts, quarterback",
          "<b>Topic 25</b><br>Words: giants, jets, falcons, patriots, rams",
          "<b>Topic 25</b><br>Words: giants, jets, touchdowns, 49ers, quarterbacks",
          "<b>Topic 25</b><br>Words: jets, colts, patriots, giants, redskins",
          "<b>Topic 25</b><br>Words: cowboys, redskins, 49ers, rams, seahawks"
         ],
         "marker": {
          "color": "#CC79A7"
         },
         "mode": "lines",
         "name": "25_jets_49ers_redskins_seahawks",
         "type": "scatter",
         "x": {
          "bdata": "AQQHCAkKCww=",
          "dtype": "i1"
         },
         "y": {
          "bdata": "HQEDAggGBgs=",
          "dtype": "i1"
         }
        },
        {
         "hoverinfo": "text",
         "hovertext": [
          "<b>Topic 27</b><br>Words: pilot, airlines, flight, plane, jet",
          "<b>Topic 27</b><br>Words: selwitz, pilots, pilot, airplane, planes",
          "<b>Topic 27</b><br>Words: casualties, bombing, kabul, civilians, afghanistan",
          "<b>Topic 27</b><br>Words: volga, boat, soviet, vessel, passengers",
          "<b>Topic 27</b><br>Words: sarajevo, armenians, bosnia, yugoslavia, explosion",
          "<b>Topic 27</b><br>Words: soviet, rosenberg, 1944, missiles, sank",
          "<b>Topic 27</b><br>Words: aircraft, planes, plane, soviet, aviation",
          "<b>Topic 27</b><br>Words: pilots, flight, flights, plane, airliner",
          "<b>Topic 27</b><br>Words: soviet, russians, leningrad, aircraft, jet",
          "<b>Topic 27</b><br>Words: airline, jetliners, airlines, collision, flight"
         ],
         "marker": {
          "color": "#E69F00"
         },
         "mode": "lines",
         "name": "27_aircraft_plane_aviation_soviet",
         "type": "scatter",
         "x": {
          "bdata": "AwQFBgcICQoLDA==",
          "dtype": "i1"
         },
         "y": {
          "bdata": "AQECAQIELQQEAQ==",
          "dtype": "i1"
         }
        },
        {
         "hoverinfo": "text",
         "hovertext": [
          "<b>Topic 28</b><br>Words: falkland, falklands, thatcher, margaret, argentine",
          "<b>Topic 28</b><br>Words: detainees, grenadians, coup, bishop, regime",
          "<b>Topic 28</b><br>Words: grenada, cuba, caribbean, invasion, cubans",
          "<b>Topic 28</b><br>Words: grenada, cubans, castro, cuban, caribbean",
          "<b>Topic 28</b><br>Words: grenada, reagan, grenadians, hostage, peacekeeping"
         ],
         "marker": {
          "color": "#56B4E9"
         },
         "mode": "lines",
         "name": "28_grenada_caribbean_cuba_invasion",
         "type": "scatter",
         "x": {
          "bdata": "AQgKCww=",
          "dtype": "i1"
         },
         "y": {
          "bdata": "AgEhGQQ=",
          "dtype": "i1"
         }
        },
        {
         "hoverinfo": "text",
         "hovertext": [
          "<b>Topic 29</b><br>Words: warsaw, poland, polish, expulsion, poznan",
          "<b>Topic 29</b><br>Words: protest, protests, gdansk, solidarity, poland",
          "<b>Topic 29</b><br>Words: walesa, protests, authorities, demonstrations, leaders",
          "<b>Topic 29</b><br>Words: warsaw, poland, protests, demonstrators, polish",
          "<b>Topic 29</b><br>Words: poland, warsaw, gdansk, polish, pope",
          "<b>Topic 29</b><br>Words: poland, warsaw, sanctions, polish, regime",
          "<b>Topic 29</b><br>Words: solidarity, poland, polish, union, defiance",
          "<b>Topic 29</b><br>Words: lutherans, lutheran, catholics, luther, christianity",
          "<b>Topic 29</b><br>Words: solidarity, protest, nobel, walesa, peace",
          "<b>Topic 29</b><br>Words: reformation, poland, solidarity, luther, polish",
          "<b>Topic 29</b><br>Words: pope, reformation, poland, catholic, protestant"
         ],
         "marker": {
          "color": "#009E73"
         },
         "mode": "lines",
         "name": "29_poland_warsaw_polish_gdansk",
         "type": "scatter",
         "x": {
          "bdata": "AQMEBQYHCAkKCww=",
          "dtype": "i1"
         },
         "y": {
          "bdata": "BQIBCBUFBAMFBQQ=",
          "dtype": "i1"
         }
        },
        {
         "hoverinfo": "text",
         "hovertext": [
          "<b>Topic 30</b><br>Words: menopause, contraceptive, contraceptives, insulin, depo",
          "<b>Topic 30</b><br>Words: parenthood, genetic, pregnancies, screening, pediatrician",
          "<b>Topic 30</b><br>Words: microsurgery, newborns, vasectomies, microscopes, congenital",
          "<b>Topic 30</b><br>Words: contraceptive, spermicide, complications, disorders, neurological",
          "<b>Topic 30</b><br>Words: aids, diseases, epidemic, disease, herpes",
          "<b>Topic 30</b><br>Words: homosexuality, childbirth, infertility, homosexuals, genetic",
          "<b>Topic 30</b><br>Words: diseases, abnormalities, medical, illness, aids",
          "<b>Topic 30</b><br>Words: thyrotropin, hormone, researchers, biomedical, genetic",
          "<b>Topic 30</b><br>Words: genes, cancer, dna, biology, discovery",
          "<b>Topic 30</b><br>Words: vaccine, vaccines, infects, diseases, gene",
          "<b>Topic 30</b><br>Words: diseases, disease, diagnosed, aids, disorders",
          "<b>Topic 30</b><br>Words: hormone, genetically, transplantations, genetic, gene"
         ],
         "marker": {
          "color": "#F0E442"
         },
         "mode": "lines",
         "name": "30_aids_diseases_disease_immune",
         "type": "scatter",
         "x": {
          "bdata": "AQIDBAUGBwgJCgsM",
          "dtype": "i1"
         },
         "y": {
          "bdata": "AwUFBQ0GBgQBBQQD",
          "dtype": "i1"
         }
        },
        {
         "hoverinfo": "text",
         "hovertext": [
          "<b>Topic 34</b><br>Words: companywide, companies, subsidiaries, telecommunications, recession",
          "<b>Topic 34</b><br>Words: telegram, telegraph, communications, bell, telephone",
          "<b>Topic 34</b><br>Words: bell, telegraph, telephone, companies, ratings",
          "<b>Topic 34</b><br>Words: bell, telephone, telegraph, shareholders, shareholder",
          "<b>Topic 34</b><br>Words: telecommunications, takeover, bell, antitrust, tech",
          "<b>Topic 34</b><br>Words: telecommunications, telegraph, bell, telephone, sprint",
          "<b>Topic 34</b><br>Words: telegraph, telephone, telephones, shareholders, corporate",
          "<b>Topic 34</b><br>Words: companies, telegraph, executives, company, telephone",
          "<b>Topic 34</b><br>Words: bell, bellsouth, stock, shareholders, telegraph",
          "<b>Topic 34</b><br>Words: bell, telegraph, telecommunications, telephone, companies"
         ],
         "marker": {
          "color": "#D55E00"
         },
         "mode": "lines",
         "name": "34_bell_telecommunications_telephone_tel...",
         "type": "scatter",
         "x": {
          "bdata": "AQIDBgcICQoLDA==",
          "dtype": "i1"
         },
         "y": {
          "bdata": "BAIFAwMFAwMPCQ==",
          "dtype": "i1"
         }
        },
        {
         "hoverinfo": "text",
         "hovertext": [
          "<b>Topic 36</b><br>Words: beirut, lebanon, arafat, palestinian, palestine",
          "<b>Topic 36</b><br>Words: arafat, palestinian, abu, lebanon, damascus",
          "<b>Topic 36</b><br>Words: arafat, palestinian, assad, syria, rebels",
          "<b>Topic 36</b><br>Words: beirut, lebanon, arafat, fought, battles",
          "<b>Topic 36</b><br>Words: arafat, palestinian, palestinians, palestine, syria",
          "<b>Topic 36</b><br>Words: arafat, palestinian, palestinians, palestine, israeli"
         ],
         "marker": {
          "color": "#0072B2"
         },
         "mode": "lines",
         "name": "36_arafat_palestinian_palestinians_syria",
         "type": "scatter",
         "x": {
          "bdata": "AQUGCAsM",
          "dtype": "i1"
         },
         "y": {
          "bdata": "AQYJARgK",
          "dtype": "i1"
         }
        },
        {
         "hoverinfo": "text",
         "hovertext": [
          "<b>Topic 39</b><br>Words: loan, loans, financing, debt, lending",
          "<b>Topic 39</b><br>Words: bankers, argentine, rumasa, finance, treasury",
          "<b>Topic 39</b><br>Words: loans, bank, debt, credit, brazil",
          "<b>Topic 39</b><br>Words: borrowings, loans, brasilia, debt, brazilian",
          "<b>Topic 39</b><br>Words: rumasa, brazilian, austerity, brazil, debt",
          "<b>Topic 39</b><br>Words: brasilia, brazilians, brazilian, paulo, austerity",
          "<b>Topic 39</b><br>Words: loan, loans, debt, repayments, lending",
          "<b>Topic 39</b><br>Words: debt, brazilian, brazilians, loans, debts",
          "<b>Topic 39</b><br>Words: loans, loan, debt, repayment, debts",
          "<b>Topic 39</b><br>Words: brazilian, brazilians, loan, brazil, loans",
          "<b>Topic 39</b><br>Words: refinancing, debt, repay, creditors, payments"
         ],
         "marker": {
          "color": "#CC79A7"
         },
         "mode": "lines",
         "name": "39_loans_loan_brazilian_brazilians",
         "type": "scatter",
         "x": {
          "bdata": "AQIDBQYHCAkKCww=",
          "dtype": "i1"
         },
         "y": {
          "bdata": "AgMCBQIFBQMNBwE=",
          "dtype": "i1"
         }
        },
        {
         "hoverinfo": "text",
         "hovertext": [
          "<b>Topic 55</b><br>Words: defendants, plaintiffs, lawsuit, securities, sue",
          "<b>Topic 55</b><br>Words: convicted, advisory, analyst, advisers, publishing",
          "<b>Topic 55</b><br>Words: sued, justices, court, dow, judgment",
          "<b>Topic 55</b><br>Words: insider, securities, disclose, shareholders, traders",
          "<b>Topic 55</b><br>Words: fraud, fraudulent, bankruptcy, auditors, corporation",
          "<b>Topic 55</b><br>Words: pepsico, fraud, takeover, insider, accused",
          "<b>Topic 55</b><br>Words: court, fraud, judge, stockholder, insider",
          "<b>Topic 55</b><br>Words: marc, seized, court, rich, sued",
          "<b>Topic 55</b><br>Words: indicted, indictment, prosecutors, fraud, rich",
          "<b>Topic 55</b><br>Words: clarendon, lien, assets, tax, indictment",
          "<b>Topic 55</b><br>Words: fraud, amway, fines, corporation, defrauding"
         ],
         "marker": {
          "color": "#E69F00"
         },
         "mode": "lines",
         "name": "55_marc_rich_sued_indicted",
         "type": "scatter",
         "x": {
          "bdata": "AQIDBAUGBwgJCgs=",
          "dtype": "i1"
         },
         "y": {
          "bdata": "AwEDAwQCAgoEAQI=",
          "dtype": "i1"
         }
        },
        {
         "hoverinfo": "text",
         "hovertext": [
          "<b>Topic 56</b><br>Words: economists, deutsche, brandt, recession, economist",
          "<b>Topic 56</b><br>Words: currencies, currency, monetary, franc, france",
          "<b>Topic 56</b><br>Words: currencies, currency, inflation, monetary, austerity",
          "<b>Topic 56</b><br>Words: mitterrand, francois, france, inflationary, french",
          "<b>Topic 56</b><br>Words: mitterrand, francois, france, philippe, french",
          "<b>Topic 56</b><br>Words: currency, currencies, dollar, treasury, economics",
          "<b>Topic 56</b><br>Words: france, french, francois, budget, austerity",
          "<b>Topic 56</b><br>Words: banco, luxembourg, banks, bank, subsidiary"
         ],
         "marker": {
          "color": "#56B4E9"
         },
         "mode": "lines",
         "name": "56_currencies_currency_monetary_franc",
         "type": "scatter",
         "x": {
          "bdata": "AgMFBgcICQs=",
          "dtype": "i1"
         },
         "y": {
          "bdata": "AwwIBAICAgE=",
          "dtype": "i1"
         }
        },
        {
         "hoverinfo": "text",
         "hovertext": [
          "<b>Topic 61</b><br>Words: assassination, pope, ankara, turk, turkish",
          "<b>Topic 61</b><br>Words: extradition, barbie, gestapo, fugitive, lyons",
          "<b>Topic 61</b><br>Words: cambodians, refugees, cambodian, refugee, plight",
          "<b>Topic 61</b><br>Words: vietnam, vietnamese, cambodians, hanoi, cambodia",
          "<b>Topic 61</b><br>Words: thuy, tran, vietnam, trans, saigon",
          "<b>Topic 61</b><br>Words: thailand, thai, communists, insurgency, guerrilla",
          "<b>Topic 61</b><br>Words: barbie, gestapo, klaus, officer, officers",
          "<b>Topic 61</b><br>Words: bulgarian, bulgarians, antonov, turk, turkish",
          "<b>Topic 61</b><br>Words: vietnam, vietnamese, documentary, episodes, television",
          "<b>Topic 61</b><br>Words: pope, papal, paul, pastore, vatican"
         ],
         "marker": {
          "color": "#009E73"
         },
         "mode": "lines",
         "name": "61_vietnam_vietnamese_cambodian_cambodia...",
         "type": "scatter",
         "x": {
          "bdata": "AQIDBAYHCAkKDA==",
          "dtype": "i1"
         },
         "y": {
          "bdata": "BgEDDAEBBAIBAQ==",
          "dtype": "i1"
         }
        },
        {
         "hoverinfo": "text",
         "hovertext": [
          "<b>Topic 64</b><br>Words: reporters, reagan, leaks, clearance, staff",
          "<b>Topic 64</b><br>Words: wiretap, wiretapping, john, hersey, hiroshima",
          "<b>Topic 64</b><br>Words: polygraph, disclosures, secrecy, disciplining, dismissal",
          "<b>Topic 64</b><br>Words: carter, reagan, nixon, watergate, presidential",
          "<b>Topic 64</b><br>Words: reagan, carter, investigation, presidential, briefing",
          "<b>Topic 64</b><br>Words: investigations, investigation, reagan, polygraph, briefing",
          "<b>Topic 64</b><br>Words: hearings, reagan, hoover, archivist, congressional",
          "<b>Topic 64</b><br>Words: security, reagan, disclosure, reports, department",
          "<b>Topic 64</b><br>Words: callers, telephone, calls, wick, telephoned"
         ],
         "marker": {
          "color": "#F0E442"
         },
         "mode": "lines",
         "name": "64_reagan_carter_presidential_investigat...",
         "type": "scatter",
         "x": {
          "bdata": "AQIDBgcICgsM",
          "dtype": "i1"
         },
         "y": {
          "bdata": "AQEBBQ8CAgIB",
          "dtype": "i1"
         }
        },
        {
         "hoverinfo": "text",
         "hovertext": [
          "<b>Topic 66</b><br>Words: poitiers, france, customs, martel, french",
          "<b>Topic 66</b><br>Words: awacs, libyan, egypt, planes, libya",
          "<b>Topic 66</b><br>Words: chadian, chad, libya, libyan, troops",
          "<b>Topic 66</b><br>Words: chadian, insurgents, chad, rebels, oasis",
          "<b>Topic 66</b><br>Words: chad, diplomats, eviction, diplomatic, charities"
         ],
         "marker": {
          "color": "#D55E00"
         },
         "mode": "lines",
         "name": "66_chadian_chad_libya_libyan",
         "type": "scatter",
         "x": {
          "bdata": "AQIICQo=",
          "dtype": "i1"
         },
         "y": {
          "bdata": "AQIYAQE=",
          "dtype": "i1"
         }
        },
        {
         "hoverinfo": "text",
         "hovertext": [
          "<b>Topic 68</b><br>Words: summit, burger, cadillacs, ford, mcdonald",
          "<b>Topic 68</b><br>Words: economy, crisis, economic, allies, optimistic",
          "<b>Topic 68</b><br>Words: summit, economy, summits, economic, meeting",
          "<b>Topic 68</b><br>Words: nations, economies, negotiations, economic, countries",
          "<b>Topic 68</b><br>Words: nations, economic, compromise, agreement, conference",
          "<b>Topic 68</b><br>Words: togetherness, markethits, economic, europe, athens"
         ],
         "marker": {
          "color": "#0072B2"
         },
         "mode": "lines",
         "name": "68_summit_meeting_economy_economic",
         "type": "scatter",
         "x": {
          "bdata": "AwQFBgcM",
          "dtype": "i1"
         },
         "y": {
          "bdata": "AQQRAgMB",
          "dtype": "i1"
         }
        },
        {
         "hoverinfo": "text",
         "hovertext": [
          "<b>Topic 72</b><br>Words: nuclear, planners, plans, safety, deadline",
          "<b>Topic 72</b><br>Words: evacuation, risks, safety, risk, nuclear",
          "<b>Topic 72</b><br>Words: evacuations, briefings, emergency, nuclear, drills",
          "<b>Topic 72</b><br>Words: manhattan, york, westchester, indian, area",
          "<b>Topic 72</b><br>Words: evacuation, nuclear, reactors, planning, plans",
          "<b>Topic 72</b><br>Words: nuclear, evacuate, evacuation, reactors, planning",
          "<b>Topic 72</b><br>Words: evacuation, buses, bus, emergency, transportation"
         ],
         "marker": {
          "color": "#CC79A7"
         },
         "mode": "lines",
         "name": "72_evacuation_westchester_nuclear_york",
         "type": "scatter",
         "x": {
          "bdata": "AQIDBAUGCA==",
          "dtype": "i1"
         },
         "y": {
          "bdata": "AgIEAQsGAQ==",
          "dtype": "i1"
         }
        },
        {
         "hoverinfo": "text",
         "hovertext": [
          "<b>Topic 87</b><br>Words: turnpike, toll, driveway, connecticut, tollbooth",
          "<b>Topic 87</b><br>Words: tolls, toll, turnpike, tollbooths, hartford",
          "<b>Topic 87</b><br>Words: turnpike, tolls, toll, highways, connecticut",
          "<b>Topic 87</b><br>Words: roadway, turnpike, bridge, bridgepainting, lanes",
          "<b>Topic 87</b><br>Words: turnpike, interstate, bridge, connecticut, expressway",
          "<b>Topic 87</b><br>Words: turnpike, highway, connecticut, traffic, greenwich",
          "<b>Topic 87</b><br>Words: bridge, toll, turnpike, connecticut, legislative",
          "<b>Topic 87</b><br>Words: superhighway, highway, interstate, phillipsburg, newark"
         ],
         "marker": {
          "color": "#E69F00"
         },
         "mode": "lines",
         "name": "87_turnpike_toll_tolls_roadway",
         "type": "scatter",
         "x": {
          "bdata": "AQIDBgcICQo=",
          "dtype": "i1"
         },
         "y": {
          "bdata": "AgECBAoBAgE=",
          "dtype": "i1"
         }
        },
        {
         "hoverinfo": "text",
         "hovertext": [
          "<b>Topic 101</b><br>Words: reed, secretary, adviser, reagan, executive",
          "<b>Topic 101</b><br>Words: reagan, executive, adviser, advisers, stock",
          "<b>Topic 101</b><br>Words: evans, reagan, appointed, conservative, republican",
          "<b>Topic 101</b><br>Words: cox, reagan, evans, economist, president",
          "<b>Topic 101</b><br>Words: watt, secretary, resign, resignation, remark",
          "<b>Topic 101</b><br>Words: secretary, clark, reagan, president, deputy",
          "<b>Topic 101</b><br>Words: george, washington, filming, actor, presidential",
          "<b>Topic 101</b><br>Words: sawyer, mcmullen, contractor, navy, presidency"
         ],
         "marker": {
          "color": "#56B4E9"
         },
         "mode": "lines",
         "name": "101_secretary_reagan_watt_resigned",
         "type": "scatter",
         "x": {
          "bdata": "AwQFBwkKCww=",
          "dtype": "i1"
         },
         "y": {
          "bdata": "AQEBAQILAQE=",
          "dtype": "i1"
         }
        },
        {
         "hoverinfo": "text",
         "hovertext": [
          "<b>Topic 117</b><br>Words: blackout, midtown, manhattan, electrical, edison",
          "<b>Topic 117</b><br>Words: sweatshops, sweatshop, garment, boutique, factories"
         ],
         "marker": {
          "color": "#009E73"
         },
         "mode": "lines",
         "name": "117_blackout_midtown_manhattan_sweatshop...",
         "type": "scatter",
         "x": {
          "bdata": "CAo=",
          "dtype": "i1"
         },
         "y": {
          "bdata": "DAM=",
          "dtype": "i1"
         }
        },
        {
         "hoverinfo": "text",
         "hovertext": [
          "<b>Topic 123</b><br>Words: investigation, prosecutor, beirut, lebanon, lebanese",
          "<b>Topic 123</b><br>Words: israeli, palestinians, israel, sharon, beirut",
          "<b>Topic 123</b><br>Words: palestinians, palestinian, refugees, israeli, lebanon"
         ],
         "marker": {
          "color": "#F0E442"
         },
         "mode": "lines",
         "name": "123_israeli_palestinians_palestinian_sha...",
         "type": "scatter",
         "x": {
          "bdata": "AQID",
          "dtype": "i1"
         },
         "y": {
          "bdata": "AQwB",
          "dtype": "i1"
         }
        }
       ],
       "layout": {
        "height": 450,
        "hoverlabel": {
         "bgcolor": "white",
         "font": {
          "family": "Rockwell",
          "size": 16
         }
        },
        "legend": {
         "title": {
          "text": "<b>Global Topic Representation"
         }
        },
        "template": {
         "data": {
          "bar": [
           {
            "error_x": {
             "color": "rgb(36,36,36)"
            },
            "error_y": {
             "color": "rgb(36,36,36)"
            },
            "marker": {
             "line": {
              "color": "white",
              "width": 0.5
             },
             "pattern": {
              "fillmode": "overlay",
              "size": 10,
              "solidity": 0.2
             }
            },
            "type": "bar"
           }
          ],
          "barpolar": [
           {
            "marker": {
             "line": {
              "color": "white",
              "width": 0.5
             },
             "pattern": {
              "fillmode": "overlay",
              "size": 10,
              "solidity": 0.2
             }
            },
            "type": "barpolar"
           }
          ],
          "carpet": [
           {
            "aaxis": {
             "endlinecolor": "rgb(36,36,36)",
             "gridcolor": "white",
             "linecolor": "white",
             "minorgridcolor": "white",
             "startlinecolor": "rgb(36,36,36)"
            },
            "baxis": {
             "endlinecolor": "rgb(36,36,36)",
             "gridcolor": "white",
             "linecolor": "white",
             "minorgridcolor": "white",
             "startlinecolor": "rgb(36,36,36)"
            },
            "type": "carpet"
           }
          ],
          "choropleth": [
           {
            "colorbar": {
             "outlinewidth": 1,
             "tickcolor": "rgb(36,36,36)",
             "ticks": "outside"
            },
            "type": "choropleth"
           }
          ],
          "contour": [
           {
            "colorbar": {
             "outlinewidth": 1,
             "tickcolor": "rgb(36,36,36)",
             "ticks": "outside"
            },
            "colorscale": [
             [
              0,
              "#440154"
             ],
             [
              0.1111111111111111,
              "#482878"
             ],
             [
              0.2222222222222222,
              "#3e4989"
             ],
             [
              0.3333333333333333,
              "#31688e"
             ],
             [
              0.4444444444444444,
              "#26828e"
             ],
             [
              0.5555555555555556,
              "#1f9e89"
             ],
             [
              0.6666666666666666,
              "#35b779"
             ],
             [
              0.7777777777777778,
              "#6ece58"
             ],
             [
              0.8888888888888888,
              "#b5de2b"
             ],
             [
              1,
              "#fde725"
             ]
            ],
            "type": "contour"
           }
          ],
          "contourcarpet": [
           {
            "colorbar": {
             "outlinewidth": 1,
             "tickcolor": "rgb(36,36,36)",
             "ticks": "outside"
            },
            "type": "contourcarpet"
           }
          ],
          "heatmap": [
           {
            "colorbar": {
             "outlinewidth": 1,
             "tickcolor": "rgb(36,36,36)",
             "ticks": "outside"
            },
            "colorscale": [
             [
              0,
              "#440154"
             ],
             [
              0.1111111111111111,
              "#482878"
             ],
             [
              0.2222222222222222,
              "#3e4989"
             ],
             [
              0.3333333333333333,
              "#31688e"
             ],
             [
              0.4444444444444444,
              "#26828e"
             ],
             [
              0.5555555555555556,
              "#1f9e89"
             ],
             [
              0.6666666666666666,
              "#35b779"
             ],
             [
              0.7777777777777778,
              "#6ece58"
             ],
             [
              0.8888888888888888,
              "#b5de2b"
             ],
             [
              1,
              "#fde725"
             ]
            ],
            "type": "heatmap"
           }
          ],
          "histogram": [
           {
            "marker": {
             "line": {
              "color": "white",
              "width": 0.6
             }
            },
            "type": "histogram"
           }
          ],
          "histogram2d": [
           {
            "colorbar": {
             "outlinewidth": 1,
             "tickcolor": "rgb(36,36,36)",
             "ticks": "outside"
            },
            "colorscale": [
             [
              0,
              "#440154"
             ],
             [
              0.1111111111111111,
              "#482878"
             ],
             [
              0.2222222222222222,
              "#3e4989"
             ],
             [
              0.3333333333333333,
              "#31688e"
             ],
             [
              0.4444444444444444,
              "#26828e"
             ],
             [
              0.5555555555555556,
              "#1f9e89"
             ],
             [
              0.6666666666666666,
              "#35b779"
             ],
             [
              0.7777777777777778,
              "#6ece58"
             ],
             [
              0.8888888888888888,
              "#b5de2b"
             ],
             [
              1,
              "#fde725"
             ]
            ],
            "type": "histogram2d"
           }
          ],
          "histogram2dcontour": [
           {
            "colorbar": {
             "outlinewidth": 1,
             "tickcolor": "rgb(36,36,36)",
             "ticks": "outside"
            },
            "colorscale": [
             [
              0,
              "#440154"
             ],
             [
              0.1111111111111111,
              "#482878"
             ],
             [
              0.2222222222222222,
              "#3e4989"
             ],
             [
              0.3333333333333333,
              "#31688e"
             ],
             [
              0.4444444444444444,
              "#26828e"
             ],
             [
              0.5555555555555556,
              "#1f9e89"
             ],
             [
              0.6666666666666666,
              "#35b779"
             ],
             [
              0.7777777777777778,
              "#6ece58"
             ],
             [
              0.8888888888888888,
              "#b5de2b"
             ],
             [
              1,
              "#fde725"
             ]
            ],
            "type": "histogram2dcontour"
           }
          ],
          "mesh3d": [
           {
            "colorbar": {
             "outlinewidth": 1,
             "tickcolor": "rgb(36,36,36)",
             "ticks": "outside"
            },
            "type": "mesh3d"
           }
          ],
          "parcoords": [
           {
            "line": {
             "colorbar": {
              "outlinewidth": 1,
              "tickcolor": "rgb(36,36,36)",
              "ticks": "outside"
             }
            },
            "type": "parcoords"
           }
          ],
          "pie": [
           {
            "automargin": true,
            "type": "pie"
           }
          ],
          "scatter": [
           {
            "fillpattern": {
             "fillmode": "overlay",
             "size": 10,
             "solidity": 0.2
            },
            "type": "scatter"
           }
          ],
          "scatter3d": [
           {
            "line": {
             "colorbar": {
              "outlinewidth": 1,
              "tickcolor": "rgb(36,36,36)",
              "ticks": "outside"
             }
            },
            "marker": {
             "colorbar": {
              "outlinewidth": 1,
              "tickcolor": "rgb(36,36,36)",
              "ticks": "outside"
             }
            },
            "type": "scatter3d"
           }
          ],
          "scattercarpet": [
           {
            "marker": {
             "colorbar": {
              "outlinewidth": 1,
              "tickcolor": "rgb(36,36,36)",
              "ticks": "outside"
             }
            },
            "type": "scattercarpet"
           }
          ],
          "scattergeo": [
           {
            "marker": {
             "colorbar": {
              "outlinewidth": 1,
              "tickcolor": "rgb(36,36,36)",
              "ticks": "outside"
             }
            },
            "type": "scattergeo"
           }
          ],
          "scattergl": [
           {
            "marker": {
             "colorbar": {
              "outlinewidth": 1,
              "tickcolor": "rgb(36,36,36)",
              "ticks": "outside"
             }
            },
            "type": "scattergl"
           }
          ],
          "scattermap": [
           {
            "marker": {
             "colorbar": {
              "outlinewidth": 1,
              "tickcolor": "rgb(36,36,36)",
              "ticks": "outside"
             }
            },
            "type": "scattermap"
           }
          ],
          "scattermapbox": [
           {
            "marker": {
             "colorbar": {
              "outlinewidth": 1,
              "tickcolor": "rgb(36,36,36)",
              "ticks": "outside"
             }
            },
            "type": "scattermapbox"
           }
          ],
          "scatterpolar": [
           {
            "marker": {
             "colorbar": {
              "outlinewidth": 1,
              "tickcolor": "rgb(36,36,36)",
              "ticks": "outside"
             }
            },
            "type": "scatterpolar"
           }
          ],
          "scatterpolargl": [
           {
            "marker": {
             "colorbar": {
              "outlinewidth": 1,
              "tickcolor": "rgb(36,36,36)",
              "ticks": "outside"
             }
            },
            "type": "scatterpolargl"
           }
          ],
          "scatterternary": [
           {
            "marker": {
             "colorbar": {
              "outlinewidth": 1,
              "tickcolor": "rgb(36,36,36)",
              "ticks": "outside"
             }
            },
            "type": "scatterternary"
           }
          ],
          "surface": [
           {
            "colorbar": {
             "outlinewidth": 1,
             "tickcolor": "rgb(36,36,36)",
             "ticks": "outside"
            },
            "colorscale": [
             [
              0,
              "#440154"
             ],
             [
              0.1111111111111111,
              "#482878"
             ],
             [
              0.2222222222222222,
              "#3e4989"
             ],
             [
              0.3333333333333333,
              "#31688e"
             ],
             [
              0.4444444444444444,
              "#26828e"
             ],
             [
              0.5555555555555556,
              "#1f9e89"
             ],
             [
              0.6666666666666666,
              "#35b779"
             ],
             [
              0.7777777777777778,
              "#6ece58"
             ],
             [
              0.8888888888888888,
              "#b5de2b"
             ],
             [
              1,
              "#fde725"
             ]
            ],
            "type": "surface"
           }
          ],
          "table": [
           {
            "cells": {
             "fill": {
              "color": "rgb(237,237,237)"
             },
             "line": {
              "color": "white"
             }
            },
            "header": {
             "fill": {
              "color": "rgb(217,217,217)"
             },
             "line": {
              "color": "white"
             }
            },
            "type": "table"
           }
          ]
         },
         "layout": {
          "annotationdefaults": {
           "arrowhead": 0,
           "arrowwidth": 1
          },
          "autotypenumbers": "strict",
          "coloraxis": {
           "colorbar": {
            "outlinewidth": 1,
            "tickcolor": "rgb(36,36,36)",
            "ticks": "outside"
           }
          },
          "colorscale": {
           "diverging": [
            [
             0,
             "rgb(103,0,31)"
            ],
            [
             0.1,
             "rgb(178,24,43)"
            ],
            [
             0.2,
             "rgb(214,96,77)"
            ],
            [
             0.3,
             "rgb(244,165,130)"
            ],
            [
             0.4,
             "rgb(253,219,199)"
            ],
            [
             0.5,
             "rgb(247,247,247)"
            ],
            [
             0.6,
             "rgb(209,229,240)"
            ],
            [
             0.7,
             "rgb(146,197,222)"
            ],
            [
             0.8,
             "rgb(67,147,195)"
            ],
            [
             0.9,
             "rgb(33,102,172)"
            ],
            [
             1,
             "rgb(5,48,97)"
            ]
           ],
           "sequential": [
            [
             0,
             "#440154"
            ],
            [
             0.1111111111111111,
             "#482878"
            ],
            [
             0.2222222222222222,
             "#3e4989"
            ],
            [
             0.3333333333333333,
             "#31688e"
            ],
            [
             0.4444444444444444,
             "#26828e"
            ],
            [
             0.5555555555555556,
             "#1f9e89"
            ],
            [
             0.6666666666666666,
             "#35b779"
            ],
            [
             0.7777777777777778,
             "#6ece58"
            ],
            [
             0.8888888888888888,
             "#b5de2b"
            ],
            [
             1,
             "#fde725"
            ]
           ],
           "sequentialminus": [
            [
             0,
             "#440154"
            ],
            [
             0.1111111111111111,
             "#482878"
            ],
            [
             0.2222222222222222,
             "#3e4989"
            ],
            [
             0.3333333333333333,
             "#31688e"
            ],
            [
             0.4444444444444444,
             "#26828e"
            ],
            [
             0.5555555555555556,
             "#1f9e89"
            ],
            [
             0.6666666666666666,
             "#35b779"
            ],
            [
             0.7777777777777778,
             "#6ece58"
            ],
            [
             0.8888888888888888,
             "#b5de2b"
            ],
            [
             1,
             "#fde725"
            ]
           ]
          },
          "colorway": [
           "#1F77B4",
           "#FF7F0E",
           "#2CA02C",
           "#D62728",
           "#9467BD",
           "#8C564B",
           "#E377C2",
           "#7F7F7F",
           "#BCBD22",
           "#17BECF"
          ],
          "font": {
           "color": "rgb(36,36,36)"
          },
          "geo": {
           "bgcolor": "white",
           "lakecolor": "white",
           "landcolor": "white",
           "showlakes": true,
           "showland": true,
           "subunitcolor": "white"
          },
          "hoverlabel": {
           "align": "left"
          },
          "hovermode": "closest",
          "mapbox": {
           "style": "light"
          },
          "paper_bgcolor": "white",
          "plot_bgcolor": "white",
          "polar": {
           "angularaxis": {
            "gridcolor": "rgb(232,232,232)",
            "linecolor": "rgb(36,36,36)",
            "showgrid": false,
            "showline": true,
            "ticks": "outside"
           },
           "bgcolor": "white",
           "radialaxis": {
            "gridcolor": "rgb(232,232,232)",
            "linecolor": "rgb(36,36,36)",
            "showgrid": false,
            "showline": true,
            "ticks": "outside"
           }
          },
          "scene": {
           "xaxis": {
            "backgroundcolor": "white",
            "gridcolor": "rgb(232,232,232)",
            "gridwidth": 2,
            "linecolor": "rgb(36,36,36)",
            "showbackground": true,
            "showgrid": false,
            "showline": true,
            "ticks": "outside",
            "zeroline": false,
            "zerolinecolor": "rgb(36,36,36)"
           },
           "yaxis": {
            "backgroundcolor": "white",
            "gridcolor": "rgb(232,232,232)",
            "gridwidth": 2,
            "linecolor": "rgb(36,36,36)",
            "showbackground": true,
            "showgrid": false,
            "showline": true,
            "ticks": "outside",
            "zeroline": false,
            "zerolinecolor": "rgb(36,36,36)"
           },
           "zaxis": {
            "backgroundcolor": "white",
            "gridcolor": "rgb(232,232,232)",
            "gridwidth": 2,
            "linecolor": "rgb(36,36,36)",
            "showbackground": true,
            "showgrid": false,
            "showline": true,
            "ticks": "outside",
            "zeroline": false,
            "zerolinecolor": "rgb(36,36,36)"
           }
          },
          "shapedefaults": {
           "fillcolor": "black",
           "line": {
            "width": 0
           },
           "opacity": 0.3
          },
          "ternary": {
           "aaxis": {
            "gridcolor": "rgb(232,232,232)",
            "linecolor": "rgb(36,36,36)",
            "showgrid": false,
            "showline": true,
            "ticks": "outside"
           },
           "baxis": {
            "gridcolor": "rgb(232,232,232)",
            "linecolor": "rgb(36,36,36)",
            "showgrid": false,
            "showline": true,
            "ticks": "outside"
           },
           "bgcolor": "white",
           "caxis": {
            "gridcolor": "rgb(232,232,232)",
            "linecolor": "rgb(36,36,36)",
            "showgrid": false,
            "showline": true,
            "ticks": "outside"
           }
          },
          "title": {
           "x": 0.05
          },
          "xaxis": {
           "automargin": true,
           "gridcolor": "rgb(232,232,232)",
           "linecolor": "rgb(36,36,36)",
           "showgrid": false,
           "showline": true,
           "ticks": "outside",
           "title": {
            "standoff": 15
           },
           "zeroline": false,
           "zerolinecolor": "rgb(36,36,36)"
          },
          "yaxis": {
           "automargin": true,
           "gridcolor": "rgb(232,232,232)",
           "linecolor": "rgb(36,36,36)",
           "showgrid": false,
           "showline": true,
           "ticks": "outside",
           "title": {
            "standoff": 15
           },
           "zeroline": false,
           "zerolinecolor": "rgb(36,36,36)"
          }
         }
        },
        "title": {
         "font": {
          "color": "Black",
          "size": 22
         },
         "text": "<b>Topics over Time</b>",
         "x": 0.4,
         "xanchor": "center",
         "y": 0.95,
         "yanchor": "top"
        },
        "width": 1250,
        "xaxis": {
         "showgrid": true
        },
        "yaxis": {
         "showgrid": true,
         "title": {
          "text": "Frequency"
         }
        }
       }
      }
     },
     "metadata": {},
     "output_type": "display_data"
    }
   ],
   "source": [
    "tm.model.visualize_topics_over_time(tm.topics_over_time[tm.topics_over_time.Topic.isin(tm.topic_filter.topics)])"
   ]
  },
  {
   "cell_type": "code",
   "execution_count": 35,
   "metadata": {},
   "outputs": [
    {
     "data": {
      "text/plain": [
       "array([7.676026 , 7.729986 , 7.958832 , 8.940803 , 5.3474736, 8.047256 ,\n",
       "       7.9106092, 8.103104 , 6.7226806, 5.4936266, 5.48057  , 8.166957 ,\n",
       "       7.11946  , 5.4218726, 7.263571 , 8.491496 , 5.0566196, 7.492132 ,\n",
       "       7.060274 , 4.82623  , 4.3095446, 2.7194328, 6.9534283, 6.189779 ,\n",
       "       7.6879416], dtype=float32)"
      ]
     },
     "execution_count": 35,
     "metadata": {},
     "output_type": "execute_result"
    }
   ],
   "source": [
    "tm.compute_alignment(tm.centroids)"
   ]
  },
  {
   "cell_type": "code",
   "execution_count": 36,
   "metadata": {},
   "outputs": [
    {
     "data": {
      "text/plain": [
       "age                  28\n",
       "awards_as_of_year    28\n",
       "embedding            28\n",
       "n_win                28\n",
       "n_nom                28\n",
       "gender_male          28\n",
       "gender_female        28\n",
       "dtype: int64"
      ]
     },
     "execution_count": 36,
     "metadata": {},
     "output_type": "execute_result"
    }
   ],
   "source": [
    "novels = pd.read_csv(\"../data/nominated_novels.csv\")\n",
    "description_embeddings = pd.read_parquet(\"../data/description_embeddings.parquet\")\n",
    "desc_merged = pd.get_dummies(novels[novels.year == YEAR], columns=['gender']).merge(description_embeddings, on=\"work_qid\", how=\"left\").groupby(\"work_qid\").agg({\n",
    "    'age': 'mean',\n",
    "    'awards_as_of_year': 'sum',\n",
    "    'embedding': 'first',\n",
    "    'n_win': 'first',\n",
    "    'n_nom': 'first',\n",
    "    'gender_male': 'sum',\n",
    "    'gender_female': 'sum',\n",
    "}).dropna()\n",
    "\n",
    "desc_merged.count()"
   ]
  },
  {
   "cell_type": "code",
   "execution_count": 37,
   "metadata": {},
   "outputs": [
    {
     "data": {
      "text/html": [
       "<div>\n",
       "<style scoped>\n",
       "    .dataframe tbody tr th:only-of-type {\n",
       "        vertical-align: middle;\n",
       "    }\n",
       "\n",
       "    .dataframe tbody tr th {\n",
       "        vertical-align: top;\n",
       "    }\n",
       "\n",
       "    .dataframe thead th {\n",
       "        text-align: right;\n",
       "    }\n",
       "</style>\n",
       "<table border=\"1\" class=\"dataframe\">\n",
       "  <thead>\n",
       "    <tr style=\"text-align: right;\">\n",
       "      <th></th>\n",
       "      <th>metric</th>\n",
       "      <th>alignment</th>\n",
       "      <th>age</th>\n",
       "      <th>awards_as_of_year</th>\n",
       "      <th>embedding</th>\n",
       "      <th>n_win</th>\n",
       "      <th>n_nom</th>\n",
       "      <th>gender_male</th>\n",
       "      <th>gender_female</th>\n",
       "      <th>won</th>\n",
       "    </tr>\n",
       "    <tr>\n",
       "      <th>work_qid</th>\n",
       "      <th></th>\n",
       "      <th></th>\n",
       "      <th></th>\n",
       "      <th></th>\n",
       "      <th></th>\n",
       "      <th></th>\n",
       "      <th></th>\n",
       "      <th></th>\n",
       "      <th></th>\n",
       "      <th></th>\n",
       "    </tr>\n",
       "  </thead>\n",
       "  <tbody>\n",
       "    <tr>\n",
       "      <th>Q1138582</th>\n",
       "      <td>cosine</td>\n",
       "      <td>-0.456597</td>\n",
       "      <td>55.0</td>\n",
       "      <td>16</td>\n",
       "      <td>[-0.0552539, -0.017166685, -0.023110507, 0.039...</td>\n",
       "      <td>0</td>\n",
       "      <td>1</td>\n",
       "      <td>1</td>\n",
       "      <td>0</td>\n",
       "      <td>False</td>\n",
       "    </tr>\n",
       "    <tr>\n",
       "      <th>Q128324</th>\n",
       "      <td>cosine</td>\n",
       "      <td>0.527409</td>\n",
       "      <td>31.0</td>\n",
       "      <td>1</td>\n",
       "      <td>[-0.07045932, -0.029929008, -0.039669994, -0.0...</td>\n",
       "      <td>1</td>\n",
       "      <td>0</td>\n",
       "      <td>1</td>\n",
       "      <td>0</td>\n",
       "      <td>True</td>\n",
       "    </tr>\n",
       "    <tr>\n",
       "      <th>Q131375459</th>\n",
       "      <td>cosine</td>\n",
       "      <td>-0.534038</td>\n",
       "      <td>52.0</td>\n",
       "      <td>2</td>\n",
       "      <td>[0.014932743, 0.008455961, 0.036621794, 0.0107...</td>\n",
       "      <td>0</td>\n",
       "      <td>1</td>\n",
       "      <td>0</td>\n",
       "      <td>1</td>\n",
       "      <td>False</td>\n",
       "    </tr>\n",
       "    <tr>\n",
       "      <th>Q131375476</th>\n",
       "      <td>cosine</td>\n",
       "      <td>1.018936</td>\n",
       "      <td>31.0</td>\n",
       "      <td>2</td>\n",
       "      <td>[-0.11120238, -0.06832786, -0.023779087, -0.01...</td>\n",
       "      <td>0</td>\n",
       "      <td>1</td>\n",
       "      <td>1</td>\n",
       "      <td>0</td>\n",
       "      <td>False</td>\n",
       "    </tr>\n",
       "    <tr>\n",
       "      <th>Q15034210</th>\n",
       "      <td>cosine</td>\n",
       "      <td>0.523245</td>\n",
       "      <td>46.0</td>\n",
       "      <td>0</td>\n",
       "      <td>[-0.06510513, 0.012740441, -0.010297849, -0.11...</td>\n",
       "      <td>0</td>\n",
       "      <td>1</td>\n",
       "      <td>1</td>\n",
       "      <td>0</td>\n",
       "      <td>False</td>\n",
       "    </tr>\n",
       "  </tbody>\n",
       "</table>\n",
       "</div>"
      ],
      "text/plain": [
       "            metric  alignment   age  awards_as_of_year  \\\n",
       "work_qid                                                 \n",
       "Q1138582    cosine  -0.456597  55.0                 16   \n",
       "Q128324     cosine   0.527409  31.0                  1   \n",
       "Q131375459  cosine  -0.534038  52.0                  2   \n",
       "Q131375476  cosine   1.018936  31.0                  2   \n",
       "Q15034210   cosine   0.523245  46.0                  0   \n",
       "\n",
       "                                                    embedding  n_win  n_nom  \\\n",
       "work_qid                                                                      \n",
       "Q1138582    [-0.0552539, -0.017166685, -0.023110507, 0.039...      0      1   \n",
       "Q128324     [-0.07045932, -0.029929008, -0.039669994, -0.0...      1      0   \n",
       "Q131375459  [0.014932743, 0.008455961, 0.036621794, 0.0107...      0      1   \n",
       "Q131375476  [-0.11120238, -0.06832786, -0.023779087, -0.01...      0      1   \n",
       "Q15034210   [-0.06510513, 0.012740441, -0.010297849, -0.11...      0      1   \n",
       "\n",
       "            gender_male  gender_female    won  \n",
       "work_qid                                       \n",
       "Q1138582              1              0  False  \n",
       "Q128324               1              0   True  \n",
       "Q131375459            0              1  False  \n",
       "Q131375476            1              0  False  \n",
       "Q15034210             1              0  False  "
      ]
     },
     "execution_count": 37,
     "metadata": {},
     "output_type": "execute_result"
    }
   ],
   "source": [
    "from models.debias import NullspaceProjector, learn_nullspace_normal_vector\n",
    "\n",
    "train_desc = pd.read_csv(\"../data/train_desc_labeled.csv\")\n",
    "w = learn_nullspace_normal_vector(train_desc)\n",
    "db = NullspaceProjector(normal_vector=w)\n",
    "embeddings = db.transform(np.stack(desc_merged[\"embedding\"].values))\n",
    "db.fit(embeddings)\n",
    "desc_aligned = desc_merged.assign(\n",
    "    cosine=tm.compute_alignment(embeddings, metric=\"cosine\"),\n",
    "    linear=tm.compute_alignment(embeddings, metric=\"linear\"),\n",
    "    rbf=tm.compute_alignment(embeddings, metric=\"rbf\", gamma=5),\n",
    ").melt(\n",
    "    value_vars=[\"cosine\", \"linear\", \"rbf\"],\n",
    "    value_name=\"alignment\",\n",
    "    var_name=\"metric\",\n",
    "    ignore_index=False,\n",
    ").join(desc_merged, how=\"left\").assign(won=lambda x: x.n_win > 0)\n",
    "desc_aligned.head()"
   ]
  },
  {
   "cell_type": "code",
   "execution_count": 38,
   "metadata": {},
   "outputs": [
    {
     "data": {
      "text/plain": [
       "<Axes: xlabel='alignment', ylabel='Density'>"
      ]
     },
     "execution_count": 38,
     "metadata": {},
     "output_type": "execute_result"
    },
    {
     "data": {
      "image/png": "[encoded data removed]",
      "text/plain": [
       "<Figure size 640x480 with 1 Axes>"
      ]
     },
     "metadata": {},
     "output_type": "display_data"
    }
   ],
   "source": [
    "sns.kdeplot(x=\"alignment\", data=desc_aligned[desc_aligned.metric == \"cosine\"], hue='won', common_norm=True )"
   ]
  },
  {
   "cell_type": "code",
   "execution_count": 39,
   "metadata": {},
   "outputs": [
    {
     "data": {
      "text/plain": [
       "<Axes: xlabel='alignment', ylabel='Density'>"
      ]
     },
     "execution_count": 39,
     "metadata": {},
     "output_type": "execute_result"
    },
    {
     "data": {
      "image/png": "[encoded data removed]",
      "text/plain": [
       "<Figure size 640x480 with 1 Axes>"
      ]
     },
     "metadata": {},
     "output_type": "display_data"
    }
   ],
   "source": [
    "sns.kdeplot(x=\"alignment\", data=desc_aligned[desc_aligned.metric == \"rbf\"], hue='won', common_norm=True )"
   ]
  },
  {
   "cell_type": "code",
   "execution_count": 40,
   "metadata": {},
   "outputs": [
    {
     "data": {
      "text/plain": [
       "<Axes: xlabel='alignment', ylabel='Density'>"
      ]
     },
     "execution_count": 40,
     "metadata": {},
     "output_type": "execute_result"
    },
    {
     "data": {
      "image/png": "[encoded data removed]",
      "text/plain": [
       "<Figure size 640x480 with 1 Axes>"
      ]
     },
     "metadata": {},
     "output_type": "display_data"
    }
   ],
   "source": [
    "sns.kdeplot(x=\"alignment\", data=desc_aligned[desc_aligned.metric == \"rbf\"], hue='won', common_norm=True , fill=True)"
   ]
  },
  {
   "cell_type": "code",
   "execution_count": 41,
   "metadata": {},
   "outputs": [
    {
     "data": {
      "text/plain": [
       "<seaborn.axisgrid.FacetGrid at 0x33d91bb10>"
      ]
     },
     "execution_count": 41,
     "metadata": {},
     "output_type": "execute_result"
    },
    {
     "data": {
      "image/png": "[encoded data removed]",
      "text/plain": [
       "<Figure size 1511.11x500 with 3 Axes>"
      ]
     },
     "metadata": {},
     "output_type": "display_data"
    }
   ],
   "source": [
    "sns.catplot(x=\"won\", y=\"alignment\", data=desc_aligned, kind=\"box\", col=\"metric\")"
   ]
  },
  {
   "cell_type": "code",
   "execution_count": 28,
   "metadata": {},
   "outputs": [
    {
     "data": {
      "text/plain": [
       "array([0.01513142, 0.03433112, 0.02576734])"
      ]
     },
     "execution_count": 28,
     "metadata": {},
     "output_type": "execute_result"
    }
   ],
   "source": [
    "from sklearn.feature_selection import mutual_info_regression\n",
    "mutual_info_regression(desc_aligned[[\"alignment\", \"age\", \"awards_as_of_year\"]], desc_aligned[\"n_win\"])"
   ]
  },
  {
   "cell_type": "code",
   "execution_count": 29,
   "metadata": {},
   "outputs": [
    {
     "data": {
      "text/plain": [
       "<seaborn.axisgrid.PairGrid at 0x339fcfdd0>"
      ]
     },
     "execution_count": 29,
     "metadata": {},
     "output_type": "execute_result"
    },
    {
     "data": {
      "image/png": "[encoded data removed]",
      "text/plain": [
       "<Figure size 2000x2000 with 72 Axes>"
      ]
     },
     "metadata": {},
     "output_type": "display_data"
    }
   ],
   "source": [
    "sns.pairplot(desc_aligned[desc_aligned.metric == \"cosine\"].reset_index().drop(columns=[\"work_qid\", \"embedding\", \"metric\"]))"
   ]
  },
  {
   "cell_type": "code",
   "execution_count": 30,
   "metadata": {},
   "outputs": [
    {
     "data": {
      "text/plain": [
       "(np.float64(-0.11611692734811926), np.float64(0.20539462385821947))"
      ]
     },
     "execution_count": 30,
     "metadata": {},
     "output_type": "execute_result"
    }
   ],
   "source": [
    "(desc_aligned[desc_aligned.n_win > 0].alignment.mean(), desc_aligned[desc_aligned.n_win == 0].alignment.mean())"
   ]
  },
  {
   "cell_type": "code",
   "execution_count": null,
   "metadata": {},
   "outputs": [],
   "source": []
  }
 ],
 "metadata": {
  "kernelspec": {
   "display_name": "default",
   "language": "python",
   "name": "python3"
  },
  "language_info": {
   "codemirror_mode": {
    "name": "ipython",
    "version": 3
   },
   "file_extension": ".py",
   "mimetype": "text/x-python",
   "name": "python",
   "nbconvert_exporter": "python",
   "pygments_lexer": "ipython3",
   "version": "3.11.12"
  }
 },
 "nbformat": 4,
 "nbformat_minor": 2
}
