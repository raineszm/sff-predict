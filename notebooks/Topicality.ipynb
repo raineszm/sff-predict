{
 "cells": [
  {
   "cell_type": "code",
   "execution_count": 1,
   "metadata": {},
   "outputs": [],
   "source": [
    "%load_ext autoreload\n",
    "%autoreload 2\n",
    "import pandas as pd\n",
    "import numpy as np\n",
    "import seaborn as sns\n",
    "import sys\n",
    "sys.path.append(\"../../\")\n",
    "from models.topics import TopicExtractionModel\n",
    "from sentence_transformers import SentenceTransformer"
   ]
  },
  {
   "cell_type": "code",
   "execution_count": 2,
   "metadata": {},
   "outputs": [],
   "source": [
    "headlines = pd.read_json(\"../../data/raw/headlines.json\", lines=True)\n",
    "headline_embeddings = pd.read_parquet(\"../../data/headline_embeddings.parquet\")\n",
    "headlines_merged = pd.merge(headlines, headline_embeddings, on=\"id\", how=\"left\")"
   ]
  },
  {
   "cell_type": "code",
   "execution_count": 3,
   "metadata": {},
   "outputs": [
    {
     "data": {
      "text/plain": [
       "<models.topics.TopicExtractionModel at 0x3082fca90>"
      ]
     },
     "execution_count": 3,
     "metadata": {},
     "output_type": "execute_result"
    }
   ],
   "source": [
    "from models.topics import NonStationaryFilter, HighKurtosisFilter, CompoundFilter\n",
    "YEAR = 1977\n",
    "sample_year = headlines_merged[headlines_merged[\"year\"] == YEAR]\n",
    "\n",
    "model = SentenceTransformer(\"all-MiniLM-L6-v2\")\n",
    "ns_filter = NonStationaryFilter(pvalue_threshold=0.1, n_periods=3)\n",
    "kt_filter = HighKurtosisFilter(kurtosis_threshold=2)\n",
    "compound_filter = CompoundFilter([ns_filter, kt_filter])\n",
    "tm = TopicExtractionModel(model, topic_filter=compound_filter)\n",
    "tm.fit(sample_year[\"headline\"].tolist(), np.stack(sample_year[\"embedding\"].tolist()), sample_year[\"month\"].tolist())\n"
   ]
  },
  {
   "cell_type": "code",
   "execution_count": 4,
   "metadata": {},
   "outputs": [
    {
     "data": {
      "application/vnd.plotly.v1+json": {
       "config": {
        "plotlyServerURL": "https://plot.ly"
       },
       "data": [
        {
         "hoverinfo": "text",
         "hovertext": [
          "<b>Topic 2</b><br>Words: mondale, nato, alliance, atlantic, funds",
          "<b>Topic 2</b><br>Words: vance, israeli, israel, hussein, jordan",
          "<b>Topic 2</b><br>Words: carter, rabin, israel, israelis, diplomats",
          "<b>Topic 2</b><br>Words: rabin, fined, uranium, israeli, mrs",
          "<b>Topic 2</b><br>Words: israeli, israelis, palestinian, palestine, gaza",
          "<b>Topic 2</b><br>Words: israeli, israelis, israel, mondale, jews",
          "<b>Topic 2</b><br>Words: libya, libyans, egypt, arab, syrian",
          "<b>Topic 2</b><br>Words: syria, israel, israeli, assad, lebanon",
          "<b>Topic 2</b><br>Words: israelis, israeli, israel, arabs, palestinian",
          "<b>Topic 2</b><br>Words: israeli, israel, palestinians, arabs, arab",
          "<b>Topic 2</b><br>Words: israeli, israel, palestinians, sadat, jordanian",
          "<b>Topic 2</b><br>Words: egypt, cairo, sadat, egyptian, egyptians"
         ],
         "marker": {
          "color": "#E69F00"
         },
         "mode": "lines",
         "name": "2_israel_israeli_israelis_palestinian",
         "type": "scatter",
         "x": {
          "bdata": "AQIDBAUGBwgJCgsM",
          "dtype": "i1"
         },
         "y": {
          "bdata": "CRAMEhMLERYMFTQ6",
          "dtype": "i1"
         }
        },
        {
         "hoverinfo": "text",
         "hovertext": [
          "<b>Topic 5</b><br>Words: mayor, westtvacy, sutton, mayoral, westway",
          "<b>Topic 5</b><br>Words: runoff, goodman, mayor, redistricting, legislature",
          "<b>Topic 5</b><br>Words: primary, stamp, koch, vetoes, sept",
          "<b>Topic 5</b><br>Words: cuomo, mayor, mayoralty, ronan, mame",
          "<b>Topic 5</b><br>Words: carey, cuomo, beame, election, predict",
          "<b>Topic 5</b><br>Words: byrne, bateman, hat, party, velvet",
          "<b>Topic 5</b><br>Words: chairman, defense, denounce, abzug, fund",
          "<b>Topic 5</b><br>Words: cuomo, beame, ballot, striking, campaign",
          "<b>Topic 5</b><br>Words: koch, cuomo, endorses, paterson, candidates",
          "<b>Topic 5</b><br>Words: byrne, koch, bateman, debate, candidates",
          "<b>Topic 5</b><br>Words: koch, mayor, paterson, mayoral, deputy",
          "<b>Topic 5</b><br>Words: koch, kummerfeld, westway, geldzahler, salary"
         ],
         "marker": {
          "color": "#56B4E9"
         },
         "mode": "lines",
         "name": "5_koch_cuomo_carey_paterson",
         "type": "scatter",
         "x": {
          "bdata": "AQIDBAUGBwgJCgsM",
          "dtype": "i1"
         },
         "y": {
          "bdata": "CAcEBAcIAgYmEBkM",
          "dtype": "i1"
         }
        },
        {
         "hoverinfo": "text",
         "hovertext": [
          "<b>Topic 11</b><br>Words: axelson, treasury, withdraws, consideration, post",
          "<b>Topic 11</b><br>Words: banking, slowed, electronic, habits, fears",
          "<b>Topic 11</b><br>Words: bankruptcy, loan, lance, debt, bank",
          "<b>Topic 11</b><br>Words: lance, loan, finances, inquiry, disclosure",
          "<b>Topic 11</b><br>Words: lance, resignation, percy, disputed, abused",
          "<b>Topic 11</b><br>Words: lance, enthusiasm, bank, opposition, reform",
          "<b>Topic 11</b><br>Words: lance, jury, repaying, banks, reported",
          "<b>Topic 11</b><br>Words: banks, bank, regulation, regulatory, agencies"
         ],
         "marker": {
          "color": "#009E73"
         },
         "mode": "lines",
         "name": "11_lance_bank_loan_banking",
         "type": "scatter",
         "x": {
          "bdata": "AwUHCAkKCww=",
          "dtype": "i1"
         },
         "y": {
          "bdata": "AQEHFB8CAgU=",
          "dtype": "i1"
         }
        },
        {
         "hoverinfo": "text",
         "hovertext": [
          "<b>Topic 12</b><br>Words: hostages, hostage, moslems, kidnapping, gunmen",
          "<b>Topic 12</b><br>Words: guerrillas, army, prosecutor, fight, slain",
          "<b>Topic 12</b><br>Words: moluccans, dutch, hostages, netherlands, kidnappers",
          "<b>Topic 12</b><br>Words: flees, overthrow, siege, yugoslavs, captive",
          "<b>Topic 12</b><br>Words: hostages, hostage, piracy, hijackers, croatian",
          "<b>Topic 12</b><br>Words: prisoners, killers, four, title, ulster",
          "<b>Topic 12</b><br>Words: hijackers, japanese, air, meet, willing",
          "<b>Topic 12</b><br>Words: hijackers, hostages, hijacked, hostage, hijacker",
          "<b>Topic 12</b><br>Words: kidnappers, dutchman, paid, million, wealthy"
         ],
         "marker": {
          "color": "#F0E442"
         },
         "mode": "lines",
         "name": "12_hostages_hostage_kidnappers_kidnapped",
         "type": "scatter",
         "x": {
          "bdata": "AwQFBgcICQoL",
          "dtype": "i1"
         },
         "y": {
          "bdata": "BQINBgMDARUB",
          "dtype": "i1"
         }
        },
        {
         "hoverinfo": "text",
         "hovertext": [
          "<b>Topic 13</b><br>Words: growth, economists, shift, shoes, abroad",
          "<b>Topic 13</b><br>Words: capitalist, theorist, crisis, china, peasants",
          "<b>Topic 13</b><br>Words: economy, deficit, commodities, payments, fund",
          "<b>Topic 13</b><br>Words: geneva, commodities, collapse, fund, efforts",
          "<b>Topic 13</b><br>Words: industry, imports, shipments, textile, labor",
          "<b>Topic 13</b><br>Words: aid, pollution, nations, accord, fines",
          "<b>Topic 13</b><br>Words: investing, deficit, tax, europeans, japan",
          "<b>Topic 13</b><br>Words: economy, bankers, market, steel, youngstown",
          "<b>Topic 13</b><br>Words: exporters, imports, economics, steel, market",
          "<b>Topic 13</b><br>Words: investments, deficit, imports, goods, tensions",
          "<b>Topic 13</b><br>Words: japan, japanese, imports, imported, foreign"
         ],
         "marker": {
          "color": "#D55E00"
         },
         "mode": "lines",
         "name": "13_imports_deficit_commodities_economy",
         "type": "scatter",
         "x": {
          "bdata": "AQIDBAUGBwkKCww=",
          "dtype": "i1"
         },
         "y": {
          "bdata": "BAUEAQQDAwUGBQ4=",
          "dtype": "i1"
         }
        },
        {
         "hoverinfo": "text",
         "hovertext": [
          "<b>Topic 15</b><br>Words: mets, yankees, pitching, cubs, baseball",
          "<b>Topic 15</b><br>Words: mets, homer, yanks, win, munson",
          "<b>Topic 15</b><br>Words: mets, sox, pitcher, homer, frazier",
          "<b>Topic 15</b><br>Words: outfielder, bat, brewers, homer, cricket",
          "<b>Topic 15</b><br>Words: mets, brewers, mariners, sox, giants",
          "<b>Topic 15</b><br>Words: jackson, baltimore, munson, kingman, belts",
          "<b>Topic 15</b><br>Words: yankees, inning, dodgers, mets, innings",
          "<b>Topic 15</b><br>Words: spenders, baseball, pretenders, big, vs",
          "<b>Topic 15</b><br>Words: daredevil, toy, halts, knievel, assault"
         ],
         "marker": {
          "color": "#0072B2"
         },
         "mode": "lines",
         "name": "15_yankees_mets_inning_sox",
         "type": "scatter",
         "x": {
          "bdata": "BAUGBwgJCgsM",
          "dtype": "i1"
         },
         "y": {
          "bdata": "CQIHBgQCFQEB",
          "dtype": "i1"
         }
        },
        {
         "hoverinfo": "text",
         "hovertext": [
          "<b>Topic 17</b><br>Words: bribery, korean, lobbyist, indonesia, solicitors",
          "<b>Topic 17</b><br>Words: indonesia, chief, oil, concerns, charges",
          "<b>Topic 17</b><br>Words: congressmen, inquiry, lobby, tax, korea",
          "<b>Topic 17</b><br>Words: seoul, singapore, dissidents, political, critics",
          "<b>Topic 17</b><br>Words: korea, military, carter, defends, defense",
          "<b>Topic 17</b><br>Words: korea, korean, tong, disclose, dealings",
          "<b>Topic 17</b><br>Words: korea, koreans, korean, koreanfavors, prosecutor",
          "<b>Topic 17</b><br>Words: jaworski, korea, korean, tongsun, testimony",
          "<b>Topic 17</b><br>Words: korean, korea, tongsun, jury, southkorearejectsu",
          "<b>Topic 17</b><br>Words: koreans, korea, seoul, korean, scandal",
          "<b>Topic 17</b><br>Words: seoul, korean, tongsun, park, fined"
         ],
         "marker": {
          "color": "#CC79A7"
         },
         "mode": "lines",
         "name": "17_seoul_tongsun_koreans_korea",
         "type": "scatter",
         "x": {
          "bdata": "AQIDBAUGBwgJCgs=",
          "dtype": "i1"
         },
         "y": {
          "bdata": "BAECAgIHDAMFBAU=",
          "dtype": "i1"
         }
        },
        {
         "hoverinfo": "text",
         "hovertext": [
          "<b>Topic 18</b><br>Words: title, page, front, , ",
          "<b>Topic 18</b><br>Words: subways, rail, transportation, pledges, mile",
          "<b>Topic 18</b><br>Words: marathon, train, rush, nosefros, york",
          "<b>Topic 18</b><br>Words: floodwaters, in, the, way, of",
          "<b>Topic 18</b><br>Words: amtrak, freight, beach, jersey, derailment",
          "<b>Topic 18</b><br>Words: blackouts, blackout, delay, disrupted, ed",
          "<b>Topic 18</b><br>Words: blackout, edison, con, utilities, failure",
          "<b>Topic 18</b><br>Words: westchester, edison, orchid, york, blackout",
          "<b>Topic 18</b><br>Words: dukes, tyrone, york, times, the",
          "<b>Topic 18</b><br>Words: flood, flooded, blackout, amtrak, rain",
          "<b>Topic 18</b><br>Words: traffic, ed, mayor, repair, plan"
         ],
         "marker": {
          "color": "#E69F00"
         },
         "mode": "lines",
         "name": "18_blackout_blackouts_edison_con",
         "type": "scatter",
         "x": {
          "bdata": "AQIDBAYHCAkKCww=",
          "dtype": "i1"
         },
         "y": {
          "bdata": "AQIDAQINBgMBBQM=",
          "dtype": "i1"
         }
        },
        {
         "hoverinfo": "text",
         "hovertext": [
          "<b>Topic 28</b><br>Words: gandhi, mrs, india, democracy, murdering",
          "<b>Topic 28</b><br>Words: gandhi, sanjay, mrs, aide, opposition",
          "<b>Topic 28</b><br>Words: delhi, gandhi, desai, india, indian",
          "<b>Topic 28</b><br>Words: peres, nominated, labor, head, slate",
          "<b>Topic 28</b><br>Words: democratic, government, indian, restored, weeks",
          "<b>Topic 28</b><br>Words: bandaranaike, lanka, sri, beaten, party",
          "<b>Topic 28</b><br>Words: gandhi, lanka, sri, aides, arrested",
          "<b>Topic 28</b><br>Words: gandhi, corruption, arrested, mrs, freed",
          "<b>Topic 28</b><br>Words: gandhi, split, congress, leadership, india"
         ],
         "marker": {
          "color": "#56B4E9"
         },
         "mode": "lines",
         "name": "28_gandhi_sanjay_delhi_indian",
         "type": "scatter",
         "x": {
          "bdata": "AQIDBAUHCAoM",
          "dtype": "i1"
         },
         "y": {
          "bdata": "AwUMAQEBAwMB",
          "dtype": "i1"
         }
        },
        {
         "hoverinfo": "text",
         "hovertext": [
          "<b>Topic 29</b><br>Words: snowfall, snow, freezing, precipitation, cold",
          "<b>Topic 29</b><br>Words: snow, snowy, buffalo, snowdrifts, winter",
          "<b>Topic 29</b><br>Words: snow, cold, spring, watertown, lining",
          "<b>Topic 29</b><br>Words: winter, snow, spring, feisty, hurrah",
          "<b>Topic 29</b><br>Words: thermometer, july, low, hottest, 100",
          "<b>Topic 29</b><br>Words: colgate, star, 7th, row, rolls",
          "<b>Topic 29</b><br>Words: front, title, zoo, birds, page",
          "<b>Topic 29</b><br>Words: ice, day, where, to, an"
         ],
         "marker": {
          "color": "#009E73"
         },
         "mode": "lines",
         "name": "29_snow_snowfall_snowy_winter",
         "type": "scatter",
         "x": {
          "bdata": "AQIDBQcKCww=",
          "dtype": "i1"
         },
         "y": {
          "bdata": "DgUCAQMBAgE=",
          "dtype": "i1"
         }
        },
        {
         "hoverinfo": "text",
         "hovertext": [
          "<b>Topic 30</b><br>Words: bowl, seton, games, downs, rally",
          "<b>Topic 30</b><br>Words: clemson, monroe, 78, maryland, 84",
          "<b>Topic 30</b><br>Words: villanova, penn, relays, defeats, distance",
          "<b>Topic 30</b><br>Words: lions, loss, 7th, passes, pace",
          "<b>Topic 30</b><br>Words: penn, stadium, michigan, dartmouth, princeton",
          "<b>Topic 30</b><br>Words: harvard, princeton, pitt, dartmouth, yale",
          "<b>Topic 30</b><br>Words: pius, united, payton, victory, preis"
         ],
         "marker": {
          "color": "#F0E442"
         },
         "mode": "lines",
         "name": "30_penn_pitt_dartmouth_princeton",
         "type": "scatter",
         "x": {
          "bdata": "AQIECQoLDA==",
          "dtype": "i1"
         },
         "y": {
          "bdata": "AgIBAwYLAw==",
          "dtype": "i1"
         }
        },
        {
         "hoverinfo": "text",
         "hovertext": [
          "<b>Topic 31</b><br>Words: militant, racist, police, five, slayer",
          "<b>Topic 31</b><br>Words: suspects, lewisboro, deaths, arrested, slaying",
          "<b>Topic 31</b><br>Words: slain, killer, dies, death, policeman",
          "<b>Topic 31</b><br>Words: robber, cab, bank, ride, takes",
          "<b>Topic 31</b><br>Words: killer, wounds, parked, car, caliber",
          "<b>Topic 31</b><br>Words: killings, slain, deaths, gunman, surrenders",
          "<b>Topic 31</b><br>Words: killer, kills, detective, victims, killed",
          "<b>Topic 31</b><br>Words: robber, park, shot, chase, bank",
          "<b>Topic 31</b><br>Words: kills, shootout, detective, killed, street"
         ],
         "marker": {
          "color": "#D55E00"
         },
         "mode": "lines",
         "name": "31_killer_killings_kills_killed",
         "type": "scatter",
         "x": {
          "bdata": "AgMEBQYHCAoM",
          "dtype": "i1"
         },
         "y": {
          "bdata": "AQIEAQEFCgIC",
          "dtype": "i1"
         }
        },
        {
         "hoverinfo": "text",
         "hovertext": [
          "<b>Topic 39</b><br>Words: banks, officials, criticize, inquiry, york",
          "<b>Topic 39</b><br>Words: charges, boomis, charge, fiscal, clergymen",
          "<b>Topic 39</b><br>Words: accused, beame, million, agency, asks",
          "<b>Topic 39</b><br>Words: disclosure, inquiry, ordered, us, supported",
          "<b>Topic 39</b><br>Words: beame, crisis, warnings, investors, fraud",
          "<b>Topic 39</b><br>Words: beams, charges, evidence, distorted, "
         ],
         "marker": {
          "color": "#0072B2"
         },
         "mode": "lines",
         "name": "39_beame_accuses_accused_charges",
         "type": "scatter",
         "x": {
          "bdata": "AgQFBwgL",
          "dtype": "i1"
         },
         "y": {
          "bdata": "AQMBAgwB",
          "dtype": "i1"
         }
        },
        {
         "hoverinfo": "text",
         "hovertext": [
          "<b>Topic 55</b><br>Words: watergate, nixon, fund, 000, 200",
          "<b>Topic 55</b><br>Words: nixon, watergate, impeached, president, tapes",
          "<b>Topic 55</b><br>Words: watergate, justice, changes, effect, dept",
          "<b>Topic 55</b><br>Words: watergate, frost, evidence, cited, talk"
         ],
         "marker": {
          "color": "#CC79A7"
         },
         "mode": "lines",
         "name": "55_watergate_nixon_impeached_evidence",
         "type": "scatter",
         "x": {
          "bdata": "AgUGCQ==",
          "dtype": "i1"
         },
         "y": {
          "bdata": "AQoCAQ==",
          "dtype": "i1"
         }
        },
        {
         "hoverinfo": "text",
         "hovertext": [
          "<b>Topic 64</b><br>Words: rapists, execution, court, high, rules",
          "<b>Topic 64</b><br>Words: sam, suspect, murders, shooting, yonkers",
          "<b>Topic 64</b><br>Words: ryan, killing, suspect, officer, convicted",
          "<b>Topic 64</b><br>Words: mcguire, wagner, chief, police, planning"
         ],
         "marker": {
          "color": "#E69F00"
         },
         "mode": "lines",
         "name": "64_suspect_murders_sam_shooting",
         "type": "scatter",
         "x": {
          "bdata": "BggLDA==",
          "dtype": "i1"
         },
         "y": {
          "bdata": "AQoBAQ==",
          "dtype": "i1"
         }
        }
       ],
       "layout": {
        "height": 450,
        "hoverlabel": {
         "bgcolor": "white",
         "font": {
          "family": "Rockwell",
          "size": 16
         }
        },
        "legend": {
         "title": {
          "text": "<b>Global Topic Representation"
         }
        },
        "template": {
         "data": {
          "bar": [
           {
            "error_x": {
             "color": "rgb(36,36,36)"
            },
            "error_y": {
             "color": "rgb(36,36,36)"
            },
            "marker": {
             "line": {
              "color": "white",
              "width": 0.5
             },
             "pattern": {
              "fillmode": "overlay",
              "size": 10,
              "solidity": 0.2
             }
            },
            "type": "bar"
           }
          ],
          "barpolar": [
           {
            "marker": {
             "line": {
              "color": "white",
              "width": 0.5
             },
             "pattern": {
              "fillmode": "overlay",
              "size": 10,
              "solidity": 0.2
             }
            },
            "type": "barpolar"
           }
          ],
          "carpet": [
           {
            "aaxis": {
             "endlinecolor": "rgb(36,36,36)",
             "gridcolor": "white",
             "linecolor": "white",
             "minorgridcolor": "white",
             "startlinecolor": "rgb(36,36,36)"
            },
            "baxis": {
             "endlinecolor": "rgb(36,36,36)",
             "gridcolor": "white",
             "linecolor": "white",
             "minorgridcolor": "white",
             "startlinecolor": "rgb(36,36,36)"
            },
            "type": "carpet"
           }
          ],
          "choropleth": [
           {
            "colorbar": {
             "outlinewidth": 1,
             "tickcolor": "rgb(36,36,36)",
             "ticks": "outside"
            },
            "type": "choropleth"
           }
          ],
          "contour": [
           {
            "colorbar": {
             "outlinewidth": 1,
             "tickcolor": "rgb(36,36,36)",
             "ticks": "outside"
            },
            "colorscale": [
             [
              0,
              "#440154"
             ],
             [
              0.1111111111111111,
              "#482878"
             ],
             [
              0.2222222222222222,
              "#3e4989"
             ],
             [
              0.3333333333333333,
              "#31688e"
             ],
             [
              0.4444444444444444,
              "#26828e"
             ],
             [
              0.5555555555555556,
              "#1f9e89"
             ],
             [
              0.6666666666666666,
              "#35b779"
             ],
             [
              0.7777777777777778,
              "#6ece58"
             ],
             [
              0.8888888888888888,
              "#b5de2b"
             ],
             [
              1,
              "#fde725"
             ]
            ],
            "type": "contour"
           }
          ],
          "contourcarpet": [
           {
            "colorbar": {
             "outlinewidth": 1,
             "tickcolor": "rgb(36,36,36)",
             "ticks": "outside"
            },
            "type": "contourcarpet"
           }
          ],
          "heatmap": [
           {
            "colorbar": {
             "outlinewidth": 1,
             "tickcolor": "rgb(36,36,36)",
             "ticks": "outside"
            },
            "colorscale": [
             [
              0,
              "#440154"
             ],
             [
              0.1111111111111111,
              "#482878"
             ],
             [
              0.2222222222222222,
              "#3e4989"
             ],
             [
              0.3333333333333333,
              "#31688e"
             ],
             [
              0.4444444444444444,
              "#26828e"
             ],
             [
              0.5555555555555556,
              "#1f9e89"
             ],
             [
              0.6666666666666666,
              "#35b779"
             ],
             [
              0.7777777777777778,
              "#6ece58"
             ],
             [
              0.8888888888888888,
              "#b5de2b"
             ],
             [
              1,
              "#fde725"
             ]
            ],
            "type": "heatmap"
           }
          ],
          "histogram": [
           {
            "marker": {
             "line": {
              "color": "white",
              "width": 0.6
             }
            },
            "type": "histogram"
           }
          ],
          "histogram2d": [
           {
            "colorbar": {
             "outlinewidth": 1,
             "tickcolor": "rgb(36,36,36)",
             "ticks": "outside"
            },
            "colorscale": [
             [
              0,
              "#440154"
             ],
             [
              0.1111111111111111,
              "#482878"
             ],
             [
              0.2222222222222222,
              "#3e4989"
             ],
             [
              0.3333333333333333,
              "#31688e"
             ],
             [
              0.4444444444444444,
              "#26828e"
             ],
             [
              0.5555555555555556,
              "#1f9e89"
             ],
             [
              0.6666666666666666,
              "#35b779"
             ],
             [
              0.7777777777777778,
              "#6ece58"
             ],
             [
              0.8888888888888888,
              "#b5de2b"
             ],
             [
              1,
              "#fde725"
             ]
            ],
            "type": "histogram2d"
           }
          ],
          "histogram2dcontour": [
           {
            "colorbar": {
             "outlinewidth": 1,
             "tickcolor": "rgb(36,36,36)",
             "ticks": "outside"
            },
            "colorscale": [
             [
              0,
              "#440154"
             ],
             [
              0.1111111111111111,
              "#482878"
             ],
             [
              0.2222222222222222,
              "#3e4989"
             ],
             [
              0.3333333333333333,
              "#31688e"
             ],
             [
              0.4444444444444444,
              "#26828e"
             ],
             [
              0.5555555555555556,
              "#1f9e89"
             ],
             [
              0.6666666666666666,
              "#35b779"
             ],
             [
              0.7777777777777778,
              "#6ece58"
             ],
             [
              0.8888888888888888,
              "#b5de2b"
             ],
             [
              1,
              "#fde725"
             ]
            ],
            "type": "histogram2dcontour"
           }
          ],
          "mesh3d": [
           {
            "colorbar": {
             "outlinewidth": 1,
             "tickcolor": "rgb(36,36,36)",
             "ticks": "outside"
            },
            "type": "mesh3d"
           }
          ],
          "parcoords": [
           {
            "line": {
             "colorbar": {
              "outlinewidth": 1,
              "tickcolor": "rgb(36,36,36)",
              "ticks": "outside"
             }
            },
            "type": "parcoords"
           }
          ],
          "pie": [
           {
            "automargin": true,
            "type": "pie"
           }
          ],
          "scatter": [
           {
            "fillpattern": {
             "fillmode": "overlay",
             "size": 10,
             "solidity": 0.2
            },
            "type": "scatter"
           }
          ],
          "scatter3d": [
           {
            "line": {
             "colorbar": {
              "outlinewidth": 1,
              "tickcolor": "rgb(36,36,36)",
              "ticks": "outside"
             }
            },
            "marker": {
             "colorbar": {
              "outlinewidth": 1,
              "tickcolor": "rgb(36,36,36)",
              "ticks": "outside"
             }
            },
            "type": "scatter3d"
           }
          ],
          "scattercarpet": [
           {
            "marker": {
             "colorbar": {
              "outlinewidth": 1,
              "tickcolor": "rgb(36,36,36)",
              "ticks": "outside"
             }
            },
            "type": "scattercarpet"
           }
          ],
          "scattergeo": [
           {
            "marker": {
             "colorbar": {
              "outlinewidth": 1,
              "tickcolor": "rgb(36,36,36)",
              "ticks": "outside"
             }
            },
            "type": "scattergeo"
           }
          ],
          "scattergl": [
           {
            "marker": {
             "colorbar": {
              "outlinewidth": 1,
              "tickcolor": "rgb(36,36,36)",
              "ticks": "outside"
             }
            },
            "type": "scattergl"
           }
          ],
          "scattermap": [
           {
            "marker": {
             "colorbar": {
              "outlinewidth": 1,
              "tickcolor": "rgb(36,36,36)",
              "ticks": "outside"
             }
            },
            "type": "scattermap"
           }
          ],
          "scattermapbox": [
           {
            "marker": {
             "colorbar": {
              "outlinewidth": 1,
              "tickcolor": "rgb(36,36,36)",
              "ticks": "outside"
             }
            },
            "type": "scattermapbox"
           }
          ],
          "scatterpolar": [
           {
            "marker": {
             "colorbar": {
              "outlinewidth": 1,
              "tickcolor": "rgb(36,36,36)",
              "ticks": "outside"
             }
            },
            "type": "scatterpolar"
           }
          ],
          "scatterpolargl": [
           {
            "marker": {
             "colorbar": {
              "outlinewidth": 1,
              "tickcolor": "rgb(36,36,36)",
              "ticks": "outside"
             }
            },
            "type": "scatterpolargl"
           }
          ],
          "scatterternary": [
           {
            "marker": {
             "colorbar": {
              "outlinewidth": 1,
              "tickcolor": "rgb(36,36,36)",
              "ticks": "outside"
             }
            },
            "type": "scatterternary"
           }
          ],
          "surface": [
           {
            "colorbar": {
             "outlinewidth": 1,
             "tickcolor": "rgb(36,36,36)",
             "ticks": "outside"
            },
            "colorscale": [
             [
              0,
              "#440154"
             ],
             [
              0.1111111111111111,
              "#482878"
             ],
             [
              0.2222222222222222,
              "#3e4989"
             ],
             [
              0.3333333333333333,
              "#31688e"
             ],
             [
              0.4444444444444444,
              "#26828e"
             ],
             [
              0.5555555555555556,
              "#1f9e89"
             ],
             [
              0.6666666666666666,
              "#35b779"
             ],
             [
              0.7777777777777778,
              "#6ece58"
             ],
             [
              0.8888888888888888,
              "#b5de2b"
             ],
             [
              1,
              "#fde725"
             ]
            ],
            "type": "surface"
           }
          ],
          "table": [
           {
            "cells": {
             "fill": {
              "color": "rgb(237,237,237)"
             },
             "line": {
              "color": "white"
             }
            },
            "header": {
             "fill": {
              "color": "rgb(217,217,217)"
             },
             "line": {
              "color": "white"
             }
            },
            "type": "table"
           }
          ]
         },
         "layout": {
          "annotationdefaults": {
           "arrowhead": 0,
           "arrowwidth": 1
          },
          "autotypenumbers": "strict",
          "coloraxis": {
           "colorbar": {
            "outlinewidth": 1,
            "tickcolor": "rgb(36,36,36)",
            "ticks": "outside"
           }
          },
          "colorscale": {
           "diverging": [
            [
             0,
             "rgb(103,0,31)"
            ],
            [
             0.1,
             "rgb(178,24,43)"
            ],
            [
             0.2,
             "rgb(214,96,77)"
            ],
            [
             0.3,
             "rgb(244,165,130)"
            ],
            [
             0.4,
             "rgb(253,219,199)"
            ],
            [
             0.5,
             "rgb(247,247,247)"
            ],
            [
             0.6,
             "rgb(209,229,240)"
            ],
            [
             0.7,
             "rgb(146,197,222)"
            ],
            [
             0.8,
             "rgb(67,147,195)"
            ],
            [
             0.9,
             "rgb(33,102,172)"
            ],
            [
             1,
             "rgb(5,48,97)"
            ]
           ],
           "sequential": [
            [
             0,
             "#440154"
            ],
            [
             0.1111111111111111,
             "#482878"
            ],
            [
             0.2222222222222222,
             "#3e4989"
            ],
            [
             0.3333333333333333,
             "#31688e"
            ],
            [
             0.4444444444444444,
             "#26828e"
            ],
            [
             0.5555555555555556,
             "#1f9e89"
            ],
            [
             0.6666666666666666,
             "#35b779"
            ],
            [
             0.7777777777777778,
             "#6ece58"
            ],
            [
             0.8888888888888888,
             "#b5de2b"
            ],
            [
             1,
             "#fde725"
            ]
           ],
           "sequentialminus": [
            [
             0,
             "#440154"
            ],
            [
             0.1111111111111111,
             "#482878"
            ],
            [
             0.2222222222222222,
             "#3e4989"
            ],
            [
             0.3333333333333333,
             "#31688e"
            ],
            [
             0.4444444444444444,
             "#26828e"
            ],
            [
             0.5555555555555556,
             "#1f9e89"
            ],
            [
             0.6666666666666666,
             "#35b779"
            ],
            [
             0.7777777777777778,
             "#6ece58"
            ],
            [
             0.8888888888888888,
             "#b5de2b"
            ],
            [
             1,
             "#fde725"
            ]
           ]
          },
          "colorway": [
           "#1F77B4",
           "#FF7F0E",
           "#2CA02C",
           "#D62728",
           "#9467BD",
           "#8C564B",
           "#E377C2",
           "#7F7F7F",
           "#BCBD22",
           "#17BECF"
          ],
          "font": {
           "color": "rgb(36,36,36)"
          },
          "geo": {
           "bgcolor": "white",
           "lakecolor": "white",
           "landcolor": "white",
           "showlakes": true,
           "showland": true,
           "subunitcolor": "white"
          },
          "hoverlabel": {
           "align": "left"
          },
          "hovermode": "closest",
          "mapbox": {
           "style": "light"
          },
          "paper_bgcolor": "white",
          "plot_bgcolor": "white",
          "polar": {
           "angularaxis": {
            "gridcolor": "rgb(232,232,232)",
            "linecolor": "rgb(36,36,36)",
            "showgrid": false,
            "showline": true,
            "ticks": "outside"
           },
           "bgcolor": "white",
           "radialaxis": {
            "gridcolor": "rgb(232,232,232)",
            "linecolor": "rgb(36,36,36)",
            "showgrid": false,
            "showline": true,
            "ticks": "outside"
           }
          },
          "scene": {
           "xaxis": {
            "backgroundcolor": "white",
            "gridcolor": "rgb(232,232,232)",
            "gridwidth": 2,
            "linecolor": "rgb(36,36,36)",
            "showbackground": true,
            "showgrid": false,
            "showline": true,
            "ticks": "outside",
            "zeroline": false,
            "zerolinecolor": "rgb(36,36,36)"
           },
           "yaxis": {
            "backgroundcolor": "white",
            "gridcolor": "rgb(232,232,232)",
            "gridwidth": 2,
            "linecolor": "rgb(36,36,36)",
            "showbackground": true,
            "showgrid": false,
            "showline": true,
            "ticks": "outside",
            "zeroline": false,
            "zerolinecolor": "rgb(36,36,36)"
           },
           "zaxis": {
            "backgroundcolor": "white",
            "gridcolor": "rgb(232,232,232)",
            "gridwidth": 2,
            "linecolor": "rgb(36,36,36)",
            "showbackground": true,
            "showgrid": false,
            "showline": true,
            "ticks": "outside",
            "zeroline": false,
            "zerolinecolor": "rgb(36,36,36)"
           }
          },
          "shapedefaults": {
           "fillcolor": "black",
           "line": {
            "width": 0
           },
           "opacity": 0.3
          },
          "ternary": {
           "aaxis": {
            "gridcolor": "rgb(232,232,232)",
            "linecolor": "rgb(36,36,36)",
            "showgrid": false,
            "showline": true,
            "ticks": "outside"
           },
           "baxis": {
            "gridcolor": "rgb(232,232,232)",
            "linecolor": "rgb(36,36,36)",
            "showgrid": false,
            "showline": true,
            "ticks": "outside"
           },
           "bgcolor": "white",
           "caxis": {
            "gridcolor": "rgb(232,232,232)",
            "linecolor": "rgb(36,36,36)",
            "showgrid": false,
            "showline": true,
            "ticks": "outside"
           }
          },
          "title": {
           "x": 0.05
          },
          "xaxis": {
           "automargin": true,
           "gridcolor": "rgb(232,232,232)",
           "linecolor": "rgb(36,36,36)",
           "showgrid": false,
           "showline": true,
           "ticks": "outside",
           "title": {
            "standoff": 15
           },
           "zeroline": false,
           "zerolinecolor": "rgb(36,36,36)"
          },
          "yaxis": {
           "automargin": true,
           "gridcolor": "rgb(232,232,232)",
           "linecolor": "rgb(36,36,36)",
           "showgrid": false,
           "showline": true,
           "ticks": "outside",
           "title": {
            "standoff": 15
           },
           "zeroline": false,
           "zerolinecolor": "rgb(36,36,36)"
          }
         }
        },
        "title": {
         "font": {
          "color": "Black",
          "size": 22
         },
         "text": "<b>Topics over Time</b>",
         "x": 0.4,
         "xanchor": "center",
         "y": 0.95,
         "yanchor": "top"
        },
        "width": 1250,
        "xaxis": {
         "showgrid": true
        },
        "yaxis": {
         "showgrid": true,
         "title": {
          "text": "Frequency"
         }
        }
       }
      }
     },
     "metadata": {},
     "output_type": "display_data"
    }
   ],
   "source": [
    "tm.model.visualize_topics_over_time(tm.topics_over_time[tm.topics_over_time.Topic.isin(tm.topic_filter.topics)])"
   ]
  },
  {
   "cell_type": "code",
   "execution_count": 5,
   "metadata": {},
   "outputs": [
    {
     "data": {
      "text/plain": [
       "age                  10\n",
       "awards_as_of_year    10\n",
       "embedding            10\n",
       "n_win                10\n",
       "n_nom                10\n",
       "gender_male          10\n",
       "gender_female        10\n",
       "dtype: int64"
      ]
     },
     "execution_count": 5,
     "metadata": {},
     "output_type": "execute_result"
    }
   ],
   "source": [
    "novels = pd.read_csv(\"../../data/nominated_novels.csv\")\n",
    "description_embeddings = pd.read_parquet(\"../../data/description_embeddings.parquet\")\n",
    "desc_merged = pd.get_dummies(novels[novels.year == YEAR], columns=['gender']).merge(description_embeddings, on=\"work_qid\", how=\"left\").groupby(\"work_qid\").agg({\n",
    "    'age': 'mean',\n",
    "    'awards_as_of_year': 'sum',\n",
    "    'embedding': 'first',\n",
    "    'n_win': 'first',\n",
    "    'n_nom': 'first',\n",
    "    'gender_male': 'sum',\n",
    "    'gender_female': 'sum',\n",
    "}).dropna()\n",
    "\n",
    "desc_merged.count()"
   ]
  },
  {
   "cell_type": "code",
   "execution_count": 6,
   "metadata": {},
   "outputs": [
    {
     "data": {
      "text/html": [
       "<div>\n",
       "<style scoped>\n",
       "    .dataframe tbody tr th:only-of-type {\n",
       "        vertical-align: middle;\n",
       "    }\n",
       "\n",
       "    .dataframe tbody tr th {\n",
       "        vertical-align: top;\n",
       "    }\n",
       "\n",
       "    .dataframe thead th {\n",
       "        text-align: right;\n",
       "    }\n",
       "</style>\n",
       "<table border=\"1\" class=\"dataframe\">\n",
       "  <thead>\n",
       "    <tr style=\"text-align: right;\">\n",
       "      <th></th>\n",
       "      <th>age</th>\n",
       "      <th>awards_as_of_year</th>\n",
       "      <th>embedding</th>\n",
       "      <th>n_win</th>\n",
       "      <th>n_nom</th>\n",
       "      <th>gender_male</th>\n",
       "      <th>gender_female</th>\n",
       "      <th>alignment</th>\n",
       "    </tr>\n",
       "    <tr>\n",
       "      <th>work_qid</th>\n",
       "      <th></th>\n",
       "      <th></th>\n",
       "      <th></th>\n",
       "      <th></th>\n",
       "      <th></th>\n",
       "      <th></th>\n",
       "      <th></th>\n",
       "      <th></th>\n",
       "    </tr>\n",
       "  </thead>\n",
       "  <tbody>\n",
       "    <tr>\n",
       "      <th>Q122452523</th>\n",
       "      <td>29.0</td>\n",
       "      <td>0</td>\n",
       "      <td>[-0.026827814, 0.040379934, 0.03314715, 0.0314...</td>\n",
       "      <td>0</td>\n",
       "      <td>1</td>\n",
       "      <td>0</td>\n",
       "      <td>1</td>\n",
       "      <td>15.329641</td>\n",
       "    </tr>\n",
       "    <tr>\n",
       "      <th>Q1448428</th>\n",
       "      <td>54.0</td>\n",
       "      <td>11</td>\n",
       "      <td>[-0.057265908, 0.11394991, 0.01380519, 0.04636...</td>\n",
       "      <td>0</td>\n",
       "      <td>1</td>\n",
       "      <td>1</td>\n",
       "      <td>0</td>\n",
       "      <td>15.331773</td>\n",
       "    </tr>\n",
       "    <tr>\n",
       "      <th>Q2377008</th>\n",
       "      <td>58.0</td>\n",
       "      <td>12</td>\n",
       "      <td>[-0.025931792, 0.017050132, 0.024950795, -0.01...</td>\n",
       "      <td>1</td>\n",
       "      <td>2</td>\n",
       "      <td>1</td>\n",
       "      <td>0</td>\n",
       "      <td>15.321489</td>\n",
       "    </tr>\n",
       "    <tr>\n",
       "      <th>Q3135306</th>\n",
       "      <td>49.0</td>\n",
       "      <td>10</td>\n",
       "      <td>[-0.012680732, -0.046038665, -0.0124388505, 0....</td>\n",
       "      <td>1</td>\n",
       "      <td>2</td>\n",
       "      <td>0</td>\n",
       "      <td>1</td>\n",
       "      <td>15.444714</td>\n",
       "    </tr>\n",
       "    <tr>\n",
       "      <th>Q3224982</th>\n",
       "      <td>38.0</td>\n",
       "      <td>1</td>\n",
       "      <td>[-0.02369637, 0.10994188, -0.0010569477, 0.013...</td>\n",
       "      <td>0</td>\n",
       "      <td>1</td>\n",
       "      <td>1</td>\n",
       "      <td>0</td>\n",
       "      <td>15.322115</td>\n",
       "    </tr>\n",
       "  </tbody>\n",
       "</table>\n",
       "</div>"
      ],
      "text/plain": [
       "             age  awards_as_of_year  \\\n",
       "work_qid                              \n",
       "Q122452523  29.0                  0   \n",
       "Q1448428    54.0                 11   \n",
       "Q2377008    58.0                 12   \n",
       "Q3135306    49.0                 10   \n",
       "Q3224982    38.0                  1   \n",
       "\n",
       "                                                    embedding  n_win  n_nom  \\\n",
       "work_qid                                                                      \n",
       "Q122452523  [-0.026827814, 0.040379934, 0.03314715, 0.0314...      0      1   \n",
       "Q1448428    [-0.057265908, 0.11394991, 0.01380519, 0.04636...      0      1   \n",
       "Q2377008    [-0.025931792, 0.017050132, 0.024950795, -0.01...      1      2   \n",
       "Q3135306    [-0.012680732, -0.046038665, -0.0124388505, 0....      1      2   \n",
       "Q3224982    [-0.02369637, 0.10994188, -0.0010569477, 0.013...      0      1   \n",
       "\n",
       "            gender_male  gender_female  alignment  \n",
       "work_qid                                           \n",
       "Q122452523            0              1  15.329641  \n",
       "Q1448428              1              0  15.331773  \n",
       "Q2377008              1              0  15.321489  \n",
       "Q3135306              0              1  15.444714  \n",
       "Q3224982              1              0  15.322115  "
      ]
     },
     "execution_count": 6,
     "metadata": {},
     "output_type": "execute_result"
    }
   ],
   "source": [
    "from models.debias import NullspaceProjector, learn_nullspace_normal_vector\n",
    "\n",
    "train_desc = pd.read_csv(\"../../data/train_desc_labeled.csv\")\n",
    "w = learn_nullspace_normal_vector(train_desc)\n",
    "db = NullspaceProjector(normal_vector=w)\n",
    "embeddings = db.transform(np.stack(desc_merged[\"embedding\"].values))\n",
    "db.fit(embeddings)\n",
    "desc_aligned = desc_merged.assign(alignment=tm.compute_alignment(embeddings))\n",
    "desc_aligned.head()"
   ]
  },
  {
   "cell_type": "code",
   "execution_count": 7,
   "metadata": {},
   "outputs": [
    {
     "data": {
      "text/plain": [
       "<Axes: xlabel='alignment', ylabel='Density'>"
      ]
     },
     "execution_count": 7,
     "metadata": {},
     "output_type": "execute_result"
    },
    {
     "data": {
      "image/png": "[encoded data removed]",
      "text/plain": [
       "<Figure size 640x480 with 1 Axes>"
      ]
     },
     "metadata": {},
     "output_type": "display_data"
    }
   ],
   "source": [
    "sns.kdeplot(x=\"alignment\", data=desc_aligned.assign(won = desc_aligned.n_win > 0), hue='won', common_norm=False )"
   ]
  },
  {
   "cell_type": "code",
   "execution_count": 8,
   "metadata": {},
   "outputs": [
    {
     "data": {
      "text/html": [
       "<div>\n",
       "<style scoped>\n",
       "    .dataframe tbody tr th:only-of-type {\n",
       "        vertical-align: middle;\n",
       "    }\n",
       "\n",
       "    .dataframe tbody tr th {\n",
       "        vertical-align: top;\n",
       "    }\n",
       "\n",
       "    .dataframe thead th {\n",
       "        text-align: right;\n",
       "    }\n",
       "</style>\n",
       "<table border=\"1\" class=\"dataframe\">\n",
       "  <thead>\n",
       "    <tr style=\"text-align: right;\">\n",
       "      <th></th>\n",
       "      <th>age</th>\n",
       "      <th>awards_as_of_year</th>\n",
       "      <th>n_nom</th>\n",
       "      <th>gender_male</th>\n",
       "      <th>gender_female</th>\n",
       "      <th>alignment</th>\n",
       "    </tr>\n",
       "  </thead>\n",
       "  <tbody>\n",
       "    <tr>\n",
       "      <th>0</th>\n",
       "      <td>29.0</td>\n",
       "      <td>0</td>\n",
       "      <td>1</td>\n",
       "      <td>0</td>\n",
       "      <td>1</td>\n",
       "      <td>15.329641</td>\n",
       "    </tr>\n",
       "    <tr>\n",
       "      <th>1</th>\n",
       "      <td>54.0</td>\n",
       "      <td>11</td>\n",
       "      <td>1</td>\n",
       "      <td>1</td>\n",
       "      <td>0</td>\n",
       "      <td>15.331773</td>\n",
       "    </tr>\n",
       "    <tr>\n",
       "      <th>2</th>\n",
       "      <td>58.0</td>\n",
       "      <td>12</td>\n",
       "      <td>2</td>\n",
       "      <td>1</td>\n",
       "      <td>0</td>\n",
       "      <td>15.321489</td>\n",
       "    </tr>\n",
       "    <tr>\n",
       "      <th>3</th>\n",
       "      <td>49.0</td>\n",
       "      <td>10</td>\n",
       "      <td>2</td>\n",
       "      <td>0</td>\n",
       "      <td>1</td>\n",
       "      <td>15.444714</td>\n",
       "    </tr>\n",
       "    <tr>\n",
       "      <th>4</th>\n",
       "      <td>38.0</td>\n",
       "      <td>1</td>\n",
       "      <td>1</td>\n",
       "      <td>1</td>\n",
       "      <td>0</td>\n",
       "      <td>15.322115</td>\n",
       "    </tr>\n",
       "    <tr>\n",
       "      <th>5</th>\n",
       "      <td>34.0</td>\n",
       "      <td>6</td>\n",
       "      <td>1</td>\n",
       "      <td>1</td>\n",
       "      <td>0</td>\n",
       "      <td>14.680282</td>\n",
       "    </tr>\n",
       "    <tr>\n",
       "      <th>6</th>\n",
       "      <td>42.0</td>\n",
       "      <td>46</td>\n",
       "      <td>2</td>\n",
       "      <td>1</td>\n",
       "      <td>0</td>\n",
       "      <td>15.316057</td>\n",
       "    </tr>\n",
       "    <tr>\n",
       "      <th>7</th>\n",
       "      <td>57.0</td>\n",
       "      <td>1</td>\n",
       "      <td>1</td>\n",
       "      <td>1</td>\n",
       "      <td>0</td>\n",
       "      <td>15.341320</td>\n",
       "    </tr>\n",
       "    <tr>\n",
       "      <th>8</th>\n",
       "      <td>55.0</td>\n",
       "      <td>0</td>\n",
       "      <td>0</td>\n",
       "      <td>1</td>\n",
       "      <td>0</td>\n",
       "      <td>15.336476</td>\n",
       "    </tr>\n",
       "    <tr>\n",
       "      <th>9</th>\n",
       "      <td>35.0</td>\n",
       "      <td>10</td>\n",
       "      <td>1</td>\n",
       "      <td>1</td>\n",
       "      <td>0</td>\n",
       "      <td>15.317621</td>\n",
       "    </tr>\n",
       "  </tbody>\n",
       "</table>\n",
       "</div>"
      ],
      "text/plain": [
       "    age  awards_as_of_year  n_nom  gender_male  gender_female  alignment\n",
       "0  29.0                  0      1            0              1  15.329641\n",
       "1  54.0                 11      1            1              0  15.331773\n",
       "2  58.0                 12      2            1              0  15.321489\n",
       "3  49.0                 10      2            0              1  15.444714\n",
       "4  38.0                  1      1            1              0  15.322115\n",
       "5  34.0                  6      1            1              0  14.680282\n",
       "6  42.0                 46      2            1              0  15.316057\n",
       "7  57.0                  1      1            1              0  15.341320\n",
       "8  55.0                  0      0            1              0  15.336476\n",
       "9  35.0                 10      1            1              0  15.317621"
      ]
     },
     "execution_count": 8,
     "metadata": {},
     "output_type": "execute_result"
    }
   ],
   "source": [
    "desc_aligned.reset_index().drop(columns=[\"work_qid\", \"embedding\", \"n_win\"])"
   ]
  },
  {
   "cell_type": "code",
   "execution_count": 9,
   "metadata": {},
   "outputs": [
    {
     "data": {
      "text/plain": [
       "array([0.03571429, 0.09095238, 0.01071429])"
      ]
     },
     "execution_count": 9,
     "metadata": {},
     "output_type": "execute_result"
    }
   ],
   "source": [
    "from sklearn.feature_selection import mutual_info_regression\n",
    "mutual_info_regression(desc_aligned[[\"alignment\", \"age\", \"awards_as_of_year\"]], desc_aligned[\"n_win\"])"
   ]
  },
  {
   "cell_type": "code",
   "execution_count": 10,
   "metadata": {},
   "outputs": [
    {
     "data": {
      "text/plain": [
       "<seaborn.axisgrid.PairGrid at 0x338923010>"
      ]
     },
     "execution_count": 10,
     "metadata": {},
     "output_type": "execute_result"
    },
    {
     "data": {
      "image/png": "[encoded data removed]",
      "text/plain": [
       "<Figure size 1750x1750 with 56 Axes>"
      ]
     },
     "metadata": {},
     "output_type": "display_data"
    }
   ],
   "source": [
    "sns.pairplot(desc_aligned.reset_index().drop(columns=[\"work_qid\", \"embedding\"]))"
   ]
  },
  {
   "cell_type": "code",
   "execution_count": null,
   "metadata": {},
   "outputs": [],
   "source": []
  }
 ],
 "metadata": {
  "kernelspec": {
   "display_name": "default",
   "language": "python",
   "name": "python3"
  },
  "language_info": {
   "codemirror_mode": {
    "name": "ipython",
    "version": 3
   },
   "file_extension": ".py",
   "mimetype": "text/x-python",
   "name": "python",
   "nbconvert_exporter": "python",
   "pygments_lexer": "ipython3",
   "version": "3.11.12"
  }
 },
 "nbformat": 4,
 "nbformat_minor": 2
}
