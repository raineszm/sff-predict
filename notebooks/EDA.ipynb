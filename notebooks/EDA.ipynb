{
 "cells": [
  {
   "cell_type": "code",
   "execution_count": 1,
   "metadata": {},
   "outputs": [],
   "source": [
    "import pandas as pd\n",
    "import seaborn as sns\n",
    "import numpy as np\n",
    "import matplotlib as plt\n",
    "pd.plotting.register_matplotlib_converters()"
   ]
  },
  {
   "cell_type": "code",
   "execution_count": 2,
   "metadata": {},
   "outputs": [],
   "source": [
    "df = pd.read_parquet(\"../data/scifi_fantasy.parquet\")"
   ]
  },
  {
   "cell_type": "code",
   "execution_count": 3,
   "metadata": {},
   "outputs": [
    {
     "data": {
      "text/plain": [
       "0    3844\n",
       "1    2627\n",
       "2    5141\n",
       "3    2178\n",
       "4    6557\n",
       "Name: ratings_count, dtype: int64"
      ]
     },
     "execution_count": 3,
     "metadata": {},
     "output_type": "execute_result"
    }
   ],
   "source": [
    "df.ratings_count.astype(np.int64).head()"
   ]
  },
  {
   "cell_type": "code",
   "execution_count": 11,
   "metadata": {},
   "outputs": [
    {
     "data": {
      "text/plain": [
       "<Axes: xlabel='ratings_count', ylabel='Density'>"
      ]
     },
     "execution_count": 11,
     "metadata": {},
     "output_type": "execute_result"
    },
    {
     "data": {
      "image/png": "[encoded data removed]",
      "text/plain": [
       "<Figure size 640x480 with 1 Axes>"
      ]
     },
     "metadata": {},
     "output_type": "display_data"
    }
   ],
   "source": [
    "sns.kdeplot(x=np.log1p(df.ratings_count.astype(np.int64)))"
   ]
  },
  {
   "cell_type": "code",
   "execution_count": 5,
   "metadata": {},
   "outputs": [
    {
     "data": {
      "text/plain": [
       "Index(['books_count', 'reviews_count', 'original_publication_month',\n",
       "       'default_description_language_code', 'text_reviews_count',\n",
       "       'best_book_id', 'original_publication_year', 'original_title',\n",
       "       'rating_dist', 'default_chaptering_book_id', 'original_publication_day',\n",
       "       'original_language_id', 'ratings_count', 'media_type', 'ratings_sum',\n",
       "       'work_id', 'tags', 'isbn', 'text_reviews_count_right', 'series',\n",
       "       'country_code', 'language_code', 'popular_shelves', 'asin', 'is_ebook',\n",
       "       'average_rating', 'kindle_asin', 'similar_books', 'description',\n",
       "       'format', 'link', 'authors', 'publisher', 'num_pages',\n",
       "       'publication_day', 'isbn13', 'publication_month', 'edition_information',\n",
       "       'publication_year', 'url', 'image_url', 'ratings_count_right',\n",
       "       'work_id_right', 'title', 'title_without_series'],\n",
       "      dtype='object')"
      ]
     },
     "execution_count": 5,
     "metadata": {},
     "output_type": "execute_result"
    }
   ],
   "source": [
    "df.columns"
   ]
  },
  {
   "cell_type": "code",
   "execution_count": 17,
   "metadata": {},
   "outputs": [
    {
     "data": {
      "text/plain": [
       "np.False_"
      ]
     },
     "execution_count": 17,
     "metadata": {},
     "output_type": "execute_result"
    }
   ],
   "source": [
    "(df.asin == 'B00OM9OKEC').any()"
   ]
  },
  {
   "cell_type": "code",
   "execution_count": 12,
   "metadata": {},
   "outputs": [
    {
     "name": "stdout",
     "output_type": "stream",
     "text": [
      "<class 'pandas.core.frame.DataFrame'>\n",
      "RangeIndex: 1575 entries, 0 to 1574\n",
      "Data columns (total 5 columns):\n",
      " #   Column   Non-Null Count  Dtype         \n",
      "---  ------   --------------  -----         \n",
      " 0   title    1575 non-null   object        \n",
      " 1   year     1575 non-null   datetime64[ns]\n",
      " 2   award    1575 non-null   object        \n",
      " 3   result   1575 non-null   object        \n",
      " 4   nominee  1575 non-null   object        \n",
      "dtypes: datetime64[ns](1), object(4)\n",
      "memory usage: 61.7+ KB\n"
     ]
    }
   ],
   "source": [
    "awards = pd.read_json(\"../data/awards.json\", lines=True)\n",
    "awards[\"year\"] = pd.to_datetime(awards[\"year\"], format=\"%Y\")\n",
    "awards.info()"
   ]
  },
  {
   "cell_type": "code",
   "execution_count": 13,
   "metadata": {},
   "outputs": [
    {
     "data": {
      "text/html": [
       "<div>\n",
       "<style scoped>\n",
       "    .dataframe tbody tr th:only-of-type {\n",
       "        vertical-align: middle;\n",
       "    }\n",
       "\n",
       "    .dataframe tbody tr th {\n",
       "        vertical-align: top;\n",
       "    }\n",
       "\n",
       "    .dataframe thead th {\n",
       "        text-align: right;\n",
       "    }\n",
       "</style>\n",
       "<table border=\"1\" class=\"dataframe\">\n",
       "  <thead>\n",
       "    <tr style=\"text-align: right;\">\n",
       "      <th></th>\n",
       "      <th>title</th>\n",
       "      <th>year</th>\n",
       "      <th>award</th>\n",
       "      <th>result</th>\n",
       "      <th>nominee</th>\n",
       "      <th>books_count</th>\n",
       "      <th>reviews_count</th>\n",
       "      <th>original_publication_month</th>\n",
       "      <th>default_description_language_code</th>\n",
       "      <th>text_reviews_count</th>\n",
       "      <th>...</th>\n",
       "      <th>publication_day</th>\n",
       "      <th>isbn13</th>\n",
       "      <th>publication_month</th>\n",
       "      <th>edition_information</th>\n",
       "      <th>publication_year</th>\n",
       "      <th>url</th>\n",
       "      <th>image_url</th>\n",
       "      <th>ratings_count_right</th>\n",
       "      <th>work_id_right</th>\n",
       "      <th>title_without_series</th>\n",
       "    </tr>\n",
       "  </thead>\n",
       "  <tbody>\n",
       "    <tr>\n",
       "      <th>1</th>\n",
       "      <td>(R)evolution</td>\n",
       "      <td>2016-01-01</td>\n",
       "      <td>Philip K Dick Award</td>\n",
       "      <td>finalist</td>\n",
       "      <td>PJ Manney</td>\n",
       "      <td>NaN</td>\n",
       "      <td>NaN</td>\n",
       "      <td>NaN</td>\n",
       "      <td>NaN</td>\n",
       "      <td>NaN</td>\n",
       "      <td>...</td>\n",
       "      <td>NaN</td>\n",
       "      <td>NaN</td>\n",
       "      <td>NaN</td>\n",
       "      <td>NaN</td>\n",
       "      <td>NaN</td>\n",
       "      <td>NaN</td>\n",
       "      <td>NaN</td>\n",
       "      <td>NaN</td>\n",
       "      <td>NaN</td>\n",
       "      <td>NaN</td>\n",
       "    </tr>\n",
       "    <tr>\n",
       "      <th>2</th>\n",
       "      <td>...And Call Me Conrad</td>\n",
       "      <td>1966-01-01</td>\n",
       "      <td>Hugo Awards</td>\n",
       "      <td>winner (tie)</td>\n",
       "      <td>Roger Zelazny</td>\n",
       "      <td>NaN</td>\n",
       "      <td>NaN</td>\n",
       "      <td>NaN</td>\n",
       "      <td>NaN</td>\n",
       "      <td>NaN</td>\n",
       "      <td>...</td>\n",
       "      <td>NaN</td>\n",
       "      <td>NaN</td>\n",
       "      <td>NaN</td>\n",
       "      <td>NaN</td>\n",
       "      <td>NaN</td>\n",
       "      <td>NaN</td>\n",
       "      <td>NaN</td>\n",
       "      <td>NaN</td>\n",
       "      <td>NaN</td>\n",
       "      <td>NaN</td>\n",
       "    </tr>\n",
       "    <tr>\n",
       "      <th>3</th>\n",
       "      <td>...And Having Writ...</td>\n",
       "      <td>1979-01-01</td>\n",
       "      <td>John W Campbell Memorial Award</td>\n",
       "      <td>honorable mention</td>\n",
       "      <td>Donald R. Bensen</td>\n",
       "      <td>NaN</td>\n",
       "      <td>NaN</td>\n",
       "      <td>NaN</td>\n",
       "      <td>NaN</td>\n",
       "      <td>NaN</td>\n",
       "      <td>...</td>\n",
       "      <td>NaN</td>\n",
       "      <td>NaN</td>\n",
       "      <td>NaN</td>\n",
       "      <td>NaN</td>\n",
       "      <td>NaN</td>\n",
       "      <td>NaN</td>\n",
       "      <td>NaN</td>\n",
       "      <td>NaN</td>\n",
       "      <td>NaN</td>\n",
       "      <td>NaN</td>\n",
       "    </tr>\n",
       "    <tr>\n",
       "      <th>4</th>\n",
       "      <td>/ Slant</td>\n",
       "      <td>1998-01-01</td>\n",
       "      <td>John W Campbell Memorial Award</td>\n",
       "      <td>second place</td>\n",
       "      <td>Greg Bear</td>\n",
       "      <td>NaN</td>\n",
       "      <td>NaN</td>\n",
       "      <td>NaN</td>\n",
       "      <td>NaN</td>\n",
       "      <td>NaN</td>\n",
       "      <td>...</td>\n",
       "      <td>NaN</td>\n",
       "      <td>NaN</td>\n",
       "      <td>NaN</td>\n",
       "      <td>NaN</td>\n",
       "      <td>NaN</td>\n",
       "      <td>NaN</td>\n",
       "      <td>NaN</td>\n",
       "      <td>NaN</td>\n",
       "      <td>NaN</td>\n",
       "      <td>NaN</td>\n",
       "    </tr>\n",
       "    <tr>\n",
       "      <th>6</th>\n",
       "      <td>2010: Odyssey Two</td>\n",
       "      <td>1983-01-01</td>\n",
       "      <td>Hugo Awards</td>\n",
       "      <td>nomination</td>\n",
       "      <td>Arthur C. Clarke</td>\n",
       "      <td>NaN</td>\n",
       "      <td>NaN</td>\n",
       "      <td>NaN</td>\n",
       "      <td>NaN</td>\n",
       "      <td>NaN</td>\n",
       "      <td>...</td>\n",
       "      <td>NaN</td>\n",
       "      <td>NaN</td>\n",
       "      <td>NaN</td>\n",
       "      <td>NaN</td>\n",
       "      <td>NaN</td>\n",
       "      <td>NaN</td>\n",
       "      <td>NaN</td>\n",
       "      <td>NaN</td>\n",
       "      <td>NaN</td>\n",
       "      <td>NaN</td>\n",
       "    </tr>\n",
       "    <tr>\n",
       "      <th>...</th>\n",
       "      <td>...</td>\n",
       "      <td>...</td>\n",
       "      <td>...</td>\n",
       "      <td>...</td>\n",
       "      <td>...</td>\n",
       "      <td>...</td>\n",
       "      <td>...</td>\n",
       "      <td>...</td>\n",
       "      <td>...</td>\n",
       "      <td>...</td>\n",
       "      <td>...</td>\n",
       "      <td>...</td>\n",
       "      <td>...</td>\n",
       "      <td>...</td>\n",
       "      <td>...</td>\n",
       "      <td>...</td>\n",
       "      <td>...</td>\n",
       "      <td>...</td>\n",
       "      <td>...</td>\n",
       "      <td>...</td>\n",
       "      <td>...</td>\n",
       "    </tr>\n",
       "    <tr>\n",
       "      <th>1569</th>\n",
       "      <td>Zero History</td>\n",
       "      <td>2011-01-01</td>\n",
       "      <td>John W Campbell Memorial Award</td>\n",
       "      <td>finalist</td>\n",
       "      <td>William Gibson</td>\n",
       "      <td>NaN</td>\n",
       "      <td>NaN</td>\n",
       "      <td>NaN</td>\n",
       "      <td>NaN</td>\n",
       "      <td>NaN</td>\n",
       "      <td>...</td>\n",
       "      <td>NaN</td>\n",
       "      <td>NaN</td>\n",
       "      <td>NaN</td>\n",
       "      <td>NaN</td>\n",
       "      <td>NaN</td>\n",
       "      <td>NaN</td>\n",
       "      <td>NaN</td>\n",
       "      <td>NaN</td>\n",
       "      <td>NaN</td>\n",
       "      <td>NaN</td>\n",
       "    </tr>\n",
       "    <tr>\n",
       "      <th>1571</th>\n",
       "      <td>Zig Zag</td>\n",
       "      <td>2008-01-01</td>\n",
       "      <td>John W Campbell Memorial Award</td>\n",
       "      <td>finalist</td>\n",
       "      <td>Jose Carlos Somoza</td>\n",
       "      <td>NaN</td>\n",
       "      <td>NaN</td>\n",
       "      <td>NaN</td>\n",
       "      <td>NaN</td>\n",
       "      <td>NaN</td>\n",
       "      <td>...</td>\n",
       "      <td>NaN</td>\n",
       "      <td>NaN</td>\n",
       "      <td>NaN</td>\n",
       "      <td>NaN</td>\n",
       "      <td>NaN</td>\n",
       "      <td>NaN</td>\n",
       "      <td>NaN</td>\n",
       "      <td>NaN</td>\n",
       "      <td>NaN</td>\n",
       "      <td>NaN</td>\n",
       "    </tr>\n",
       "    <tr>\n",
       "      <th>1572</th>\n",
       "      <td>Zoe's Tale</td>\n",
       "      <td>2009-01-01</td>\n",
       "      <td>Hugo Awards</td>\n",
       "      <td>nomination</td>\n",
       "      <td>John Scalzi</td>\n",
       "      <td>NaN</td>\n",
       "      <td>NaN</td>\n",
       "      <td>NaN</td>\n",
       "      <td>NaN</td>\n",
       "      <td>NaN</td>\n",
       "      <td>...</td>\n",
       "      <td>NaN</td>\n",
       "      <td>NaN</td>\n",
       "      <td>NaN</td>\n",
       "      <td>NaN</td>\n",
       "      <td>NaN</td>\n",
       "      <td>NaN</td>\n",
       "      <td>NaN</td>\n",
       "      <td>NaN</td>\n",
       "      <td>NaN</td>\n",
       "      <td>NaN</td>\n",
       "    </tr>\n",
       "    <tr>\n",
       "      <th>1574</th>\n",
       "      <td>Ægypt</td>\n",
       "      <td>1988-01-01</td>\n",
       "      <td>World Fantasy Awards</td>\n",
       "      <td>nomination</td>\n",
       "      <td>John Crowley</td>\n",
       "      <td>NaN</td>\n",
       "      <td>NaN</td>\n",
       "      <td>NaN</td>\n",
       "      <td>NaN</td>\n",
       "      <td>NaN</td>\n",
       "      <td>...</td>\n",
       "      <td>NaN</td>\n",
       "      <td>NaN</td>\n",
       "      <td>NaN</td>\n",
       "      <td>NaN</td>\n",
       "      <td>NaN</td>\n",
       "      <td>NaN</td>\n",
       "      <td>NaN</td>\n",
       "      <td>NaN</td>\n",
       "      <td>NaN</td>\n",
       "      <td>NaN</td>\n",
       "    </tr>\n",
       "    <tr>\n",
       "      <th>1575</th>\n",
       "      <td>Æstival Tide</td>\n",
       "      <td>1993-01-01</td>\n",
       "      <td>Philip K Dick Award</td>\n",
       "      <td>finalist</td>\n",
       "      <td>Elizabeth Hand</td>\n",
       "      <td>NaN</td>\n",
       "      <td>NaN</td>\n",
       "      <td>NaN</td>\n",
       "      <td>NaN</td>\n",
       "      <td>NaN</td>\n",
       "      <td>...</td>\n",
       "      <td>NaN</td>\n",
       "      <td>NaN</td>\n",
       "      <td>NaN</td>\n",
       "      <td>NaN</td>\n",
       "      <td>NaN</td>\n",
       "      <td>NaN</td>\n",
       "      <td>NaN</td>\n",
       "      <td>NaN</td>\n",
       "      <td>NaN</td>\n",
       "      <td>NaN</td>\n",
       "    </tr>\n",
       "  </tbody>\n",
       "</table>\n",
       "<p>1260 rows × 49 columns</p>\n",
       "</div>"
      ],
      "text/plain": [
       "                      title       year                           award  \\\n",
       "1              (R)evolution 2016-01-01             Philip K Dick Award   \n",
       "2     ...And Call Me Conrad 1966-01-01                     Hugo Awards   \n",
       "3     ...And Having Writ... 1979-01-01  John W Campbell Memorial Award   \n",
       "4                   / Slant 1998-01-01  John W Campbell Memorial Award   \n",
       "6         2010: Odyssey Two 1983-01-01                     Hugo Awards   \n",
       "...                     ...        ...                             ...   \n",
       "1569           Zero History 2011-01-01  John W Campbell Memorial Award   \n",
       "1571                Zig Zag 2008-01-01  John W Campbell Memorial Award   \n",
       "1572             Zoe's Tale 2009-01-01                     Hugo Awards   \n",
       "1574                  Ægypt 1988-01-01            World Fantasy Awards   \n",
       "1575           Æstival Tide 1993-01-01             Philip K Dick Award   \n",
       "\n",
       "                 result             nominee books_count reviews_count  \\\n",
       "1              finalist           PJ Manney         NaN           NaN   \n",
       "2          winner (tie)       Roger Zelazny         NaN           NaN   \n",
       "3     honorable mention    Donald R. Bensen         NaN           NaN   \n",
       "4          second place           Greg Bear         NaN           NaN   \n",
       "6            nomination    Arthur C. Clarke         NaN           NaN   \n",
       "...                 ...                 ...         ...           ...   \n",
       "1569           finalist      William Gibson         NaN           NaN   \n",
       "1571           finalist  Jose Carlos Somoza         NaN           NaN   \n",
       "1572         nomination         John Scalzi         NaN           NaN   \n",
       "1574         nomination        John Crowley         NaN           NaN   \n",
       "1575           finalist      Elizabeth Hand         NaN           NaN   \n",
       "\n",
       "     original_publication_month default_description_language_code  \\\n",
       "1                           NaN                               NaN   \n",
       "2                           NaN                               NaN   \n",
       "3                           NaN                               NaN   \n",
       "4                           NaN                               NaN   \n",
       "6                           NaN                               NaN   \n",
       "...                         ...                               ...   \n",
       "1569                        NaN                               NaN   \n",
       "1571                        NaN                               NaN   \n",
       "1572                        NaN                               NaN   \n",
       "1574                        NaN                               NaN   \n",
       "1575                        NaN                               NaN   \n",
       "\n",
       "     text_reviews_count  ... publication_day isbn13 publication_month  \\\n",
       "1                   NaN  ...             NaN    NaN               NaN   \n",
       "2                   NaN  ...             NaN    NaN               NaN   \n",
       "3                   NaN  ...             NaN    NaN               NaN   \n",
       "4                   NaN  ...             NaN    NaN               NaN   \n",
       "6                   NaN  ...             NaN    NaN               NaN   \n",
       "...                 ...  ...             ...    ...               ...   \n",
       "1569                NaN  ...             NaN    NaN               NaN   \n",
       "1571                NaN  ...             NaN    NaN               NaN   \n",
       "1572                NaN  ...             NaN    NaN               NaN   \n",
       "1574                NaN  ...             NaN    NaN               NaN   \n",
       "1575                NaN  ...             NaN    NaN               NaN   \n",
       "\n",
       "     edition_information publication_year  url image_url ratings_count_right  \\\n",
       "1                    NaN              NaN  NaN       NaN                 NaN   \n",
       "2                    NaN              NaN  NaN       NaN                 NaN   \n",
       "3                    NaN              NaN  NaN       NaN                 NaN   \n",
       "4                    NaN              NaN  NaN       NaN                 NaN   \n",
       "6                    NaN              NaN  NaN       NaN                 NaN   \n",
       "...                  ...              ...  ...       ...                 ...   \n",
       "1569                 NaN              NaN  NaN       NaN                 NaN   \n",
       "1571                 NaN              NaN  NaN       NaN                 NaN   \n",
       "1572                 NaN              NaN  NaN       NaN                 NaN   \n",
       "1574                 NaN              NaN  NaN       NaN                 NaN   \n",
       "1575                 NaN              NaN  NaN       NaN                 NaN   \n",
       "\n",
       "     work_id_right title_without_series  \n",
       "1              NaN                  NaN  \n",
       "2              NaN                  NaN  \n",
       "3              NaN                  NaN  \n",
       "4              NaN                  NaN  \n",
       "6              NaN                  NaN  \n",
       "...            ...                  ...  \n",
       "1569           NaN                  NaN  \n",
       "1571           NaN                  NaN  \n",
       "1572           NaN                  NaN  \n",
       "1574           NaN                  NaN  \n",
       "1575           NaN                  NaN  \n",
       "\n",
       "[1260 rows x 49 columns]"
      ]
     },
     "execution_count": 13,
     "metadata": {},
     "output_type": "execute_result"
    }
   ],
   "source": [
    "merged_awards = awards.merge(df, left_on=\"title\", right_on=\"title\", how=\"left\")\n",
    "merged_awards[merged_awards.isbn.isna()]"
   ]
  },
  {
   "cell_type": "code",
   "execution_count": 147,
   "metadata": {},
   "outputs": [],
   "source": [
    "def make_publication_date(row):\n",
    "    if row.map(lambda x: x == '').any():\n",
    "        return pd.NaT\n",
    "    return pd.to_datetime(row.astype(str).str.cat(sep='-'))"
   ]
  },
  {
   "cell_type": "code",
   "execution_count": 148,
   "metadata": {},
   "outputs": [
    {
     "data": {
      "text/html": [
       "<div>\n",
       "<style scoped>\n",
       "    .dataframe tbody tr th:only-of-type {\n",
       "        vertical-align: middle;\n",
       "    }\n",
       "\n",
       "    .dataframe tbody tr th {\n",
       "        vertical-align: top;\n",
       "    }\n",
       "\n",
       "    .dataframe thead th {\n",
       "        text-align: right;\n",
       "    }\n",
       "</style>\n",
       "<table border=\"1\" class=\"dataframe\">\n",
       "  <thead>\n",
       "    <tr style=\"text-align: right;\">\n",
       "      <th></th>\n",
       "      <th>title_without_series</th>\n",
       "      <th>average_rating</th>\n",
       "      <th>ratings_count</th>\n",
       "      <th>text_reviews_count</th>\n",
       "      <th>num_pages</th>\n",
       "      <th>publisher</th>\n",
       "      <th>publication_year</th>\n",
       "      <th>in_series</th>\n",
       "      <th>publisher_count</th>\n",
       "      <th>publication_date</th>\n",
       "    </tr>\n",
       "  </thead>\n",
       "  <tbody>\n",
       "    <tr>\n",
       "      <th>1</th>\n",
       "      <td>Fortune's Pawn (Paradox, #1)</td>\n",
       "      <td>3.96</td>\n",
       "      <td>1023</td>\n",
       "      <td>86</td>\n",
       "      <td>340.0</td>\n",
       "      <td></td>\n",
       "      <td></td>\n",
       "      <td>1</td>\n",
       "      <td>NaN</td>\n",
       "      <td>NaT</td>\n",
       "    </tr>\n",
       "    <tr>\n",
       "      <th>2</th>\n",
       "      <td>Peter Nimble and His Fantastic Eyes (Peter Nim...</td>\n",
       "      <td>4.04</td>\n",
       "      <td>6049</td>\n",
       "      <td>890</td>\n",
       "      <td>400.0</td>\n",
       "      <td>Amulet Books</td>\n",
       "      <td>2011</td>\n",
       "      <td>1</td>\n",
       "      <td>16.0</td>\n",
       "      <td>2011-08-01</td>\n",
       "    </tr>\n",
       "    <tr>\n",
       "      <th>3</th>\n",
       "      <td>Collide (Collide, #1)</td>\n",
       "      <td>3.86</td>\n",
       "      <td>5125</td>\n",
       "      <td>346</td>\n",
       "      <td>360.0</td>\n",
       "      <td></td>\n",
       "      <td>2011</td>\n",
       "      <td>1</td>\n",
       "      <td>NaN</td>\n",
       "      <td>2011-06-12</td>\n",
       "    </tr>\n",
       "    <tr>\n",
       "      <th>4</th>\n",
       "      <td>The Disappearances</td>\n",
       "      <td>4.13</td>\n",
       "      <td>1092</td>\n",
       "      <td>325</td>\n",
       "      <td>388.0</td>\n",
       "      <td>HMH Books for Young Readers</td>\n",
       "      <td>2017</td>\n",
       "      <td>0</td>\n",
       "      <td>89.0</td>\n",
       "      <td>2017-07-04</td>\n",
       "    </tr>\n",
       "    <tr>\n",
       "      <th>5</th>\n",
       "      <td>A Quick Bite (Argeneau #1)</td>\n",
       "      <td>3.91</td>\n",
       "      <td>32140</td>\n",
       "      <td>1223</td>\n",
       "      <td>360.0</td>\n",
       "      <td>Avon</td>\n",
       "      <td>2005</td>\n",
       "      <td>1</td>\n",
       "      <td>61.0</td>\n",
       "      <td>2005-10-25</td>\n",
       "    </tr>\n",
       "  </tbody>\n",
       "</table>\n",
       "</div>"
      ],
      "text/plain": [
       "                                title_without_series  average_rating  \\\n",
       "1                       Fortune's Pawn (Paradox, #1)            3.96   \n",
       "2  Peter Nimble and His Fantastic Eyes (Peter Nim...            4.04   \n",
       "3                              Collide (Collide, #1)            3.86   \n",
       "4                                 The Disappearances            4.13   \n",
       "5                         A Quick Bite (Argeneau #1)            3.91   \n",
       "\n",
       "   ratings_count  text_reviews_count  num_pages                    publisher  \\\n",
       "1           1023                  86      340.0                                \n",
       "2           6049                 890      400.0                 Amulet Books   \n",
       "3           5125                 346      360.0                                \n",
       "4           1092                 325      388.0  HMH Books for Young Readers   \n",
       "5          32140                1223      360.0                         Avon   \n",
       "\n",
       "  publication_year  in_series  publisher_count publication_date  \n",
       "1                           1              NaN              NaT  \n",
       "2             2011          1             16.0       2011-08-01  \n",
       "3             2011          1              NaN       2011-06-12  \n",
       "4             2017          0             89.0       2017-07-04  \n",
       "5             2005          1             61.0       2005-10-25  "
      ]
     },
     "execution_count": 148,
     "metadata": {},
     "output_type": "execute_result"
    }
   ],
   "source": [
    "builtin_features = [\"title_without_series\", \"average_rating\", \"ratings_count\", \"text_reviews_count\", \"num_pages\", \"publisher\", \"publication_year\"]\n",
    "engineered_features = [\"in_series\", \"publisher_count\", \"publication_date\"]\n",
    "features = builtin_features + engineered_features\n",
    "\n",
    "books = df[language_mask].copy()\n",
    "\n",
    "books[\"num_pages\"] = books.num_pages.replace({'': pd.NA}).astype(pd.Float64Dtype())\n",
    "books[\"in_series\"] = books[\"series\"].apply(lambda x: len(x) > 0).astype(pd.Int64Dtype())\n",
    "\n",
    "publisher_counts = books[\"publisher\"].value_counts()\n",
    "# missing publisher for later imputing\n",
    "publisher_counts[''] = np.nan\n",
    "books[\"publisher_count\"] = books[\"publisher\"].map(publisher_counts)\n",
    "\n",
    "books[\"publication_date\"] = books[[\"publication_year\", \"publication_month\", \"publication_day\"]].apply(make_publication_date, axis='columns')\n",
    "\n",
    "books = books[features]\n",
    "books.head()"
   ]
  },
  {
   "cell_type": "code",
   "execution_count": 119,
   "metadata": {},
   "outputs": [
    {
     "data": {
      "text/plain": [
       "<Axes: xlabel='num_pages', ylabel='Density'>"
      ]
     },
     "execution_count": 119,
     "metadata": {},
     "output_type": "execute_result"
    },
    {
     "data": {
      "image/png": "[encoded data removed]",
      "text/plain": [
       "<Figure size 640x480 with 1 Axes>"
      ]
     },
     "metadata": {},
     "output_type": "display_data"
    }
   ],
   "source": [
    "sns.kdeplot(books.num_pages, fill=True)"
   ]
  },
  {
   "cell_type": "code",
   "execution_count": 124,
   "metadata": {},
   "outputs": [
    {
     "data": {
      "text/plain": [
       "<Axes: xlabel='num_pages', ylabel='average_rating'>"
      ]
     },
     "execution_count": 124,
     "metadata": {},
     "output_type": "execute_result"
    },
    {
     "data": {
      "image/png": "[encoded data removed]",
      "text/plain": [
       "<Figure size 640x480 with 1 Axes>"
      ]
     },
     "metadata": {},
     "output_type": "display_data"
    }
   ],
   "source": [
    "sns.scatterplot(x=\"num_pages\", y=\"average_rating\", data=books)"
   ]
  },
  {
   "cell_type": "code",
   "execution_count": 11,
   "metadata": {},
   "outputs": [
    {
     "data": {
      "text/plain": [
       "Index(['isbn', 'text_reviews_count', 'series', 'country_code', 'language_code',\n",
       "       'popular_shelves', 'asin', 'is_ebook', 'average_rating', 'kindle_asin',\n",
       "       'similar_books', 'description', 'format', 'link', 'authors',\n",
       "       'publisher', 'num_pages', 'publication_day', 'isbn13',\n",
       "       'publication_month', 'edition_information', 'publication_year', 'url',\n",
       "       'image_url', 'book_id', 'ratings_count', 'work_id', 'title',\n",
       "       'title_without_series'],\n",
       "      dtype='object')"
      ]
     },
     "execution_count": 11,
     "metadata": {},
     "output_type": "execute_result"
    }
   ],
   "source": [
    "df.columns"
   ]
  },
  {
   "cell_type": "code",
   "execution_count": 5,
   "metadata": {},
   "outputs": [
    {
     "data": {
      "text/plain": [
       "Index(['books_count', 'reviews_count', 'original_publication_month',\n",
       "       'default_description_language_code', 'text_reviews_count',\n",
       "       'best_book_id', 'original_publication_year', 'original_title',\n",
       "       'rating_dist', 'default_chaptering_book_id', 'original_publication_day',\n",
       "       'original_language_id', 'ratings_count', 'media_type', 'ratings_sum',\n",
       "       'work_id'],\n",
       "      dtype='object')"
      ]
     },
     "execution_count": 5,
     "metadata": {},
     "output_type": "execute_result"
    }
   ],
   "source": [
    "df_works = pd.read_json(\"../data/raw/goodreads_book_works.json.gz\", lines=True)\n",
    "df_works.columns"
   ]
  },
  {
   "cell_type": "code",
   "execution_count": 18,
   "metadata": {},
   "outputs": [],
   "source": [
    "df_combined = pd.merge(df, df_works, on='work_id').set_index('book_id')"
   ]
  },
  {
   "cell_type": "code",
   "execution_count": 23,
   "metadata": {},
   "outputs": [
    {
     "data": {
      "text/plain": [
       "147"
      ]
     },
     "execution_count": 23,
     "metadata": {},
     "output_type": "execute_result"
    }
   ],
   "source": [
    "len(set.difference(set(df_combined.best_book_id), set(df_combined.index)))"
   ]
  },
  {
   "cell_type": "code",
   "execution_count": 87,
   "metadata": {},
   "outputs": [
    {
     "data": {
      "text/plain": [
       "3    True\n",
       "Name: work_id, dtype: bool"
      ]
     },
     "execution_count": 87,
     "metadata": {},
     "output_type": "execute_result"
    }
   ],
   "source": [
    "df_combined[df_combined.book_id == df_combined.iloc[3].best_book_id].work_id == df_combined.work_id.iloc[3]"
   ]
  },
  {
   "cell_type": "code",
   "execution_count": 29,
   "metadata": {},
   "outputs": [],
   "source": [
    "def flatten_to_work(row):\n",
    "    first_row = row.iloc[0]\n",
    "    best_book_id = first_row.best_book_id\n",
    "    if best_book_id in row.index:\n",
    "        reference_row = row.loc[best_book_id]\n",
    "    else:\n",
    "        reference_row = first_row\n",
    "\n",
    "    return pd.DataFrame({\n",
    "        'Title': [reference_row.original_title],\n",
    "        'PubYear': [reference_row.original_publication_year],\n",
    "        'author_ids': [[author['author_id'] for entry in row.authors for author in entry]],\n",
    "        'popular_shelves': [[shelf for entry in row.popular_shelves for shelf in entry]],\n",
    "        'description': reference_row.description,\n",
    "        'num_pages': reference_row.num_pages\n",
    "    })\n",
    "\n",
    "df_collapsed = df_combined.groupby('work_id').apply(flatten_to_work, include_groups=False)"
   ]
  },
  {
   "cell_type": "code",
   "execution_count": 30,
   "metadata": {},
   "outputs": [
    {
     "data": {
      "text/html": [
       "<div>\n",
       "<style scoped>\n",
       "    .dataframe tbody tr th:only-of-type {\n",
       "        vertical-align: middle;\n",
       "    }\n",
       "\n",
       "    .dataframe tbody tr th {\n",
       "        vertical-align: top;\n",
       "    }\n",
       "\n",
       "    .dataframe thead th {\n",
       "        text-align: right;\n",
       "    }\n",
       "</style>\n",
       "<table border=\"1\" class=\"dataframe\">\n",
       "  <thead>\n",
       "    <tr style=\"text-align: right;\">\n",
       "      <th></th>\n",
       "      <th></th>\n",
       "      <th>Title</th>\n",
       "      <th>PubYear</th>\n",
       "      <th>author_ids</th>\n",
       "      <th>popular_shelves</th>\n",
       "      <th>description</th>\n",
       "      <th>num_pages</th>\n",
       "    </tr>\n",
       "    <tr>\n",
       "      <th>work_id</th>\n",
       "      <th></th>\n",
       "      <th></th>\n",
       "      <th></th>\n",
       "      <th></th>\n",
       "      <th></th>\n",
       "      <th></th>\n",
       "      <th></th>\n",
       "    </tr>\n",
       "  </thead>\n",
       "  <tbody>\n",
       "    <tr>\n",
       "      <th>423</th>\n",
       "      <th>0</th>\n",
       "      <td>The Forever War</td>\n",
       "      <td>1974</td>\n",
       "      <td>[12476, 12476, 4763, 12476, 4763, 12476]</td>\n",
       "      <td>[{'count': '53676', 'name': 'to-read'}, {'coun...</td>\n",
       "      <td>Series Info:\\nThis is the first part of the \"F...</td>\n",
       "      <td>278</td>\n",
       "    </tr>\n",
       "    <tr>\n",
       "      <th>466</th>\n",
       "      <th>0</th>\n",
       "      <td>The Melancholy Death of Oyster Boy and Other S...</td>\n",
       "      <td>1997</td>\n",
       "      <td>[5773, 5773]</td>\n",
       "      <td>[{'count': '12411', 'name': 'to-read'}, {'coun...</td>\n",
       "      <td>From breathtaking stop-action animation to bit...</td>\n",
       "      <td>115</td>\n",
       "    </tr>\n",
       "    <tr>\n",
       "      <th>505</th>\n",
       "      <th>0</th>\n",
       "      <td>Sorcery and Cecelia or: The Enchanted Chocolat...</td>\n",
       "      <td>1988</td>\n",
       "      <td>[36122, 36175]</td>\n",
       "      <td>[{'count': '12090', 'name': 'to-read'}, {'coun...</td>\n",
       "      <td>A great deal is happening in London and the co...</td>\n",
       "      <td>326</td>\n",
       "    </tr>\n",
       "    <tr>\n",
       "      <th>551</th>\n",
       "      <th>0</th>\n",
       "      <td>The Great Dune Trilogy</td>\n",
       "      <td>1977</td>\n",
       "      <td>[58]</td>\n",
       "      <td>[{'count': '13540', 'name': 'to-read'}, {'coun...</td>\n",
       "      <td>Herbert's evocative, epic tales are set on the...</td>\n",
       "      <td>910</td>\n",
       "    </tr>\n",
       "    <tr>\n",
       "      <th>555</th>\n",
       "      <th>0</th>\n",
       "      <td>The Renegades of Pern</td>\n",
       "      <td>1989</td>\n",
       "      <td>[26]</td>\n",
       "      <td>[{'count': '984', 'name': 'to-read'}, {'count'...</td>\n",
       "      <td>As long as the people of Pern could remember, ...</td>\n",
       "      <td>384</td>\n",
       "    </tr>\n",
       "  </tbody>\n",
       "</table>\n",
       "</div>"
      ],
      "text/plain": [
       "                                                       Title PubYear  \\\n",
       "work_id                                                                \n",
       "423     0                                    The Forever War    1974   \n",
       "466     0  The Melancholy Death of Oyster Boy and Other S...    1997   \n",
       "505     0  Sorcery and Cecelia or: The Enchanted Chocolat...    1988   \n",
       "551     0                             The Great Dune Trilogy    1977   \n",
       "555     0                              The Renegades of Pern    1989   \n",
       "\n",
       "                                         author_ids  \\\n",
       "work_id                                               \n",
       "423     0  [12476, 12476, 4763, 12476, 4763, 12476]   \n",
       "466     0                              [5773, 5773]   \n",
       "505     0                            [36122, 36175]   \n",
       "551     0                                      [58]   \n",
       "555     0                                      [26]   \n",
       "\n",
       "                                             popular_shelves  \\\n",
       "work_id                                                        \n",
       "423     0  [{'count': '53676', 'name': 'to-read'}, {'coun...   \n",
       "466     0  [{'count': '12411', 'name': 'to-read'}, {'coun...   \n",
       "505     0  [{'count': '12090', 'name': 'to-read'}, {'coun...   \n",
       "551     0  [{'count': '13540', 'name': 'to-read'}, {'coun...   \n",
       "555     0  [{'count': '984', 'name': 'to-read'}, {'count'...   \n",
       "\n",
       "                                                 description num_pages  \n",
       "work_id                                                                 \n",
       "423     0  Series Info:\\nThis is the first part of the \"F...       278  \n",
       "466     0  From breathtaking stop-action animation to bit...       115  \n",
       "505     0  A great deal is happening in London and the co...       326  \n",
       "551     0  Herbert's evocative, epic tales are set on the...       910  \n",
       "555     0  As long as the people of Pern could remember, ...       384  "
      ]
     },
     "execution_count": 30,
     "metadata": {},
     "output_type": "execute_result"
    }
   ],
   "source": [
    "df_collapsed.head()"
   ]
  },
  {
   "cell_type": "code",
   "execution_count": 31,
   "metadata": {},
   "outputs": [
    {
     "data": {
      "text/html": [
       "<div>\n",
       "<style scoped>\n",
       "    .dataframe tbody tr th:only-of-type {\n",
       "        vertical-align: middle;\n",
       "    }\n",
       "\n",
       "    .dataframe tbody tr th {\n",
       "        vertical-align: top;\n",
       "    }\n",
       "\n",
       "    .dataframe thead th {\n",
       "        text-align: right;\n",
       "    }\n",
       "</style>\n",
       "<table border=\"1\" class=\"dataframe\">\n",
       "  <thead>\n",
       "    <tr style=\"text-align: right;\">\n",
       "      <th></th>\n",
       "      <th>Title</th>\n",
       "      <th>PubYear</th>\n",
       "      <th>author_ids</th>\n",
       "      <th>popular_shelves</th>\n",
       "      <th>description</th>\n",
       "      <th>num_pages</th>\n",
       "    </tr>\n",
       "  </thead>\n",
       "  <tbody>\n",
       "    <tr>\n",
       "      <th>count</th>\n",
       "      <td>12165</td>\n",
       "      <td>12165</td>\n",
       "      <td>12165</td>\n",
       "      <td>12165</td>\n",
       "      <td>12165</td>\n",
       "      <td>12165</td>\n",
       "    </tr>\n",
       "    <tr>\n",
       "      <th>unique</th>\n",
       "      <td>9991</td>\n",
       "      <td>196</td>\n",
       "      <td>5157</td>\n",
       "      <td>12165</td>\n",
       "      <td>11684</td>\n",
       "      <td>932</td>\n",
       "    </tr>\n",
       "    <tr>\n",
       "      <th>top</th>\n",
       "      <td></td>\n",
       "      <td>2012</td>\n",
       "      <td>[8685]</td>\n",
       "      <td>[{'count': '53676', 'name': 'to-read'}, {'coun...</td>\n",
       "      <td></td>\n",
       "      <td></td>\n",
       "    </tr>\n",
       "    <tr>\n",
       "      <th>freq</th>\n",
       "      <td>1916</td>\n",
       "      <td>988</td>\n",
       "      <td>71</td>\n",
       "      <td>1</td>\n",
       "      <td>471</td>\n",
       "      <td>983</td>\n",
       "    </tr>\n",
       "  </tbody>\n",
       "</table>\n",
       "</div>"
      ],
      "text/plain": [
       "        Title PubYear author_ids  \\\n",
       "count   12165   12165      12165   \n",
       "unique   9991     196       5157   \n",
       "top              2012     [8685]   \n",
       "freq     1916     988         71   \n",
       "\n",
       "                                          popular_shelves description  \\\n",
       "count                                               12165       12165   \n",
       "unique                                              12165       11684   \n",
       "top     [{'count': '53676', 'name': 'to-read'}, {'coun...               \n",
       "freq                                                    1         471   \n",
       "\n",
       "       num_pages  \n",
       "count      12165  \n",
       "unique       932  \n",
       "top               \n",
       "freq         983  "
      ]
     },
     "execution_count": 31,
     "metadata": {},
     "output_type": "execute_result"
    }
   ],
   "source": [
    "df_collapsed.describe()"
   ]
  },
  {
   "cell_type": "code",
   "execution_count": 32,
   "metadata": {},
   "outputs": [
    {
     "data": {
      "text/plain": [
       "Title              12165\n",
       "PubYear            12165\n",
       "author_ids         12165\n",
       "popular_shelves    12165\n",
       "description        12165\n",
       "num_pages          12165\n",
       "dtype: int64"
      ]
     },
     "execution_count": 32,
     "metadata": {},
     "output_type": "execute_result"
    }
   ],
   "source": [
    "df_collapsed.count()"
   ]
  },
  {
   "cell_type": "code",
   "execution_count": null,
   "metadata": {},
   "outputs": [],
   "source": []
  }
 ],
 "metadata": {
  "kernelspec": {
   "display_name": "default",
   "language": "python",
   "name": "python3"
  },
  "language_info": {
   "codemirror_mode": {
    "name": "ipython",
    "version": 3
   },
   "file_extension": ".py",
   "mimetype": "text/x-python",
   "name": "python",
   "nbconvert_exporter": "python",
   "pygments_lexer": "ipython3",
   "version": "3.11.12"
  }
 },
 "nbformat": 4,
 "nbformat_minor": 2
}
